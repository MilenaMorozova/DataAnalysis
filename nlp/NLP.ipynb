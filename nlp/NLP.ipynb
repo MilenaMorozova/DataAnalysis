{
 "cells": [
  {
   "cell_type": "code",
   "execution_count": 2,
   "metadata": {
    "id": "zPrdZHEjyRlX"
   },
   "outputs": [],
   "source": [
    "import random\n",
    "from datetime import datetime\n",
    "import os\n",
    "\n",
    "import pandas as pd\n",
    "from sklearn.model_selection import train_test_split\n",
    "import torch\n",
    "import torch.nn.functional as F\n",
    "from torch.utils.data import Dataset, DataLoader\n",
    "from torch import nn, utils, optim\n",
    "from torchtext.data.utils import get_tokenizer\n",
    "from torchtext.vocab import build_vocab_from_iterator\n",
    "from tqdm.notebook import tqdm"
   ]
  },
  {
   "cell_type": "markdown",
   "metadata": {
    "id": "irCmKLpE1ho_"
   },
   "source": [
    "Ссылка на датасет - https://www.kaggle.com/clmentbisaillon/fake-and-real-news-dataset\n",
    "\n",
    "Задача: Даны новости. Обучить модель, которая должна определить реальная новость или выдуманная."
   ]
  },
  {
   "cell_type": "code",
   "execution_count": 3,
   "metadata": {
    "id": "29EKujJByRlc"
   },
   "outputs": [],
   "source": [
    "RANDOM_STATE = 17\n",
    "torch.manual_seed(RANDOM_STATE)\n",
    "random.seed = RANDOM_STATE"
   ]
  },
  {
   "cell_type": "code",
   "execution_count": 4,
   "metadata": {
    "colab": {
     "base_uri": "https://localhost:8080/",
     "height": 202
    },
    "id": "sGsQmP9ZyRlc",
    "outputId": "d8e25028-a866-4032-ec01-6777e8d39b49"
   },
   "outputs": [
    {
     "data": {
      "text/html": [
       "<div>\n",
       "<style scoped>\n",
       "    .dataframe tbody tr th:only-of-type {\n",
       "        vertical-align: middle;\n",
       "    }\n",
       "\n",
       "    .dataframe tbody tr th {\n",
       "        vertical-align: top;\n",
       "    }\n",
       "\n",
       "    .dataframe thead th {\n",
       "        text-align: right;\n",
       "    }\n",
       "</style>\n",
       "<table border=\"1\" class=\"dataframe\">\n",
       "  <thead>\n",
       "    <tr style=\"text-align: right;\">\n",
       "      <th></th>\n",
       "      <th>title</th>\n",
       "      <th>text</th>\n",
       "      <th>subject</th>\n",
       "      <th>date</th>\n",
       "      <th>target</th>\n",
       "    </tr>\n",
       "  </thead>\n",
       "  <tbody>\n",
       "    <tr>\n",
       "      <th>0</th>\n",
       "      <td>As U.S. budget fight looms, Republicans flip t...</td>\n",
       "      <td>WASHINGTON (Reuters) - The head of a conservat...</td>\n",
       "      <td>politicsNews</td>\n",
       "      <td>December 31, 2017</td>\n",
       "      <td>True</td>\n",
       "    </tr>\n",
       "    <tr>\n",
       "      <th>1</th>\n",
       "      <td>U.S. military to accept transgender recruits o...</td>\n",
       "      <td>WASHINGTON (Reuters) - Transgender people will...</td>\n",
       "      <td>politicsNews</td>\n",
       "      <td>December 29, 2017</td>\n",
       "      <td>True</td>\n",
       "    </tr>\n",
       "    <tr>\n",
       "      <th>2</th>\n",
       "      <td>Senior U.S. Republican senator: 'Let Mr. Muell...</td>\n",
       "      <td>WASHINGTON (Reuters) - The special counsel inv...</td>\n",
       "      <td>politicsNews</td>\n",
       "      <td>December 31, 2017</td>\n",
       "      <td>True</td>\n",
       "    </tr>\n",
       "    <tr>\n",
       "      <th>3</th>\n",
       "      <td>FBI Russia probe helped by Australian diplomat...</td>\n",
       "      <td>WASHINGTON (Reuters) - Trump campaign adviser ...</td>\n",
       "      <td>politicsNews</td>\n",
       "      <td>December 30, 2017</td>\n",
       "      <td>True</td>\n",
       "    </tr>\n",
       "    <tr>\n",
       "      <th>4</th>\n",
       "      <td>Trump wants Postal Service to charge 'much mor...</td>\n",
       "      <td>SEATTLE/WASHINGTON (Reuters) - President Donal...</td>\n",
       "      <td>politicsNews</td>\n",
       "      <td>December 29, 2017</td>\n",
       "      <td>True</td>\n",
       "    </tr>\n",
       "  </tbody>\n",
       "</table>\n",
       "</div>"
      ],
      "text/plain": [
       "                                               title  \\\n",
       "0  As U.S. budget fight looms, Republicans flip t...   \n",
       "1  U.S. military to accept transgender recruits o...   \n",
       "2  Senior U.S. Republican senator: 'Let Mr. Muell...   \n",
       "3  FBI Russia probe helped by Australian diplomat...   \n",
       "4  Trump wants Postal Service to charge 'much mor...   \n",
       "\n",
       "                                                text       subject  \\\n",
       "0  WASHINGTON (Reuters) - The head of a conservat...  politicsNews   \n",
       "1  WASHINGTON (Reuters) - Transgender people will...  politicsNews   \n",
       "2  WASHINGTON (Reuters) - The special counsel inv...  politicsNews   \n",
       "3  WASHINGTON (Reuters) - Trump campaign adviser ...  politicsNews   \n",
       "4  SEATTLE/WASHINGTON (Reuters) - President Donal...  politicsNews   \n",
       "\n",
       "                 date  target  \n",
       "0  December 31, 2017     True  \n",
       "1  December 29, 2017     True  \n",
       "2  December 31, 2017     True  \n",
       "3  December 30, 2017     True  \n",
       "4  December 29, 2017     True  "
      ]
     },
     "execution_count": 4,
     "metadata": {},
     "output_type": "execute_result"
    }
   ],
   "source": [
    "true_data_path = os.path.join('data', 'True.csv')\n",
    "true_data = pd.read_csv(true_data_path)\n",
    "true_data['target'] = True\n",
    "true_data.head()"
   ]
  },
  {
   "cell_type": "code",
   "execution_count": 5,
   "metadata": {
    "colab": {
     "base_uri": "https://localhost:8080/",
     "height": 202
    },
    "id": "W0aufUzryRld",
    "outputId": "c1d22511-8b59-4373-f0ed-8d2f00d4631b",
    "scrolled": true
   },
   "outputs": [
    {
     "data": {
      "text/html": [
       "<div>\n",
       "<style scoped>\n",
       "    .dataframe tbody tr th:only-of-type {\n",
       "        vertical-align: middle;\n",
       "    }\n",
       "\n",
       "    .dataframe tbody tr th {\n",
       "        vertical-align: top;\n",
       "    }\n",
       "\n",
       "    .dataframe thead th {\n",
       "        text-align: right;\n",
       "    }\n",
       "</style>\n",
       "<table border=\"1\" class=\"dataframe\">\n",
       "  <thead>\n",
       "    <tr style=\"text-align: right;\">\n",
       "      <th></th>\n",
       "      <th>title</th>\n",
       "      <th>text</th>\n",
       "      <th>subject</th>\n",
       "      <th>date</th>\n",
       "      <th>target</th>\n",
       "    </tr>\n",
       "  </thead>\n",
       "  <tbody>\n",
       "    <tr>\n",
       "      <th>0</th>\n",
       "      <td>Donald Trump Sends Out Embarrassing New Year’...</td>\n",
       "      <td>Donald Trump just couldn t wish all Americans ...</td>\n",
       "      <td>News</td>\n",
       "      <td>December 31, 2017</td>\n",
       "      <td>False</td>\n",
       "    </tr>\n",
       "    <tr>\n",
       "      <th>1</th>\n",
       "      <td>Drunk Bragging Trump Staffer Started Russian ...</td>\n",
       "      <td>House Intelligence Committee Chairman Devin Nu...</td>\n",
       "      <td>News</td>\n",
       "      <td>December 31, 2017</td>\n",
       "      <td>False</td>\n",
       "    </tr>\n",
       "    <tr>\n",
       "      <th>2</th>\n",
       "      <td>Sheriff David Clarke Becomes An Internet Joke...</td>\n",
       "      <td>On Friday, it was revealed that former Milwauk...</td>\n",
       "      <td>News</td>\n",
       "      <td>December 30, 2017</td>\n",
       "      <td>False</td>\n",
       "    </tr>\n",
       "    <tr>\n",
       "      <th>3</th>\n",
       "      <td>Trump Is So Obsessed He Even Has Obama’s Name...</td>\n",
       "      <td>On Christmas day, Donald Trump announced that ...</td>\n",
       "      <td>News</td>\n",
       "      <td>December 29, 2017</td>\n",
       "      <td>False</td>\n",
       "    </tr>\n",
       "    <tr>\n",
       "      <th>4</th>\n",
       "      <td>Pope Francis Just Called Out Donald Trump Dur...</td>\n",
       "      <td>Pope Francis used his annual Christmas Day mes...</td>\n",
       "      <td>News</td>\n",
       "      <td>December 25, 2017</td>\n",
       "      <td>False</td>\n",
       "    </tr>\n",
       "  </tbody>\n",
       "</table>\n",
       "</div>"
      ],
      "text/plain": [
       "                                               title  \\\n",
       "0   Donald Trump Sends Out Embarrassing New Year’...   \n",
       "1   Drunk Bragging Trump Staffer Started Russian ...   \n",
       "2   Sheriff David Clarke Becomes An Internet Joke...   \n",
       "3   Trump Is So Obsessed He Even Has Obama’s Name...   \n",
       "4   Pope Francis Just Called Out Donald Trump Dur...   \n",
       "\n",
       "                                                text subject  \\\n",
       "0  Donald Trump just couldn t wish all Americans ...    News   \n",
       "1  House Intelligence Committee Chairman Devin Nu...    News   \n",
       "2  On Friday, it was revealed that former Milwauk...    News   \n",
       "3  On Christmas day, Donald Trump announced that ...    News   \n",
       "4  Pope Francis used his annual Christmas Day mes...    News   \n",
       "\n",
       "                date  target  \n",
       "0  December 31, 2017   False  \n",
       "1  December 31, 2017   False  \n",
       "2  December 30, 2017   False  \n",
       "3  December 29, 2017   False  \n",
       "4  December 25, 2017   False  "
      ]
     },
     "execution_count": 5,
     "metadata": {},
     "output_type": "execute_result"
    }
   ],
   "source": [
    "fake_data_path = os.path.join('data', 'Fake.csv')\n",
    "fake_data = pd.read_csv(fake_data_path)\n",
    "fake_data['target'] = False\n",
    "fake_data.head()"
   ]
  },
  {
   "cell_type": "code",
   "execution_count": 6,
   "metadata": {
    "colab": {
     "base_uri": "https://localhost:8080/",
     "height": 202
    },
    "id": "oDA225XnyRle",
    "outputId": "bdbc5bfe-736d-442c-ea21-9eb7ccf0f7fe"
   },
   "outputs": [
    {
     "data": {
      "text/html": [
       "<div>\n",
       "<style scoped>\n",
       "    .dataframe tbody tr th:only-of-type {\n",
       "        vertical-align: middle;\n",
       "    }\n",
       "\n",
       "    .dataframe tbody tr th {\n",
       "        vertical-align: top;\n",
       "    }\n",
       "\n",
       "    .dataframe thead th {\n",
       "        text-align: right;\n",
       "    }\n",
       "</style>\n",
       "<table border=\"1\" class=\"dataframe\">\n",
       "  <thead>\n",
       "    <tr style=\"text-align: right;\">\n",
       "      <th></th>\n",
       "      <th>title</th>\n",
       "      <th>text</th>\n",
       "      <th>subject</th>\n",
       "      <th>date</th>\n",
       "      <th>target</th>\n",
       "    </tr>\n",
       "  </thead>\n",
       "  <tbody>\n",
       "    <tr>\n",
       "      <th>0</th>\n",
       "      <td>Reeking Of Desperation, Trump Sends Out ‘Poll...</td>\n",
       "      <td>Facing corruption scandals, nepotism scandals,...</td>\n",
       "      <td>News</td>\n",
       "      <td>March 23, 2017</td>\n",
       "      <td>False</td>\n",
       "    </tr>\n",
       "    <tr>\n",
       "      <th>1</th>\n",
       "      <td>Trump dictated misleading statement on son's m...</td>\n",
       "      <td>WASHINGTON (Reuters) - U.S. President Donald T...</td>\n",
       "      <td>politicsNews</td>\n",
       "      <td>August 1, 2017</td>\n",
       "      <td>True</td>\n",
       "    </tr>\n",
       "    <tr>\n",
       "      <th>2</th>\n",
       "      <td>Former soccer star Kaladze runs for mayor in G...</td>\n",
       "      <td>TBILISI (Reuters) - Kakha Kaladze climbed to t...</td>\n",
       "      <td>worldnews</td>\n",
       "      <td>October 19, 2017</td>\n",
       "      <td>True</td>\n",
       "    </tr>\n",
       "    <tr>\n",
       "      <th>3</th>\n",
       "      <td>Puerto Rico governor ups revenue forecast in r...</td>\n",
       "      <td>(Reuters) - Puerto Rico’s governor said on Sat...</td>\n",
       "      <td>politicsNews</td>\n",
       "      <td>March 11, 2017</td>\n",
       "      <td>True</td>\n",
       "    </tr>\n",
       "    <tr>\n",
       "      <th>4</th>\n",
       "      <td>Trump Put An American Flag On His Birthday Tw...</td>\n",
       "      <td>It seems that Donald Trump is often incapable ...</td>\n",
       "      <td>News</td>\n",
       "      <td>April 27, 2017</td>\n",
       "      <td>False</td>\n",
       "    </tr>\n",
       "  </tbody>\n",
       "</table>\n",
       "</div>"
      ],
      "text/plain": [
       "                                               title  \\\n",
       "0   Reeking Of Desperation, Trump Sends Out ‘Poll...   \n",
       "1  Trump dictated misleading statement on son's m...   \n",
       "2  Former soccer star Kaladze runs for mayor in G...   \n",
       "3  Puerto Rico governor ups revenue forecast in r...   \n",
       "4   Trump Put An American Flag On His Birthday Tw...   \n",
       "\n",
       "                                                text       subject  \\\n",
       "0  Facing corruption scandals, nepotism scandals,...          News   \n",
       "1  WASHINGTON (Reuters) - U.S. President Donald T...  politicsNews   \n",
       "2  TBILISI (Reuters) - Kakha Kaladze climbed to t...     worldnews   \n",
       "3  (Reuters) - Puerto Rico’s governor said on Sat...  politicsNews   \n",
       "4  It seems that Donald Trump is often incapable ...          News   \n",
       "\n",
       "                date  target  \n",
       "0     March 23, 2017   False  \n",
       "1    August 1, 2017     True  \n",
       "2  October 19, 2017     True  \n",
       "3    March 11, 2017     True  \n",
       "4     April 27, 2017   False  "
      ]
     },
     "execution_count": 6,
     "metadata": {},
     "output_type": "execute_result"
    }
   ],
   "source": [
    "data = pd.concat([true_data, fake_data], ignore_index=True)\n",
    "data = data.sample(frac=1, random_state=RANDOM_STATE).reset_index(drop=True)\n",
    "data.head()"
   ]
  },
  {
   "cell_type": "markdown",
   "metadata": {
    "id": "PeUY2wUfyRlf"
   },
   "source": [
    "### Preprocessing "
   ]
  },
  {
   "cell_type": "code",
   "execution_count": null,
   "metadata": {
    "id": "dkAM4YVNyRle"
   },
   "outputs": [],
   "source": [
    "TEXT_COLUMNS = ['title', 'text']"
   ]
  },
  {
   "cell_type": "markdown",
   "metadata": {
    "id": "B4OXH9cf6-TI"
   },
   "source": [
    "- Пробразование даты в `timestamp`"
   ]
  },
  {
   "cell_type": "code",
   "execution_count": null,
   "metadata": {
    "id": "WolaAzgLyRlg"
   },
   "outputs": [],
   "source": [
    "def date_to_timestamp(date):\n",
    "    formats = [\"%B %d, %Y\", \"%b %d, %Y\", \"%d-%b-%y\"]\n",
    "    for date_format in formats:\n",
    "        try:\n",
    "            return datetime.strptime(date.strip(), date_format).timestamp()\n",
    "        except:\n",
    "            pass\n",
    "    print(date)\n",
    "    return 0"
   ]
  },
  {
   "cell_type": "code",
   "execution_count": null,
   "metadata": {
    "colab": {
     "base_uri": "https://localhost:8080/",
     "height": 386
    },
    "id": "rLTpZKtN32c0",
    "outputId": "97e44978-599a-4978-deae-37870395c72c"
   },
   "outputs": [
    {
     "name": "stdout",
     "output_type": "stream",
     "text": [
      "BAD DATES\n",
      "https://fedup.wpengine.com/wp-content/uploads/2015/04/entitled.jpg\n",
      "https://fedup.wpengine.com/wp-content/uploads/2015/04/hillarystreetart.jpg\n",
      "https://fedup.wpengine.com/wp-content/uploads/2015/04/entitled.jpg\n",
      "https://fedup.wpengine.com/wp-content/uploads/2015/04/hillarystreetart.jpg\n",
      "https://fedup.wpengine.com/wp-content/uploads/2015/04/entitled.jpg\n",
      "https://100percentfedup.com/12-yr-old-black-conservative-whose-video-to-obama-went-viral-do-you-really-love-america-receives-death-threats-from-left/\n",
      "MSNBC HOST Rudely Assumes Steel Worker Would Never Let His Son Follow in His Footsteps…He Couldn’t Be More Wrong [Video]\n",
      "https://fedup.wpengine.com/wp-content/uploads/2015/04/hillarystreetart.jpg\n",
      "https://100percentfedup.com/served-roy-moore-vietnamletter-veteran-sets-record-straight-honorable-decent-respectable-patriotic-commander-soldier/\n",
      "https://100percentfedup.com/video-hillary-asked-about-trump-i-just-want-to-eat-some-pie/\n"
     ]
    },
    {
     "data": {
      "text/html": [
       "<div>\n",
       "<style scoped>\n",
       "    .dataframe tbody tr th:only-of-type {\n",
       "        vertical-align: middle;\n",
       "    }\n",
       "\n",
       "    .dataframe tbody tr th {\n",
       "        vertical-align: top;\n",
       "    }\n",
       "\n",
       "    .dataframe thead th {\n",
       "        text-align: right;\n",
       "    }\n",
       "</style>\n",
       "<table border=\"1\" class=\"dataframe\">\n",
       "  <thead>\n",
       "    <tr style=\"text-align: right;\">\n",
       "      <th></th>\n",
       "      <th>title</th>\n",
       "      <th>text</th>\n",
       "      <th>subject</th>\n",
       "      <th>date</th>\n",
       "      <th>target</th>\n",
       "    </tr>\n",
       "  </thead>\n",
       "  <tbody>\n",
       "    <tr>\n",
       "      <th>0</th>\n",
       "      <td>Reeking Of Desperation, Trump Sends Out ‘Poll...</td>\n",
       "      <td>Facing corruption scandals, nepotism scandals,...</td>\n",
       "      <td>News</td>\n",
       "      <td>1.490227e+09</td>\n",
       "      <td>False</td>\n",
       "    </tr>\n",
       "    <tr>\n",
       "      <th>1</th>\n",
       "      <td>Trump dictated misleading statement on son's m...</td>\n",
       "      <td>WASHINGTON (Reuters) - U.S. President Donald T...</td>\n",
       "      <td>politicsNews</td>\n",
       "      <td>1.501546e+09</td>\n",
       "      <td>True</td>\n",
       "    </tr>\n",
       "    <tr>\n",
       "      <th>2</th>\n",
       "      <td>Former soccer star Kaladze runs for mayor in G...</td>\n",
       "      <td>TBILISI (Reuters) - Kakha Kaladze climbed to t...</td>\n",
       "      <td>worldnews</td>\n",
       "      <td>1.508371e+09</td>\n",
       "      <td>True</td>\n",
       "    </tr>\n",
       "    <tr>\n",
       "      <th>3</th>\n",
       "      <td>Puerto Rico governor ups revenue forecast in r...</td>\n",
       "      <td>(Reuters) - Puerto Rico’s governor said on Sat...</td>\n",
       "      <td>politicsNews</td>\n",
       "      <td>1.489190e+09</td>\n",
       "      <td>True</td>\n",
       "    </tr>\n",
       "    <tr>\n",
       "      <th>4</th>\n",
       "      <td>Trump Put An American Flag On His Birthday Tw...</td>\n",
       "      <td>It seems that Donald Trump is often incapable ...</td>\n",
       "      <td>News</td>\n",
       "      <td>1.493251e+09</td>\n",
       "      <td>False</td>\n",
       "    </tr>\n",
       "  </tbody>\n",
       "</table>\n",
       "</div>"
      ],
      "text/plain": [
       "                                               title  ... target\n",
       "0   Reeking Of Desperation, Trump Sends Out ‘Poll...  ...  False\n",
       "1  Trump dictated misleading statement on son's m...  ...   True\n",
       "2  Former soccer star Kaladze runs for mayor in G...  ...   True\n",
       "3  Puerto Rico governor ups revenue forecast in r...  ...   True\n",
       "4   Trump Put An American Flag On His Birthday Tw...  ...  False\n",
       "\n",
       "[5 rows x 5 columns]"
      ]
     },
     "execution_count": 10,
     "metadata": {},
     "output_type": "execute_result"
    }
   ],
   "source": [
    "print('BAD DATES')    \n",
    "data['date'] = data['date'].apply(date_to_timestamp)\n",
    "data.head()"
   ]
  },
  {
   "cell_type": "markdown",
   "metadata": {
    "id": "oeqEK_OF7JAt"
   },
   "source": [
    "- Применение one-hot encoding для категориальных данных"
   ]
  },
  {
   "cell_type": "code",
   "execution_count": null,
   "metadata": {
    "colab": {
     "base_uri": "https://localhost:8080/"
    },
    "id": "aiy1ddky7dCT",
    "outputId": "4ab037e4-a021-4666-9968-c6592b3d9e82"
   },
   "outputs": [
    {
     "data": {
      "text/plain": [
       "array(['News', 'politicsNews', 'worldnews', 'politics', 'Government News',\n",
       "       'left-news', 'Middle-east', 'US_News'], dtype=object)"
      ]
     },
     "execution_count": 11,
     "metadata": {},
     "output_type": "execute_result"
    }
   ],
   "source": [
    "data.subject.unique()"
   ]
  },
  {
   "cell_type": "code",
   "execution_count": null,
   "metadata": {
    "colab": {
     "base_uri": "https://localhost:8080/",
     "height": 302
    },
    "id": "TgVO-XInyRli",
    "outputId": "8dd193c2-2d5c-4c8b-c7ac-773e23495dde"
   },
   "outputs": [
    {
     "data": {
      "text/html": [
       "<div>\n",
       "<style scoped>\n",
       "    .dataframe tbody tr th:only-of-type {\n",
       "        vertical-align: middle;\n",
       "    }\n",
       "\n",
       "    .dataframe tbody tr th {\n",
       "        vertical-align: top;\n",
       "    }\n",
       "\n",
       "    .dataframe thead th {\n",
       "        text-align: right;\n",
       "    }\n",
       "</style>\n",
       "<table border=\"1\" class=\"dataframe\">\n",
       "  <thead>\n",
       "    <tr style=\"text-align: right;\">\n",
       "      <th></th>\n",
       "      <th>title</th>\n",
       "      <th>text</th>\n",
       "      <th>date</th>\n",
       "      <th>target</th>\n",
       "      <th>Government News</th>\n",
       "      <th>Middle-east</th>\n",
       "      <th>News</th>\n",
       "      <th>US_News</th>\n",
       "      <th>left-news</th>\n",
       "      <th>politics</th>\n",
       "      <th>politicsNews</th>\n",
       "      <th>worldnews</th>\n",
       "    </tr>\n",
       "  </thead>\n",
       "  <tbody>\n",
       "    <tr>\n",
       "      <th>0</th>\n",
       "      <td>Reeking Of Desperation, Trump Sends Out ‘Poll...</td>\n",
       "      <td>Facing corruption scandals, nepotism scandals,...</td>\n",
       "      <td>1.490227e+09</td>\n",
       "      <td>False</td>\n",
       "      <td>0</td>\n",
       "      <td>0</td>\n",
       "      <td>1</td>\n",
       "      <td>0</td>\n",
       "      <td>0</td>\n",
       "      <td>0</td>\n",
       "      <td>0</td>\n",
       "      <td>0</td>\n",
       "    </tr>\n",
       "    <tr>\n",
       "      <th>1</th>\n",
       "      <td>Trump dictated misleading statement on son's m...</td>\n",
       "      <td>WASHINGTON (Reuters) - U.S. President Donald T...</td>\n",
       "      <td>1.501546e+09</td>\n",
       "      <td>True</td>\n",
       "      <td>0</td>\n",
       "      <td>0</td>\n",
       "      <td>0</td>\n",
       "      <td>0</td>\n",
       "      <td>0</td>\n",
       "      <td>0</td>\n",
       "      <td>1</td>\n",
       "      <td>0</td>\n",
       "    </tr>\n",
       "    <tr>\n",
       "      <th>2</th>\n",
       "      <td>Former soccer star Kaladze runs for mayor in G...</td>\n",
       "      <td>TBILISI (Reuters) - Kakha Kaladze climbed to t...</td>\n",
       "      <td>1.508371e+09</td>\n",
       "      <td>True</td>\n",
       "      <td>0</td>\n",
       "      <td>0</td>\n",
       "      <td>0</td>\n",
       "      <td>0</td>\n",
       "      <td>0</td>\n",
       "      <td>0</td>\n",
       "      <td>0</td>\n",
       "      <td>1</td>\n",
       "    </tr>\n",
       "    <tr>\n",
       "      <th>3</th>\n",
       "      <td>Puerto Rico governor ups revenue forecast in r...</td>\n",
       "      <td>(Reuters) - Puerto Rico’s governor said on Sat...</td>\n",
       "      <td>1.489190e+09</td>\n",
       "      <td>True</td>\n",
       "      <td>0</td>\n",
       "      <td>0</td>\n",
       "      <td>0</td>\n",
       "      <td>0</td>\n",
       "      <td>0</td>\n",
       "      <td>0</td>\n",
       "      <td>1</td>\n",
       "      <td>0</td>\n",
       "    </tr>\n",
       "    <tr>\n",
       "      <th>4</th>\n",
       "      <td>Trump Put An American Flag On His Birthday Tw...</td>\n",
       "      <td>It seems that Donald Trump is often incapable ...</td>\n",
       "      <td>1.493251e+09</td>\n",
       "      <td>False</td>\n",
       "      <td>0</td>\n",
       "      <td>0</td>\n",
       "      <td>1</td>\n",
       "      <td>0</td>\n",
       "      <td>0</td>\n",
       "      <td>0</td>\n",
       "      <td>0</td>\n",
       "      <td>0</td>\n",
       "    </tr>\n",
       "  </tbody>\n",
       "</table>\n",
       "</div>"
      ],
      "text/plain": [
       "                                               title  ... worldnews\n",
       "0   Reeking Of Desperation, Trump Sends Out ‘Poll...  ...         0\n",
       "1  Trump dictated misleading statement on son's m...  ...         0\n",
       "2  Former soccer star Kaladze runs for mayor in G...  ...         1\n",
       "3  Puerto Rico governor ups revenue forecast in r...  ...         0\n",
       "4   Trump Put An American Flag On His Birthday Tw...  ...         0\n",
       "\n",
       "[5 rows x 12 columns]"
      ]
     },
     "execution_count": 12,
     "metadata": {},
     "output_type": "execute_result"
    }
   ],
   "source": [
    "subjects_columns = pd.get_dummies(data.subject)\n",
    "data[subjects_columns.columns] = subjects_columns\n",
    "data.drop('subject', inplace=True, axis=1)\n",
    "data.head()"
   ]
  },
  {
   "cell_type": "markdown",
   "metadata": {
    "id": "fk8PBvP57yud"
   },
   "source": [
    "- Строим матрицу корреляции:"
   ]
  },
  {
   "cell_type": "code",
   "execution_count": null,
   "metadata": {
    "id": "nCt83cFU5v97"
   },
   "outputs": [],
   "source": [
    "import seaborn as sns"
   ]
  },
  {
   "cell_type": "code",
   "execution_count": null,
   "metadata": {
    "colab": {
     "base_uri": "https://localhost:8080/",
     "height": 369
    },
    "id": "VZuBYnN4yRlh",
    "outputId": "be80b5cf-7d8d-491f-9bfa-a527e078244b"
   },
   "outputs": [
    {
     "data": {
      "text/plain": [
       "<matplotlib.axes._subplots.AxesSubplot at 0x7f949d9d9b10>"
      ]
     },
     "execution_count": 14,
     "metadata": {},
     "output_type": "execute_result"
    },
    {
     "data": {
      "image/png": "[encoded data removed]",
      "text/plain": [
       "<Figure size 432x288 with 2 Axes>"
      ]
     },
     "metadata": {
      "needs_background": "light"
     },
     "output_type": "display_data"
    }
   ],
   "source": [
    "sns.heatmap(data.corr())"
   ]
  },
  {
   "cell_type": "markdown",
   "metadata": {
    "id": "Ih4LtJYN6Uh4"
   },
   "source": [
    "Вывод: \n",
    "  - Прямая зависимость между `target` и `worldnews`, `politicsNews`(примерно 0.7 в обоих случаях).\n",
    "  - Обратная зависимость между `target` и `News`(примерно -0.9)\n",
    "  - Поле `date` при обучении не будет рассмотриваться, потому что коэффициент корреляции низкий(около 0.3)."
   ]
  },
  {
   "cell_type": "markdown",
   "metadata": {
    "id": "do7qDz23yRlj"
   },
   "source": [
    "### Training"
   ]
  },
  {
   "cell_type": "code",
   "execution_count": null,
   "metadata": {
    "id": "5yoKjBkB6M-Z"
   },
   "outputs": [],
   "source": [
    "BATCH_SIZE = 8\n",
    "MAX_LEN = 30"
   ]
  },
  {
   "cell_type": "code",
   "execution_count": null,
   "metadata": {
    "id": "YTjB3CjSyRlk"
   },
   "outputs": [],
   "source": [
    "device = torch.device(\"cuda\" if torch.cuda.is_available() else \"cpu\")"
   ]
  },
  {
   "cell_type": "markdown",
   "metadata": {
    "id": "USdpEFqa8ydK"
   },
   "source": [
    "- делим данные на `train` и `test`"
   ]
  },
  {
   "cell_type": "code",
   "execution_count": null,
   "metadata": {
    "colab": {
     "base_uri": "https://localhost:8080/"
    },
    "id": "qw_YJVyOyRli",
    "outputId": "7eb922af-1f9f-44eb-b8c6-b6664177c82a"
   },
   "outputs": [
    {
     "name": "stdout",
     "output_type": "stream",
     "text": [
      "Train size =  40408\n",
      "Test size =  4490\n"
     ]
    }
   ],
   "source": [
    "data_train, data_test = train_test_split(data, test_size=0.1, random_state=RANDOM_STATE)\n",
    "print(\"Train size = \", len(data_train))\n",
    "print(\"Test size = \", len(data_test))"
   ]
  },
  {
   "cell_type": "code",
   "execution_count": null,
   "metadata": {
    "id": "DwDITDvpyRlj"
   },
   "outputs": [],
   "source": [
    "class CustomDataset(Dataset):\n",
    "    def __init__(self, data):\n",
    "        self.data = data\n",
    "        \n",
    "    def __len__(self):\n",
    "        return len(self.data)\n",
    "    \n",
    "    def __getitem__(self, idx):\n",
    "        return dict(self.data.iloc[idx])"
   ]
  },
  {
   "cell_type": "code",
   "execution_count": null,
   "metadata": {
    "id": "98hlr7mRyRlj"
   },
   "outputs": [],
   "source": [
    "train_dataset = CustomDataset(data_train)\n",
    "test_dataset = CustomDataset(data_test)"
   ]
  },
  {
   "cell_type": "markdown",
   "metadata": {
    "id": "BhJaz1P0IW86"
   },
   "source": [
    "- токенизируем"
   ]
  },
  {
   "cell_type": "code",
   "execution_count": null,
   "metadata": {
    "id": "I7N_RCQhH_L0"
   },
   "outputs": [],
   "source": [
    "UNK = \"UNK\"\n",
    "PAD = \"PAD\""
   ]
  },
  {
   "cell_type": "code",
   "execution_count": null,
   "metadata": {
    "id": "857u6dcqyRlk"
   },
   "outputs": [],
   "source": [
    "tokenizer = get_tokenizer('basic_english')"
   ]
  },
  {
   "cell_type": "code",
   "execution_count": null,
   "metadata": {
    "id": "skKNGAUsyRlk"
   },
   "outputs": [],
   "source": [
    "def yield_tokens(data: pd.DataFrame):\n",
    "    for i, row in data.iterrows():\n",
    "        yield tokenizer(row.text)\n",
    "        yield tokenizer(row.title)"
   ]
  },
  {
   "cell_type": "code",
   "execution_count": null,
   "metadata": {
    "id": "AFm7Zcz4HpvP"
   },
   "outputs": [],
   "source": [
    "vocab = build_vocab_from_iterator(yield_tokens(data), specials=[UNK, PAD])\n",
    "vocab.set_default_index(vocab[UNK])\n",
    "vocab.set_default_index(vocab[PAD])"
   ]
  },
  {
   "cell_type": "markdown",
   "metadata": {
    "id": "lf1sLVQpT0oc"
   },
   "source": [
    "Было принято решение: оставить все слова. Из-за того, что нейронка не знает правил расстановки знаков препинания и построения слов в предложении, то по неправильно построенному тексту можно понять, что новость поддельная."
   ]
  },
  {
   "cell_type": "code",
   "execution_count": null,
   "metadata": {
    "id": "btu5fmV4yRlk"
   },
   "outputs": [],
   "source": [
    "def text_pipeline(text):\n",
    "    tokens = vocab(tokenizer(text))\n",
    "    if len(tokens) >= MAX_LEN:\n",
    "        return tokens[:MAX_LEN]\n",
    "    return tokens + vocab([PAD] * (MAX_LEN - len(tokens)))"
   ]
  },
  {
   "cell_type": "markdown",
   "metadata": {
    "id": "TEUhHtnZL346"
   },
   "source": [
    "В качестве полей для последующих нейросеток будут взяты `title`и `text`."
   ]
  },
  {
   "cell_type": "code",
   "execution_count": null,
   "metadata": {
    "id": "MfzHtWgsyRll"
   },
   "outputs": [],
   "source": [
    "def collate_batch(batch):\n",
    "    processed_batch = []\n",
    "    text = []\n",
    "    title = []\n",
    "    target = []\n",
    "    for record in batch:\n",
    "        text.append(text_pipeline(record['text']))\n",
    "        title.append(text_pipeline(record['title']))\n",
    "        target.append(int(record['target']))\n",
    "    result_dict = {\n",
    "        'text': torch.tensor(text, dtype=torch.int64),\n",
    "        'title': torch.tensor(title, dtype=torch.int64),\n",
    "        'target': torch.tensor(target, dtype=torch.int64)\n",
    "    }\n",
    "    return result_dict"
   ]
  },
  {
   "cell_type": "code",
   "execution_count": null,
   "metadata": {
    "id": "y5puiP5xHujR"
   },
   "outputs": [],
   "source": [
    "train_loader = DataLoader(train_dataset, batch_size=BATCH_SIZE, collate_fn=collate_batch)\n",
    "test_loader = DataLoader(test_dataset, batch_size=BATCH_SIZE, collate_fn=collate_batch)"
   ]
  },
  {
   "cell_type": "code",
   "execution_count": null,
   "metadata": {
    "id": "aICuJXJoacx_"
   },
   "outputs": [],
   "source": [
    "import matplotlib.pyplot as plt\n",
    "\n",
    "def plot_loss_and_accuracy(loss, accuracy):\n",
    "  plt.figure(figsize=(16, 5))\n",
    "  plt.suptitle('Average values loss and accuracy at each epoch')\n",
    "\n",
    "  epochs = [i+1 for i in range(len(loss))]\n",
    "  plt.subplot(121)\n",
    "  plt.xlabel('Epoch')\n",
    "  plt.ylabel('Loss')\n",
    "  plt.plot(epochs, loss)\n",
    "  \n",
    "  plt.subplot(122)\n",
    "  plt.xlabel('Epoch')\n",
    "  plt.ylabel('Accuracy')\n",
    "  plt.plot(epochs, accuracy)"
   ]
  },
  {
   "cell_type": "code",
   "execution_count": null,
   "metadata": {
    "id": "b2utYJ0y-B-o"
   },
   "outputs": [],
   "source": [
    "def test_model(model):\n",
    "    global test_loader\n",
    "    global device\n",
    "    global test_dataset\n",
    "\n",
    "    correct = 0\n",
    "    total = len(test_dataset)\n",
    "    with torch.no_grad():\n",
    "        for fields_dict in test_loader:\n",
    "          for field in fields_dict:\n",
    "            fields_dict[field] = fields_dict[field].to(device)\n",
    "          outputs = model(**fields_dict)\n",
    "          _, predicted = torch.max(outputs.data, 1)\n",
    "\n",
    "          correct += (predicted == fields_dict['target']).sum().item()\n",
    "    accuracy = 100 * correct / total\n",
    "    print(f'Accuracy of the network: {accuracy}')\n",
    "    return accuracy"
   ]
  },
  {
   "cell_type": "code",
   "execution_count": null,
   "metadata": {
    "id": "IjFOV0ah7qU6"
   },
   "outputs": [],
   "source": [
    "def train_model(model, epoch = 1, lr = 0.005):\n",
    "    global device\n",
    "    global train_loader\n",
    "    \n",
    "    accuracy_values = []\n",
    "    loss_values = []\n",
    "    criterion = nn.CrossEntropyLoss()\n",
    "    optimizer = optim.SGD(model.parameters(), lr=lr, momentum=0.9)\n",
    "    total = len(train_loader) * epoch\n",
    "    progress_bar = iter(tqdm(range(total), total=total, desc=\"Processing records\"))\n",
    "    for epoch in range(epoch):  # loop over the dataset multiple times\n",
    "        running_loss = 0.0\n",
    "        for i, fields_dict in enumerate(train_loader):\n",
    "            next(progress_bar)\n",
    "            for field in fields_dict:\n",
    "              fields_dict[field] = fields_dict[field].to(device)\n",
    "            optimizer.zero_grad()\n",
    "            outputs = model(**fields_dict)\n",
    "            loss = criterion(outputs, fields_dict['target'])\n",
    "            loss.backward()\n",
    "            optimizer.step()\n",
    "            running_loss += loss.item()\n",
    "        average_loss = running_loss / len(train_loader)\n",
    "        loss_values.append(average_loss)\n",
    "        print(f'[{epoch + 1}] loss: {average_loss}')\n",
    "\n",
    "        average_accuracy = test_model(model)\n",
    "        accuracy_values.append(average_accuracy)\n",
    "    torch.cuda.empty_cache()\n",
    "    try:\n",
    "        next(progress_bar)\n",
    "    except StopIteration:\n",
    "        pass\n",
    "    print('Finished Training')\n",
    "    plot_loss_and_accuracy(loss_values, accuracy_values)"
   ]
  },
  {
   "cell_type": "markdown",
   "metadata": {
    "id": "NWFY5_izVMTx"
   },
   "source": [
    "- нейросеть с линейным слоем"
   ]
  },
  {
   "cell_type": "code",
   "execution_count": null,
   "metadata": {
    "id": "_U2Q3RrayRlm"
   },
   "outputs": [],
   "source": [
    "embed_dim = 64\n",
    "vocab_size = len(vocab)"
   ]
  },
  {
   "cell_type": "code",
   "execution_count": null,
   "metadata": {
    "id": "FXsoMdcYyRlm"
   },
   "outputs": [],
   "source": [
    "class LinearNet(nn.Module):\n",
    "    def __init__(self):\n",
    "        super(LinearNet, self).__init__()\n",
    "        self.embedding = nn.Embedding(vocab_size, embed_dim)\n",
    "        self.size = MAX_LEN * embed_dim\n",
    "        self.fc = nn.Linear(self.size * 2, 2)\n",
    "\n",
    "    def forward(self, text, title, **kwargs):\n",
    "        text = self.embedding(text)\n",
    "        title = self.embedding(title)\n",
    "        with torch.no_grad():\n",
    "            text = text.view(-1, self.size)\n",
    "            title = title.view(-1, self.size)\n",
    "            temp = torch.cat([text, title], 1)\n",
    "        return self.fc(temp)"
   ]
  },
  {
   "cell_type": "code",
   "execution_count": null,
   "metadata": {
    "colab": {
     "base_uri": "https://localhost:8080/",
     "height": 921,
     "referenced_widgets": [
      "0709233e35044a008d87cb4950e302b6",
      "4429e95951364f4989d6f2350228c34a",
      "99c74670a8d14e08bac4d2597d33d78f",
      "f46f88f04ced42fb8e13f817da35cbea",
      "b87bac22789d4f01b54ce4fe4d539e9e",
      "8145a0342ed942d7873b019f07272b51",
      "074e106072da43f5b258494109386349",
      "f5f10f6f1b4b4c05b8610e655acc0c82",
      "c94ed8ca270e46d18472567d826733eb",
      "d5d47176f34f4185bf21ad1a598c6877",
      "ab4aeba5a24d4a66abf804790a7b0add"
     ]
    },
    "id": "WM4wYFEYeoGR",
    "outputId": "6ec9d5f8-1430-4736-8b92-217903425b10"
   },
   "outputs": [
    {
     "data": {
      "application/vnd.jupyter.widget-view+json": {
       "model_id": "0709233e35044a008d87cb4950e302b6",
       "version_major": 2,
       "version_minor": 0
      },
      "text/plain": [
       "Processing records:   0%|          | 0/75765 [00:00<?, ?it/s]"
      ]
     },
     "metadata": {},
     "output_type": "display_data"
    },
    {
     "name": "stdout",
     "output_type": "stream",
     "text": [
      "[1] loss: 0.07092809870554026\n",
      "Accuracy of the network: 98.8195991091314\n",
      "[2] loss: 0.017004089682852077\n",
      "Accuracy of the network: 99.57683741648107\n",
      "[3] loss: 0.004950692366718137\n",
      "Accuracy of the network: 99.48775055679288\n",
      "[4] loss: 0.002389561092146556\n",
      "Accuracy of the network: 99.73273942093542\n",
      "[5] loss: 0.0013772424563867267\n",
      "Accuracy of the network: 99.71046770601336\n",
      "[6] loss: 0.0008384165896677318\n",
      "Accuracy of the network: 99.71046770601336\n",
      "[7] loss: 1.669594786215021e-05\n",
      "Accuracy of the network: 99.71046770601336\n",
      "[8] loss: 6.984977290758095e-06\n",
      "Accuracy of the network: 99.68819599109132\n",
      "[9] loss: 4.6702291744678315e-06\n",
      "Accuracy of the network: 99.68819599109132\n",
      "[10] loss: 4.0310745233780844e-06\n",
      "Accuracy of the network: 99.68819599109132\n",
      "[11] loss: 3.646252111542616e-06\n",
      "Accuracy of the network: 99.68819599109132\n",
      "[12] loss: 3.361476809341635e-06\n",
      "Accuracy of the network: 99.68819599109132\n",
      "[13] loss: 3.137047124685273e-06\n",
      "Accuracy of the network: 99.68819599109132\n",
      "[14] loss: 2.9530502110171893e-06\n",
      "Accuracy of the network: 99.68819599109132\n",
      "[15] loss: 2.7978756527720567e-06\n",
      "Accuracy of the network: 99.68819599109132\n",
      "Finished Training\n"
     ]
    },
    {
     "data": {
      "image/png": "[encoded data removed]",
      "text/plain": [
       "<Figure size 1152x360 with 2 Axes>"
      ]
     },
     "metadata": {
      "needs_background": "light"
     },
     "output_type": "display_data"
    }
   ],
   "source": [
    "linear_net = LinearNet().to(device)\n",
    "train_model(linear_net, epoch=15)"
   ]
  },
  {
   "cell_type": "markdown",
   "metadata": {
    "id": "ZG3WseYlYZzG"
   },
   "source": [
    "__Вывод:__  \n",
    "  Данная нейросеть показала довольно высокую точность уже после первой эпохи.  \n",
    "  Нейросеть обучалась 15 эпох, но точность начала падать спустя несколько эпох после начала обучения, хотя показатель потери с каждой эпохой падает. Это значит, что нейросеть начала переобучаться."
   ]
  },
  {
   "cell_type": "markdown",
   "metadata": {
    "id": "uSVwqhx8Vd0Y"
   },
   "source": [
    "- нейросеть со свёрточным слоем"
   ]
  },
  {
   "cell_type": "code",
   "execution_count": null,
   "metadata": {
    "id": "skU-ZLGqyRln"
   },
   "outputs": [],
   "source": [
    "class ConvNet(nn.Module):\n",
    "    def __init__(self):\n",
    "        super(ConvNet, self).__init__()\n",
    "        self.embedding = nn.Embedding(vocab_size, embed_dim)\n",
    "        self.text_sequence = nn.Sequential(\n",
    "            nn.Conv2d(1, 4, (7, embed_dim)),\n",
    "            nn.ReLU()\n",
    "        )\n",
    "        self.title_sequence = nn.Sequential(\n",
    "            nn.Conv2d(1, 4, (7, embed_dim)),\n",
    "            nn.ReLU()\n",
    "        )\n",
    "        self.size = (MAX_LEN-6) * 4\n",
    "        self.linear = nn.Linear(self.size * 2, 2)\n",
    "\n",
    "    def forward(self, text, title, **kwargs):\n",
    "        text = self.embedding(text)\n",
    "        title = self.embedding(title)\n",
    "        \n",
    "        text = torch.unsqueeze(text, 1)\n",
    "        title = torch.unsqueeze(title, 1)\n",
    "\n",
    "        text = self.text_sequence(text)\n",
    "        title = self.text_sequence(title)\n",
    "        \n",
    "        with torch.no_grad():\n",
    "            text = text.view(-1, self.size)\n",
    "            title = title.view(-1, self.size)\n",
    "            temp = torch.cat([text, title], 1)\n",
    "        return self.linear(temp)"
   ]
  },
  {
   "cell_type": "code",
   "execution_count": null,
   "metadata": {
    "colab": {
     "base_uri": "https://localhost:8080/",
     "height": 620,
     "referenced_widgets": [
      "188b204e663b4801b3218e20b480d720",
      "6ba63e6c104c44e393a1e9790ea6ab2a",
      "cb203e567e0444d19bdf7a2bcda549ce",
      "3c892aa8e62e48ffa467a02de59e769c",
      "948e1bec89ef408683b80f9dd7450fae",
      "ef2343d9461348629695d3dee6cb6db4",
      "c4e3b04539b74fbba2e090c28c153ba7",
      "bfcd321ff7da454b86742df662c131dd",
      "12698ad0746946b580bf7e7ce247d3b3",
      "eba2813cc448439d82964e065929bd69",
      "a090df9958bc4663a361915c07464053"
     ]
    },
    "id": "HbKtFnrFyRln",
    "outputId": "0ea4019d-086c-410c-b5dc-aed1fd258ca2"
   },
   "outputs": [
    {
     "data": {
      "application/vnd.jupyter.widget-view+json": {
       "model_id": "188b204e663b4801b3218e20b480d720",
       "version_major": 2,
       "version_minor": 0
      },
      "text/plain": [
       "Processing records:   0%|          | 0/30306 [00:00<?, ?it/s]"
      ]
     },
     "metadata": {},
     "output_type": "display_data"
    },
    {
     "name": "stdout",
     "output_type": "stream",
     "text": [
      "[1] loss: 0.36417728762685003\n",
      "Accuracy of the network: 86.6369710467706\n",
      "[2] loss: 0.3199532356790253\n",
      "Accuracy of the network: 86.815144766147\n",
      "[3] loss: 0.3150360078306198\n",
      "Accuracy of the network: 87.03786191536749\n",
      "[4] loss: 0.3132019902156694\n",
      "Accuracy of the network: 87.06013363028953\n",
      "[5] loss: 0.31226629597988403\n",
      "Accuracy of the network: 87.14922048997772\n",
      "[6] loss: 0.31169117523430656\n",
      "Accuracy of the network: 87.14922048997772\n",
      "Finished Training\n"
     ]
    },
    {
     "data": {
      "image/png": "[encoded data removed]",
      "text/plain": [
       "<Figure size 1152x360 with 2 Axes>"
      ]
     },
     "metadata": {
      "needs_background": "light"
     },
     "output_type": "display_data"
    }
   ],
   "source": [
    "conv_net = ConvNet().to(device)\n",
    "train_model(conv_net, epoch=6, lr=0.001)"
   ]
  },
  {
   "cell_type": "markdown",
   "metadata": {
    "id": "RSJYpd4DQ5SU"
   },
   "source": [
    "__Вывод__:  \n",
    "Данная нейросеть показала результаты хуже предыдущей. В лучшем случае точность доходит до 90%, в основном колеблется в районе 85%. Возможно, данная сеть сложна для данной задачи, поэтому не показывает высоких результатов."
   ]
  },
  {
   "cell_type": "markdown",
   "metadata": {
    "id": "SAvnVsIbAvCu"
   },
   "source": [
    "В следующих нейронках помимо полей `text` и `title` будет рассматриваться `subject`."
   ]
  },
  {
   "cell_type": "code",
   "execution_count": null,
   "metadata": {
    "id": "Gp70vI3p4Mra"
   },
   "outputs": [],
   "source": [
    "subject_columns = ['Government News', 'Middle-east', 'News', 'US_News', 'left-news',\n",
    "       'politics', 'politicsNews', 'worldnews']"
   ]
  },
  {
   "cell_type": "code",
   "execution_count": null,
   "metadata": {
    "id": "78BzQNUp25di"
   },
   "outputs": [],
   "source": [
    "def collate_batch_complete(batch):\n",
    "    processed_batch = []\n",
    "    target = []\n",
    "    text = []\n",
    "    title = []\n",
    "    subject  = []\n",
    "    for record in batch:\n",
    "        text.append(text_pipeline(record['text']))\n",
    "        title.append(text_pipeline(record['title']))\n",
    "        target.append(int(record['target']))\n",
    "        subject.append([record[key] for key in subject_columns])\n",
    "    result_dict = {\n",
    "        'text': torch.tensor(text, dtype=torch.int64),\n",
    "        'title': torch.tensor(title, dtype=torch.int64),\n",
    "        'subject': torch.tensor(subject, dtype=torch.int64),\n",
    "        'target': torch.tensor(target, dtype=torch.int64)\n",
    "    }\n",
    "    return result_dict"
   ]
  },
  {
   "cell_type": "code",
   "execution_count": null,
   "metadata": {
    "id": "pbssOllt2ihC"
   },
   "outputs": [],
   "source": [
    "train_loader = DataLoader(train_dataset, batch_size=BATCH_SIZE, collate_fn=collate_batch_complete)\n",
    "test_loader = DataLoader(test_dataset, batch_size=BATCH_SIZE, collate_fn=collate_batch_complete)"
   ]
  },
  {
   "cell_type": "markdown",
   "metadata": {
    "id": "BoHteh0QTcOu"
   },
   "source": [
    "- Нейросеть с одним линейным слоем"
   ]
  },
  {
   "cell_type": "code",
   "execution_count": null,
   "metadata": {
    "id": "5b-UNvse2iwD"
   },
   "outputs": [],
   "source": [
    "class LinearNetWithSubject(nn.Module):\n",
    "    def __init__(self):\n",
    "        super(LinearNetWithSubject, self).__init__()\n",
    "        self.embedding = nn.Embedding(vocab_size, embed_dim)\n",
    "        self.size = MAX_LEN * embed_dim\n",
    "        self.fc = nn.Linear(self.size * 2 + len(subject_columns), 2)\n",
    "\n",
    "    def forward(self, text, title, subject, **kwargs):\n",
    "        text = self.embedding(text)\n",
    "        title = self.embedding(title)\n",
    "        with torch.no_grad():\n",
    "            text = text.view(-1, self.size)\n",
    "            title = title.view(-1, self.size)\n",
    "            temp = torch.cat([text, title, subject], 1)\n",
    "        return self.fc(temp)"
   ]
  },
  {
   "cell_type": "code",
   "execution_count": null,
   "metadata": {
    "colab": {
     "base_uri": "https://localhost:8080/",
     "height": 586,
     "referenced_widgets": [
      "68f73c9265a94beb834b489b10bc9a20",
      "0ff38889d8ab45d583386828be8f4a63",
      "1377b678ca7045af98f584dcf5bb480e",
      "943f33525fd641308abfef53e3ee3356",
      "eff99a03cd55477db9ac773b3f0665d9",
      "f79c3326c6204bdeb38265d259f6a673",
      "d9d1147d7abb4720a762bca501c5f584",
      "c00d4f47b3d94c9ebe320e6cf6a5146c",
      "e3417f31468741cd924fc230e2e3d01e",
      "5a74591f50264dda8308cf07c28eacda",
      "65cee839b9b144269c75ec0d1e5540b9"
     ]
    },
    "id": "qrwHYn1A2jM7",
    "outputId": "e3dc1cac-e21d-4903-91cd-3b080d349815"
   },
   "outputs": [
    {
     "data": {
      "application/vnd.jupyter.widget-view+json": {
       "model_id": "68f73c9265a94beb834b489b10bc9a20",
       "version_major": 2,
       "version_minor": 0
      },
      "text/plain": [
       "Processing records:   0%|          | 0/25255 [00:00<?, ?it/s]"
      ]
     },
     "metadata": {},
     "output_type": "display_data"
    },
    {
     "name": "stdout",
     "output_type": "stream",
     "text": [
      "[1] loss: 0.019655926719949247\n",
      "Accuracy of the network: 99.77728285077951\n",
      "[2] loss: 0.00385261484105212\n",
      "Accuracy of the network: 99.75501113585746\n",
      "[3] loss: 0.0017406546372126408\n",
      "Accuracy of the network: 99.75501113585746\n",
      "[4] loss: 0.0012218512835208157\n",
      "Accuracy of the network: 99.75501113585746\n",
      "[5] loss: 0.000986794044903933\n",
      "Accuracy of the network: 99.75501113585746\n",
      "Finished Training\n"
     ]
    },
    {
     "data": {
      "image/png": "[encoded data removed]",
      "text/plain": [
       "<Figure size 1152x360 with 2 Axes>"
      ]
     },
     "metadata": {
      "needs_background": "light"
     },
     "output_type": "display_data"
    }
   ],
   "source": [
    "linear_net_with_subject = LinearNetWithSubject().to(device)\n",
    "train_model(linear_net_with_subject, epoch=5, lr=0.001)"
   ]
  },
  {
   "cell_type": "markdown",
   "metadata": {
    "id": "Qg7Szb2ETi8S"
   },
   "source": [
    "__Вывод__:  \n",
    "Данная нейросеть показала довольно хороший результат, лучше предыдущих нейронок. Под конец обучения точность перестала расти, хотя значение ошибки падает."
   ]
  },
  {
   "cell_type": "markdown",
   "metadata": {
    "id": "zkAagzzhTjC8"
   },
   "source": [
    "- Нейросеть со свёрточными слоями"
   ]
  },
  {
   "cell_type": "code",
   "execution_count": null,
   "metadata": {
    "id": "kUPkwg-MHmES"
   },
   "outputs": [],
   "source": [
    "class ConvNetWithSubject(nn.Module):\n",
    "    def __init__(self):\n",
    "        super(ConvNetWithSubject, self).__init__()\n",
    "        self.embedding = nn.Embedding(vocab_size, embed_dim)\n",
    "        self.text_sequence = nn.Sequential(\n",
    "            nn.Conv2d(1, 4, (7, embed_dim)),\n",
    "            nn.ReLU()\n",
    "        )\n",
    "        self.title_sequence = nn.Sequential(\n",
    "            nn.Conv2d(1, 4, (7, embed_dim)),\n",
    "            nn.ReLU()\n",
    "        )\n",
    "        self.size = (MAX_LEN-6) * 4\n",
    "        self.linear = nn.Linear(self.size * 2+len(subject_columns), 2)\n",
    "\n",
    "    def forward(self, text, title, subject, **kwargs):\n",
    "        text = self.embedding(text)\n",
    "        title = self.embedding(title)\n",
    "        \n",
    "        text = torch.unsqueeze(text, 1)\n",
    "        title = torch.unsqueeze(title, 1)\n",
    "\n",
    "        text = self.text_sequence(text)\n",
    "        title = self.text_sequence(title)\n",
    "        \n",
    "        with torch.no_grad():\n",
    "            text = text.view(-1, self.size)\n",
    "            title = title.view(-1, self.size)\n",
    "            temp = torch.cat([text, title, subject], 1)\n",
    "        return self.linear(temp)"
   ]
  },
  {
   "cell_type": "code",
   "execution_count": null,
   "metadata": {
    "colab": {
     "base_uri": "https://localhost:8080/",
     "height": 553,
     "referenced_widgets": [
      "0ea8cb27ff494f709f6101c14518db25",
      "fcba61a668584fc4abd4b7b9d26fbab3",
      "6c18bde7119046e68634cd7f08f4ca3b",
      "aa573dfb3e894b18895420566464462b",
      "0ac0c8f9eafe4e778693d83273d27465",
      "4ead68eb8a8a4384a62beb7e35dea9c6",
      "5867fc9e3a5e4d1bb0322037242aa346",
      "8d16361717f04907b1416d31af736f48",
      "8f8f3764152f4d7591b6e263fe35818e",
      "3308b28ea431443b9894e8ca2cc98df0",
      "9c42c23c743b4decaddad039fdf49657"
     ]
    },
    "id": "sQRFyBq9HmND",
    "outputId": "ee02c5b0-945f-4a4a-d4c6-623f0144c3a1"
   },
   "outputs": [
    {
     "data": {
      "application/vnd.jupyter.widget-view+json": {
       "model_id": "0ea8cb27ff494f709f6101c14518db25",
       "version_major": 2,
       "version_minor": 0
      },
      "text/plain": [
       "Processing records:   0%|          | 0/20204 [00:00<?, ?it/s]"
      ]
     },
     "metadata": {},
     "output_type": "display_data"
    },
    {
     "name": "stdout",
     "output_type": "stream",
     "text": [
      "[1] loss: 0.14656765404771524\n",
      "Accuracy of the network: 99.93318485523385\n",
      "[2] loss: 0.03947598375088713\n",
      "Accuracy of the network: 99.97772828507794\n",
      "[3] loss: 0.023593544857688963\n",
      "Accuracy of the network: 100.0\n",
      "[4] loss: 0.01683193296191311\n",
      "Accuracy of the network: 100.0\n",
      "Finished Training\n"
     ]
    },
    {
     "data": {
      "image/png": "[encoded data removed]",
      "text/plain": [
       "<Figure size 1152x360 with 2 Axes>"
      ]
     },
     "metadata": {
      "needs_background": "light"
     },
     "output_type": "display_data"
    }
   ],
   "source": [
    "conv_net_wih_subject = ConvNetWithSubject().to(device)\n",
    "train_model(conv_net_wih_subject, epoch=4, lr=0.00105)"
   ]
  },
  {
   "cell_type": "markdown",
   "metadata": {
    "id": "1N0OQQC9J_HV"
   },
   "source": [
    "__Вывод__  \n",
    "Самый лучший результат среди представленных здесь нейронок. Для обучения требуется небольшое кол-во эпох(в данном примере точность в 100% была достигнута на 3-ей эпохе).  \n",
    "\n",
    "Добавление поля `subject` положительно сказалось на результатах."
   ]
  }
 ],
 "metadata": {
  "colab": {
   "collapsed_sections": [],
   "name": "NLP.ipynb",
   "provenance": []
  },
  "kernelspec": {
   "display_name": "Python 3",
   "language": "python",
   "name": "python3"
  },
  "language_info": {
   "codemirror_mode": {
    "name": "ipython",
    "version": 3
   },
   "file_extension": ".py",
   "mimetype": "text/x-python",
   "name": "python",
   "nbconvert_exporter": "python",
   "pygments_lexer": "ipython3",
   "version": "3.7.9"
  },
  "widgets": {
   "application/vnd.jupyter.widget-state+json": {
    "0709233e35044a008d87cb4950e302b6": {
     "model_module": "@jupyter-widgets/controls",
     "model_module_version": "1.5.0",
     "model_name": "HBoxModel",
     "state": {
      "_dom_classes": [],
      "_model_module": "@jupyter-widgets/controls",
      "_model_module_version": "1.5.0",
      "_model_name": "HBoxModel",
      "_view_count": null,
      "_view_module": "@jupyter-widgets/controls",
      "_view_module_version": "1.5.0",
      "_view_name": "HBoxView",
      "box_style": "",
      "children": [
       "IPY_MODEL_99c74670a8d14e08bac4d2597d33d78f",
       "IPY_MODEL_f46f88f04ced42fb8e13f817da35cbea",
       "IPY_MODEL_b87bac22789d4f01b54ce4fe4d539e9e"
      ],
      "layout": "IPY_MODEL_4429e95951364f4989d6f2350228c34a"
     }
    },
    "074e106072da43f5b258494109386349": {
     "model_module": "@jupyter-widgets/base",
     "model_module_version": "1.2.0",
     "model_name": "LayoutModel",
     "state": {
      "_model_module": "@jupyter-widgets/base",
      "_model_module_version": "1.2.0",
      "_model_name": "LayoutModel",
      "_view_count": null,
      "_view_module": "@jupyter-widgets/base",
      "_view_module_version": "1.2.0",
      "_view_name": "LayoutView",
      "align_content": null,
      "align_items": null,
      "align_self": null,
      "border": null,
      "bottom": null,
      "display": null,
      "flex": null,
      "flex_flow": null,
      "grid_area": null,
      "grid_auto_columns": null,
      "grid_auto_flow": null,
      "grid_auto_rows": null,
      "grid_column": null,
      "grid_gap": null,
      "grid_row": null,
      "grid_template_areas": null,
      "grid_template_columns": null,
      "grid_template_rows": null,
      "height": null,
      "justify_content": null,
      "justify_items": null,
      "left": null,
      "margin": null,
      "max_height": null,
      "max_width": null,
      "min_height": null,
      "min_width": null,
      "object_fit": null,
      "object_position": null,
      "order": null,
      "overflow": null,
      "overflow_x": null,
      "overflow_y": null,
      "padding": null,
      "right": null,
      "top": null,
      "visibility": null,
      "width": null
     }
    },
    "0ac0c8f9eafe4e778693d83273d27465": {
     "model_module": "@jupyter-widgets/controls",
     "model_module_version": "1.5.0",
     "model_name": "HTMLModel",
     "state": {
      "_dom_classes": [],
      "_model_module": "@jupyter-widgets/controls",
      "_model_module_version": "1.5.0",
      "_model_name": "HTMLModel",
      "_view_count": null,
      "_view_module": "@jupyter-widgets/controls",
      "_view_module_version": "1.5.0",
      "_view_name": "HTMLView",
      "description": "",
      "description_tooltip": null,
      "layout": "IPY_MODEL_9c42c23c743b4decaddad039fdf49657",
      "placeholder": "​",
      "style": "IPY_MODEL_3308b28ea431443b9894e8ca2cc98df0",
      "value": " 20204/20204 [02:16&lt;00:00, 160.44it/s]"
     }
    },
    "0ea8cb27ff494f709f6101c14518db25": {
     "model_module": "@jupyter-widgets/controls",
     "model_module_version": "1.5.0",
     "model_name": "HBoxModel",
     "state": {
      "_dom_classes": [],
      "_model_module": "@jupyter-widgets/controls",
      "_model_module_version": "1.5.0",
      "_model_name": "HBoxModel",
      "_view_count": null,
      "_view_module": "@jupyter-widgets/controls",
      "_view_module_version": "1.5.0",
      "_view_name": "HBoxView",
      "box_style": "",
      "children": [
       "IPY_MODEL_6c18bde7119046e68634cd7f08f4ca3b",
       "IPY_MODEL_aa573dfb3e894b18895420566464462b",
       "IPY_MODEL_0ac0c8f9eafe4e778693d83273d27465"
      ],
      "layout": "IPY_MODEL_fcba61a668584fc4abd4b7b9d26fbab3"
     }
    },
    "0ff38889d8ab45d583386828be8f4a63": {
     "model_module": "@jupyter-widgets/base",
     "model_module_version": "1.2.0",
     "model_name": "LayoutModel",
     "state": {
      "_model_module": "@jupyter-widgets/base",
      "_model_module_version": "1.2.0",
      "_model_name": "LayoutModel",
      "_view_count": null,
      "_view_module": "@jupyter-widgets/base",
      "_view_module_version": "1.2.0",
      "_view_name": "LayoutView",
      "align_content": null,
      "align_items": null,
      "align_self": null,
      "border": null,
      "bottom": null,
      "display": null,
      "flex": null,
      "flex_flow": null,
      "grid_area": null,
      "grid_auto_columns": null,
      "grid_auto_flow": null,
      "grid_auto_rows": null,
      "grid_column": null,
      "grid_gap": null,
      "grid_row": null,
      "grid_template_areas": null,
      "grid_template_columns": null,
      "grid_template_rows": null,
      "height": null,
      "justify_content": null,
      "justify_items": null,
      "left": null,
      "margin": null,
      "max_height": null,
      "max_width": null,
      "min_height": null,
      "min_width": null,
      "object_fit": null,
      "object_position": null,
      "order": null,
      "overflow": null,
      "overflow_x": null,
      "overflow_y": null,
      "padding": null,
      "right": null,
      "top": null,
      "visibility": null,
      "width": null
     }
    },
    "12698ad0746946b580bf7e7ce247d3b3": {
     "model_module": "@jupyter-widgets/base",
     "model_module_version": "1.2.0",
     "model_name": "LayoutModel",
     "state": {
      "_model_module": "@jupyter-widgets/base",
      "_model_module_version": "1.2.0",
      "_model_name": "LayoutModel",
      "_view_count": null,
      "_view_module": "@jupyter-widgets/base",
      "_view_module_version": "1.2.0",
      "_view_name": "LayoutView",
      "align_content": null,
      "align_items": null,
      "align_self": null,
      "border": null,
      "bottom": null,
      "display": null,
      "flex": null,
      "flex_flow": null,
      "grid_area": null,
      "grid_auto_columns": null,
      "grid_auto_flow": null,
      "grid_auto_rows": null,
      "grid_column": null,
      "grid_gap": null,
      "grid_row": null,
      "grid_template_areas": null,
      "grid_template_columns": null,
      "grid_template_rows": null,
      "height": null,
      "justify_content": null,
      "justify_items": null,
      "left": null,
      "margin": null,
      "max_height": null,
      "max_width": null,
      "min_height": null,
      "min_width": null,
      "object_fit": null,
      "object_position": null,
      "order": null,
      "overflow": null,
      "overflow_x": null,
      "overflow_y": null,
      "padding": null,
      "right": null,
      "top": null,
      "visibility": null,
      "width": null
     }
    },
    "1377b678ca7045af98f584dcf5bb480e": {
     "model_module": "@jupyter-widgets/controls",
     "model_module_version": "1.5.0",
     "model_name": "HTMLModel",
     "state": {
      "_dom_classes": [],
      "_model_module": "@jupyter-widgets/controls",
      "_model_module_version": "1.5.0",
      "_model_name": "HTMLModel",
      "_view_count": null,
      "_view_module": "@jupyter-widgets/controls",
      "_view_module_version": "1.5.0",
      "_view_name": "HTMLView",
      "description": "",
      "description_tooltip": null,
      "layout": "IPY_MODEL_d9d1147d7abb4720a762bca501c5f584",
      "placeholder": "​",
      "style": "IPY_MODEL_f79c3326c6204bdeb38265d259f6a673",
      "value": "Processing records: 100%"
     }
    },
    "188b204e663b4801b3218e20b480d720": {
     "model_module": "@jupyter-widgets/controls",
     "model_module_version": "1.5.0",
     "model_name": "HBoxModel",
     "state": {
      "_dom_classes": [],
      "_model_module": "@jupyter-widgets/controls",
      "_model_module_version": "1.5.0",
      "_model_name": "HBoxModel",
      "_view_count": null,
      "_view_module": "@jupyter-widgets/controls",
      "_view_module_version": "1.5.0",
      "_view_name": "HBoxView",
      "box_style": "",
      "children": [
       "IPY_MODEL_cb203e567e0444d19bdf7a2bcda549ce",
       "IPY_MODEL_3c892aa8e62e48ffa467a02de59e769c",
       "IPY_MODEL_948e1bec89ef408683b80f9dd7450fae"
      ],
      "layout": "IPY_MODEL_6ba63e6c104c44e393a1e9790ea6ab2a"
     }
    },
    "3308b28ea431443b9894e8ca2cc98df0": {
     "model_module": "@jupyter-widgets/controls",
     "model_module_version": "1.5.0",
     "model_name": "DescriptionStyleModel",
     "state": {
      "_model_module": "@jupyter-widgets/controls",
      "_model_module_version": "1.5.0",
      "_model_name": "DescriptionStyleModel",
      "_view_count": null,
      "_view_module": "@jupyter-widgets/base",
      "_view_module_version": "1.2.0",
      "_view_name": "StyleView",
      "description_width": ""
     }
    },
    "3c892aa8e62e48ffa467a02de59e769c": {
     "model_module": "@jupyter-widgets/controls",
     "model_module_version": "1.5.0",
     "model_name": "FloatProgressModel",
     "state": {
      "_dom_classes": [],
      "_model_module": "@jupyter-widgets/controls",
      "_model_module_version": "1.5.0",
      "_model_name": "FloatProgressModel",
      "_view_count": null,
      "_view_module": "@jupyter-widgets/controls",
      "_view_module_version": "1.5.0",
      "_view_name": "ProgressView",
      "bar_style": "success",
      "description": "",
      "description_tooltip": null,
      "layout": "IPY_MODEL_12698ad0746946b580bf7e7ce247d3b3",
      "max": 30306,
      "min": 0,
      "orientation": "horizontal",
      "style": "IPY_MODEL_bfcd321ff7da454b86742df662c131dd",
      "value": 30306
     }
    },
    "4429e95951364f4989d6f2350228c34a": {
     "model_module": "@jupyter-widgets/base",
     "model_module_version": "1.2.0",
     "model_name": "LayoutModel",
     "state": {
      "_model_module": "@jupyter-widgets/base",
      "_model_module_version": "1.2.0",
      "_model_name": "LayoutModel",
      "_view_count": null,
      "_view_module": "@jupyter-widgets/base",
      "_view_module_version": "1.2.0",
      "_view_name": "LayoutView",
      "align_content": null,
      "align_items": null,
      "align_self": null,
      "border": null,
      "bottom": null,
      "display": null,
      "flex": null,
      "flex_flow": null,
      "grid_area": null,
      "grid_auto_columns": null,
      "grid_auto_flow": null,
      "grid_auto_rows": null,
      "grid_column": null,
      "grid_gap": null,
      "grid_row": null,
      "grid_template_areas": null,
      "grid_template_columns": null,
      "grid_template_rows": null,
      "height": null,
      "justify_content": null,
      "justify_items": null,
      "left": null,
      "margin": null,
      "max_height": null,
      "max_width": null,
      "min_height": null,
      "min_width": null,
      "object_fit": null,
      "object_position": null,
      "order": null,
      "overflow": null,
      "overflow_x": null,
      "overflow_y": null,
      "padding": null,
      "right": null,
      "top": null,
      "visibility": null,
      "width": null
     }
    },
    "4ead68eb8a8a4384a62beb7e35dea9c6": {
     "model_module": "@jupyter-widgets/controls",
     "model_module_version": "1.5.0",
     "model_name": "DescriptionStyleModel",
     "state": {
      "_model_module": "@jupyter-widgets/controls",
      "_model_module_version": "1.5.0",
      "_model_name": "DescriptionStyleModel",
      "_view_count": null,
      "_view_module": "@jupyter-widgets/base",
      "_view_module_version": "1.2.0",
      "_view_name": "StyleView",
      "description_width": ""
     }
    },
    "5867fc9e3a5e4d1bb0322037242aa346": {
     "model_module": "@jupyter-widgets/base",
     "model_module_version": "1.2.0",
     "model_name": "LayoutModel",
     "state": {
      "_model_module": "@jupyter-widgets/base",
      "_model_module_version": "1.2.0",
      "_model_name": "LayoutModel",
      "_view_count": null,
      "_view_module": "@jupyter-widgets/base",
      "_view_module_version": "1.2.0",
      "_view_name": "LayoutView",
      "align_content": null,
      "align_items": null,
      "align_self": null,
      "border": null,
      "bottom": null,
      "display": null,
      "flex": null,
      "flex_flow": null,
      "grid_area": null,
      "grid_auto_columns": null,
      "grid_auto_flow": null,
      "grid_auto_rows": null,
      "grid_column": null,
      "grid_gap": null,
      "grid_row": null,
      "grid_template_areas": null,
      "grid_template_columns": null,
      "grid_template_rows": null,
      "height": null,
      "justify_content": null,
      "justify_items": null,
      "left": null,
      "margin": null,
      "max_height": null,
      "max_width": null,
      "min_height": null,
      "min_width": null,
      "object_fit": null,
      "object_position": null,
      "order": null,
      "overflow": null,
      "overflow_x": null,
      "overflow_y": null,
      "padding": null,
      "right": null,
      "top": null,
      "visibility": null,
      "width": null
     }
    },
    "5a74591f50264dda8308cf07c28eacda": {
     "model_module": "@jupyter-widgets/controls",
     "model_module_version": "1.5.0",
     "model_name": "DescriptionStyleModel",
     "state": {
      "_model_module": "@jupyter-widgets/controls",
      "_model_module_version": "1.5.0",
      "_model_name": "DescriptionStyleModel",
      "_view_count": null,
      "_view_module": "@jupyter-widgets/base",
      "_view_module_version": "1.2.0",
      "_view_name": "StyleView",
      "description_width": ""
     }
    },
    "65cee839b9b144269c75ec0d1e5540b9": {
     "model_module": "@jupyter-widgets/base",
     "model_module_version": "1.2.0",
     "model_name": "LayoutModel",
     "state": {
      "_model_module": "@jupyter-widgets/base",
      "_model_module_version": "1.2.0",
      "_model_name": "LayoutModel",
      "_view_count": null,
      "_view_module": "@jupyter-widgets/base",
      "_view_module_version": "1.2.0",
      "_view_name": "LayoutView",
      "align_content": null,
      "align_items": null,
      "align_self": null,
      "border": null,
      "bottom": null,
      "display": null,
      "flex": null,
      "flex_flow": null,
      "grid_area": null,
      "grid_auto_columns": null,
      "grid_auto_flow": null,
      "grid_auto_rows": null,
      "grid_column": null,
      "grid_gap": null,
      "grid_row": null,
      "grid_template_areas": null,
      "grid_template_columns": null,
      "grid_template_rows": null,
      "height": null,
      "justify_content": null,
      "justify_items": null,
      "left": null,
      "margin": null,
      "max_height": null,
      "max_width": null,
      "min_height": null,
      "min_width": null,
      "object_fit": null,
      "object_position": null,
      "order": null,
      "overflow": null,
      "overflow_x": null,
      "overflow_y": null,
      "padding": null,
      "right": null,
      "top": null,
      "visibility": null,
      "width": null
     }
    },
    "68f73c9265a94beb834b489b10bc9a20": {
     "model_module": "@jupyter-widgets/controls",
     "model_module_version": "1.5.0",
     "model_name": "HBoxModel",
     "state": {
      "_dom_classes": [],
      "_model_module": "@jupyter-widgets/controls",
      "_model_module_version": "1.5.0",
      "_model_name": "HBoxModel",
      "_view_count": null,
      "_view_module": "@jupyter-widgets/controls",
      "_view_module_version": "1.5.0",
      "_view_name": "HBoxView",
      "box_style": "",
      "children": [
       "IPY_MODEL_1377b678ca7045af98f584dcf5bb480e",
       "IPY_MODEL_943f33525fd641308abfef53e3ee3356",
       "IPY_MODEL_eff99a03cd55477db9ac773b3f0665d9"
      ],
      "layout": "IPY_MODEL_0ff38889d8ab45d583386828be8f4a63"
     }
    },
    "6ba63e6c104c44e393a1e9790ea6ab2a": {
     "model_module": "@jupyter-widgets/base",
     "model_module_version": "1.2.0",
     "model_name": "LayoutModel",
     "state": {
      "_model_module": "@jupyter-widgets/base",
      "_model_module_version": "1.2.0",
      "_model_name": "LayoutModel",
      "_view_count": null,
      "_view_module": "@jupyter-widgets/base",
      "_view_module_version": "1.2.0",
      "_view_name": "LayoutView",
      "align_content": null,
      "align_items": null,
      "align_self": null,
      "border": null,
      "bottom": null,
      "display": null,
      "flex": null,
      "flex_flow": null,
      "grid_area": null,
      "grid_auto_columns": null,
      "grid_auto_flow": null,
      "grid_auto_rows": null,
      "grid_column": null,
      "grid_gap": null,
      "grid_row": null,
      "grid_template_areas": null,
      "grid_template_columns": null,
      "grid_template_rows": null,
      "height": null,
      "justify_content": null,
      "justify_items": null,
      "left": null,
      "margin": null,
      "max_height": null,
      "max_width": null,
      "min_height": null,
      "min_width": null,
      "object_fit": null,
      "object_position": null,
      "order": null,
      "overflow": null,
      "overflow_x": null,
      "overflow_y": null,
      "padding": null,
      "right": null,
      "top": null,
      "visibility": null,
      "width": null
     }
    },
    "6c18bde7119046e68634cd7f08f4ca3b": {
     "model_module": "@jupyter-widgets/controls",
     "model_module_version": "1.5.0",
     "model_name": "HTMLModel",
     "state": {
      "_dom_classes": [],
      "_model_module": "@jupyter-widgets/controls",
      "_model_module_version": "1.5.0",
      "_model_name": "HTMLModel",
      "_view_count": null,
      "_view_module": "@jupyter-widgets/controls",
      "_view_module_version": "1.5.0",
      "_view_name": "HTMLView",
      "description": "",
      "description_tooltip": null,
      "layout": "IPY_MODEL_5867fc9e3a5e4d1bb0322037242aa346",
      "placeholder": "​",
      "style": "IPY_MODEL_4ead68eb8a8a4384a62beb7e35dea9c6",
      "value": "Processing records: 100%"
     }
    },
    "8145a0342ed942d7873b019f07272b51": {
     "model_module": "@jupyter-widgets/controls",
     "model_module_version": "1.5.0",
     "model_name": "DescriptionStyleModel",
     "state": {
      "_model_module": "@jupyter-widgets/controls",
      "_model_module_version": "1.5.0",
      "_model_name": "DescriptionStyleModel",
      "_view_count": null,
      "_view_module": "@jupyter-widgets/base",
      "_view_module_version": "1.2.0",
      "_view_name": "StyleView",
      "description_width": ""
     }
    },
    "8d16361717f04907b1416d31af736f48": {
     "model_module": "@jupyter-widgets/controls",
     "model_module_version": "1.5.0",
     "model_name": "ProgressStyleModel",
     "state": {
      "_model_module": "@jupyter-widgets/controls",
      "_model_module_version": "1.5.0",
      "_model_name": "ProgressStyleModel",
      "_view_count": null,
      "_view_module": "@jupyter-widgets/base",
      "_view_module_version": "1.2.0",
      "_view_name": "StyleView",
      "bar_color": null,
      "description_width": ""
     }
    },
    "8f8f3764152f4d7591b6e263fe35818e": {
     "model_module": "@jupyter-widgets/base",
     "model_module_version": "1.2.0",
     "model_name": "LayoutModel",
     "state": {
      "_model_module": "@jupyter-widgets/base",
      "_model_module_version": "1.2.0",
      "_model_name": "LayoutModel",
      "_view_count": null,
      "_view_module": "@jupyter-widgets/base",
      "_view_module_version": "1.2.0",
      "_view_name": "LayoutView",
      "align_content": null,
      "align_items": null,
      "align_self": null,
      "border": null,
      "bottom": null,
      "display": null,
      "flex": null,
      "flex_flow": null,
      "grid_area": null,
      "grid_auto_columns": null,
      "grid_auto_flow": null,
      "grid_auto_rows": null,
      "grid_column": null,
      "grid_gap": null,
      "grid_row": null,
      "grid_template_areas": null,
      "grid_template_columns": null,
      "grid_template_rows": null,
      "height": null,
      "justify_content": null,
      "justify_items": null,
      "left": null,
      "margin": null,
      "max_height": null,
      "max_width": null,
      "min_height": null,
      "min_width": null,
      "object_fit": null,
      "object_position": null,
      "order": null,
      "overflow": null,
      "overflow_x": null,
      "overflow_y": null,
      "padding": null,
      "right": null,
      "top": null,
      "visibility": null,
      "width": null
     }
    },
    "943f33525fd641308abfef53e3ee3356": {
     "model_module": "@jupyter-widgets/controls",
     "model_module_version": "1.5.0",
     "model_name": "FloatProgressModel",
     "state": {
      "_dom_classes": [],
      "_model_module": "@jupyter-widgets/controls",
      "_model_module_version": "1.5.0",
      "_model_name": "FloatProgressModel",
      "_view_count": null,
      "_view_module": "@jupyter-widgets/controls",
      "_view_module_version": "1.5.0",
      "_view_name": "ProgressView",
      "bar_style": "success",
      "description": "",
      "description_tooltip": null,
      "layout": "IPY_MODEL_e3417f31468741cd924fc230e2e3d01e",
      "max": 25255,
      "min": 0,
      "orientation": "horizontal",
      "style": "IPY_MODEL_c00d4f47b3d94c9ebe320e6cf6a5146c",
      "value": 25255
     }
    },
    "948e1bec89ef408683b80f9dd7450fae": {
     "model_module": "@jupyter-widgets/controls",
     "model_module_version": "1.5.0",
     "model_name": "HTMLModel",
     "state": {
      "_dom_classes": [],
      "_model_module": "@jupyter-widgets/controls",
      "_model_module_version": "1.5.0",
      "_model_name": "HTMLModel",
      "_view_count": null,
      "_view_module": "@jupyter-widgets/controls",
      "_view_module_version": "1.5.0",
      "_view_name": "HTMLView",
      "description": "",
      "description_tooltip": null,
      "layout": "IPY_MODEL_a090df9958bc4663a361915c07464053",
      "placeholder": "​",
      "style": "IPY_MODEL_eba2813cc448439d82964e065929bd69",
      "value": " 30306/30306 [03:22&lt;00:00, 158.91it/s]"
     }
    },
    "99c74670a8d14e08bac4d2597d33d78f": {
     "model_module": "@jupyter-widgets/controls",
     "model_module_version": "1.5.0",
     "model_name": "HTMLModel",
     "state": {
      "_dom_classes": [],
      "_model_module": "@jupyter-widgets/controls",
      "_model_module_version": "1.5.0",
      "_model_name": "HTMLModel",
      "_view_count": null,
      "_view_module": "@jupyter-widgets/controls",
      "_view_module_version": "1.5.0",
      "_view_name": "HTMLView",
      "description": "",
      "description_tooltip": null,
      "layout": "IPY_MODEL_074e106072da43f5b258494109386349",
      "placeholder": "​",
      "style": "IPY_MODEL_8145a0342ed942d7873b019f07272b51",
      "value": "Processing records: 100%"
     }
    },
    "9c42c23c743b4decaddad039fdf49657": {
     "model_module": "@jupyter-widgets/base",
     "model_module_version": "1.2.0",
     "model_name": "LayoutModel",
     "state": {
      "_model_module": "@jupyter-widgets/base",
      "_model_module_version": "1.2.0",
      "_model_name": "LayoutModel",
      "_view_count": null,
      "_view_module": "@jupyter-widgets/base",
      "_view_module_version": "1.2.0",
      "_view_name": "LayoutView",
      "align_content": null,
      "align_items": null,
      "align_self": null,
      "border": null,
      "bottom": null,
      "display": null,
      "flex": null,
      "flex_flow": null,
      "grid_area": null,
      "grid_auto_columns": null,
      "grid_auto_flow": null,
      "grid_auto_rows": null,
      "grid_column": null,
      "grid_gap": null,
      "grid_row": null,
      "grid_template_areas": null,
      "grid_template_columns": null,
      "grid_template_rows": null,
      "height": null,
      "justify_content": null,
      "justify_items": null,
      "left": null,
      "margin": null,
      "max_height": null,
      "max_width": null,
      "min_height": null,
      "min_width": null,
      "object_fit": null,
      "object_position": null,
      "order": null,
      "overflow": null,
      "overflow_x": null,
      "overflow_y": null,
      "padding": null,
      "right": null,
      "top": null,
      "visibility": null,
      "width": null
     }
    },
    "a090df9958bc4663a361915c07464053": {
     "model_module": "@jupyter-widgets/base",
     "model_module_version": "1.2.0",
     "model_name": "LayoutModel",
     "state": {
      "_model_module": "@jupyter-widgets/base",
      "_model_module_version": "1.2.0",
      "_model_name": "LayoutModel",
      "_view_count": null,
      "_view_module": "@jupyter-widgets/base",
      "_view_module_version": "1.2.0",
      "_view_name": "LayoutView",
      "align_content": null,
      "align_items": null,
      "align_self": null,
      "border": null,
      "bottom": null,
      "display": null,
      "flex": null,
      "flex_flow": null,
      "grid_area": null,
      "grid_auto_columns": null,
      "grid_auto_flow": null,
      "grid_auto_rows": null,
      "grid_column": null,
      "grid_gap": null,
      "grid_row": null,
      "grid_template_areas": null,
      "grid_template_columns": null,
      "grid_template_rows": null,
      "height": null,
      "justify_content": null,
      "justify_items": null,
      "left": null,
      "margin": null,
      "max_height": null,
      "max_width": null,
      "min_height": null,
      "min_width": null,
      "object_fit": null,
      "object_position": null,
      "order": null,
      "overflow": null,
      "overflow_x": null,
      "overflow_y": null,
      "padding": null,
      "right": null,
      "top": null,
      "visibility": null,
      "width": null
     }
    },
    "aa573dfb3e894b18895420566464462b": {
     "model_module": "@jupyter-widgets/controls",
     "model_module_version": "1.5.0",
     "model_name": "FloatProgressModel",
     "state": {
      "_dom_classes": [],
      "_model_module": "@jupyter-widgets/controls",
      "_model_module_version": "1.5.0",
      "_model_name": "FloatProgressModel",
      "_view_count": null,
      "_view_module": "@jupyter-widgets/controls",
      "_view_module_version": "1.5.0",
      "_view_name": "ProgressView",
      "bar_style": "success",
      "description": "",
      "description_tooltip": null,
      "layout": "IPY_MODEL_8f8f3764152f4d7591b6e263fe35818e",
      "max": 20204,
      "min": 0,
      "orientation": "horizontal",
      "style": "IPY_MODEL_8d16361717f04907b1416d31af736f48",
      "value": 20204
     }
    },
    "ab4aeba5a24d4a66abf804790a7b0add": {
     "model_module": "@jupyter-widgets/base",
     "model_module_version": "1.2.0",
     "model_name": "LayoutModel",
     "state": {
      "_model_module": "@jupyter-widgets/base",
      "_model_module_version": "1.2.0",
      "_model_name": "LayoutModel",
      "_view_count": null,
      "_view_module": "@jupyter-widgets/base",
      "_view_module_version": "1.2.0",
      "_view_name": "LayoutView",
      "align_content": null,
      "align_items": null,
      "align_self": null,
      "border": null,
      "bottom": null,
      "display": null,
      "flex": null,
      "flex_flow": null,
      "grid_area": null,
      "grid_auto_columns": null,
      "grid_auto_flow": null,
      "grid_auto_rows": null,
      "grid_column": null,
      "grid_gap": null,
      "grid_row": null,
      "grid_template_areas": null,
      "grid_template_columns": null,
      "grid_template_rows": null,
      "height": null,
      "justify_content": null,
      "justify_items": null,
      "left": null,
      "margin": null,
      "max_height": null,
      "max_width": null,
      "min_height": null,
      "min_width": null,
      "object_fit": null,
      "object_position": null,
      "order": null,
      "overflow": null,
      "overflow_x": null,
      "overflow_y": null,
      "padding": null,
      "right": null,
      "top": null,
      "visibility": null,
      "width": null
     }
    },
    "b87bac22789d4f01b54ce4fe4d539e9e": {
     "model_module": "@jupyter-widgets/controls",
     "model_module_version": "1.5.0",
     "model_name": "HTMLModel",
     "state": {
      "_dom_classes": [],
      "_model_module": "@jupyter-widgets/controls",
      "_model_module_version": "1.5.0",
      "_model_name": "HTMLModel",
      "_view_count": null,
      "_view_module": "@jupyter-widgets/controls",
      "_view_module_version": "1.5.0",
      "_view_name": "HTMLView",
      "description": "",
      "description_tooltip": null,
      "layout": "IPY_MODEL_ab4aeba5a24d4a66abf804790a7b0add",
      "placeholder": "​",
      "style": "IPY_MODEL_d5d47176f34f4185bf21ad1a598c6877",
      "value": " 75765/75765 [07:36&lt;00:00, 181.82it/s]"
     }
    },
    "bfcd321ff7da454b86742df662c131dd": {
     "model_module": "@jupyter-widgets/controls",
     "model_module_version": "1.5.0",
     "model_name": "ProgressStyleModel",
     "state": {
      "_model_module": "@jupyter-widgets/controls",
      "_model_module_version": "1.5.0",
      "_model_name": "ProgressStyleModel",
      "_view_count": null,
      "_view_module": "@jupyter-widgets/base",
      "_view_module_version": "1.2.0",
      "_view_name": "StyleView",
      "bar_color": null,
      "description_width": ""
     }
    },
    "c00d4f47b3d94c9ebe320e6cf6a5146c": {
     "model_module": "@jupyter-widgets/controls",
     "model_module_version": "1.5.0",
     "model_name": "ProgressStyleModel",
     "state": {
      "_model_module": "@jupyter-widgets/controls",
      "_model_module_version": "1.5.0",
      "_model_name": "ProgressStyleModel",
      "_view_count": null,
      "_view_module": "@jupyter-widgets/base",
      "_view_module_version": "1.2.0",
      "_view_name": "StyleView",
      "bar_color": null,
      "description_width": ""
     }
    },
    "c4e3b04539b74fbba2e090c28c153ba7": {
     "model_module": "@jupyter-widgets/base",
     "model_module_version": "1.2.0",
     "model_name": "LayoutModel",
     "state": {
      "_model_module": "@jupyter-widgets/base",
      "_model_module_version": "1.2.0",
      "_model_name": "LayoutModel",
      "_view_count": null,
      "_view_module": "@jupyter-widgets/base",
      "_view_module_version": "1.2.0",
      "_view_name": "LayoutView",
      "align_content": null,
      "align_items": null,
      "align_self": null,
      "border": null,
      "bottom": null,
      "display": null,
      "flex": null,
      "flex_flow": null,
      "grid_area": null,
      "grid_auto_columns": null,
      "grid_auto_flow": null,
      "grid_auto_rows": null,
      "grid_column": null,
      "grid_gap": null,
      "grid_row": null,
      "grid_template_areas": null,
      "grid_template_columns": null,
      "grid_template_rows": null,
      "height": null,
      "justify_content": null,
      "justify_items": null,
      "left": null,
      "margin": null,
      "max_height": null,
      "max_width": null,
      "min_height": null,
      "min_width": null,
      "object_fit": null,
      "object_position": null,
      "order": null,
      "overflow": null,
      "overflow_x": null,
      "overflow_y": null,
      "padding": null,
      "right": null,
      "top": null,
      "visibility": null,
      "width": null
     }
    },
    "c94ed8ca270e46d18472567d826733eb": {
     "model_module": "@jupyter-widgets/base",
     "model_module_version": "1.2.0",
     "model_name": "LayoutModel",
     "state": {
      "_model_module": "@jupyter-widgets/base",
      "_model_module_version": "1.2.0",
      "_model_name": "LayoutModel",
      "_view_count": null,
      "_view_module": "@jupyter-widgets/base",
      "_view_module_version": "1.2.0",
      "_view_name": "LayoutView",
      "align_content": null,
      "align_items": null,
      "align_self": null,
      "border": null,
      "bottom": null,
      "display": null,
      "flex": null,
      "flex_flow": null,
      "grid_area": null,
      "grid_auto_columns": null,
      "grid_auto_flow": null,
      "grid_auto_rows": null,
      "grid_column": null,
      "grid_gap": null,
      "grid_row": null,
      "grid_template_areas": null,
      "grid_template_columns": null,
      "grid_template_rows": null,
      "height": null,
      "justify_content": null,
      "justify_items": null,
      "left": null,
      "margin": null,
      "max_height": null,
      "max_width": null,
      "min_height": null,
      "min_width": null,
      "object_fit": null,
      "object_position": null,
      "order": null,
      "overflow": null,
      "overflow_x": null,
      "overflow_y": null,
      "padding": null,
      "right": null,
      "top": null,
      "visibility": null,
      "width": null
     }
    },
    "cb203e567e0444d19bdf7a2bcda549ce": {
     "model_module": "@jupyter-widgets/controls",
     "model_module_version": "1.5.0",
     "model_name": "HTMLModel",
     "state": {
      "_dom_classes": [],
      "_model_module": "@jupyter-widgets/controls",
      "_model_module_version": "1.5.0",
      "_model_name": "HTMLModel",
      "_view_count": null,
      "_view_module": "@jupyter-widgets/controls",
      "_view_module_version": "1.5.0",
      "_view_name": "HTMLView",
      "description": "",
      "description_tooltip": null,
      "layout": "IPY_MODEL_c4e3b04539b74fbba2e090c28c153ba7",
      "placeholder": "​",
      "style": "IPY_MODEL_ef2343d9461348629695d3dee6cb6db4",
      "value": "Processing records: 100%"
     }
    },
    "d5d47176f34f4185bf21ad1a598c6877": {
     "model_module": "@jupyter-widgets/controls",
     "model_module_version": "1.5.0",
     "model_name": "DescriptionStyleModel",
     "state": {
      "_model_module": "@jupyter-widgets/controls",
      "_model_module_version": "1.5.0",
      "_model_name": "DescriptionStyleModel",
      "_view_count": null,
      "_view_module": "@jupyter-widgets/base",
      "_view_module_version": "1.2.0",
      "_view_name": "StyleView",
      "description_width": ""
     }
    },
    "d9d1147d7abb4720a762bca501c5f584": {
     "model_module": "@jupyter-widgets/base",
     "model_module_version": "1.2.0",
     "model_name": "LayoutModel",
     "state": {
      "_model_module": "@jupyter-widgets/base",
      "_model_module_version": "1.2.0",
      "_model_name": "LayoutModel",
      "_view_count": null,
      "_view_module": "@jupyter-widgets/base",
      "_view_module_version": "1.2.0",
      "_view_name": "LayoutView",
      "align_content": null,
      "align_items": null,
      "align_self": null,
      "border": null,
      "bottom": null,
      "display": null,
      "flex": null,
      "flex_flow": null,
      "grid_area": null,
      "grid_auto_columns": null,
      "grid_auto_flow": null,
      "grid_auto_rows": null,
      "grid_column": null,
      "grid_gap": null,
      "grid_row": null,
      "grid_template_areas": null,
      "grid_template_columns": null,
      "grid_template_rows": null,
      "height": null,
      "justify_content": null,
      "justify_items": null,
      "left": null,
      "margin": null,
      "max_height": null,
      "max_width": null,
      "min_height": null,
      "min_width": null,
      "object_fit": null,
      "object_position": null,
      "order": null,
      "overflow": null,
      "overflow_x": null,
      "overflow_y": null,
      "padding": null,
      "right": null,
      "top": null,
      "visibility": null,
      "width": null
     }
    },
    "e3417f31468741cd924fc230e2e3d01e": {
     "model_module": "@jupyter-widgets/base",
     "model_module_version": "1.2.0",
     "model_name": "LayoutModel",
     "state": {
      "_model_module": "@jupyter-widgets/base",
      "_model_module_version": "1.2.0",
      "_model_name": "LayoutModel",
      "_view_count": null,
      "_view_module": "@jupyter-widgets/base",
      "_view_module_version": "1.2.0",
      "_view_name": "LayoutView",
      "align_content": null,
      "align_items": null,
      "align_self": null,
      "border": null,
      "bottom": null,
      "display": null,
      "flex": null,
      "flex_flow": null,
      "grid_area": null,
      "grid_auto_columns": null,
      "grid_auto_flow": null,
      "grid_auto_rows": null,
      "grid_column": null,
      "grid_gap": null,
      "grid_row": null,
      "grid_template_areas": null,
      "grid_template_columns": null,
      "grid_template_rows": null,
      "height": null,
      "justify_content": null,
      "justify_items": null,
      "left": null,
      "margin": null,
      "max_height": null,
      "max_width": null,
      "min_height": null,
      "min_width": null,
      "object_fit": null,
      "object_position": null,
      "order": null,
      "overflow": null,
      "overflow_x": null,
      "overflow_y": null,
      "padding": null,
      "right": null,
      "top": null,
      "visibility": null,
      "width": null
     }
    },
    "eba2813cc448439d82964e065929bd69": {
     "model_module": "@jupyter-widgets/controls",
     "model_module_version": "1.5.0",
     "model_name": "DescriptionStyleModel",
     "state": {
      "_model_module": "@jupyter-widgets/controls",
      "_model_module_version": "1.5.0",
      "_model_name": "DescriptionStyleModel",
      "_view_count": null,
      "_view_module": "@jupyter-widgets/base",
      "_view_module_version": "1.2.0",
      "_view_name": "StyleView",
      "description_width": ""
     }
    },
    "ef2343d9461348629695d3dee6cb6db4": {
     "model_module": "@jupyter-widgets/controls",
     "model_module_version": "1.5.0",
     "model_name": "DescriptionStyleModel",
     "state": {
      "_model_module": "@jupyter-widgets/controls",
      "_model_module_version": "1.5.0",
      "_model_name": "DescriptionStyleModel",
      "_view_count": null,
      "_view_module": "@jupyter-widgets/base",
      "_view_module_version": "1.2.0",
      "_view_name": "StyleView",
      "description_width": ""
     }
    },
    "eff99a03cd55477db9ac773b3f0665d9": {
     "model_module": "@jupyter-widgets/controls",
     "model_module_version": "1.5.0",
     "model_name": "HTMLModel",
     "state": {
      "_dom_classes": [],
      "_model_module": "@jupyter-widgets/controls",
      "_model_module_version": "1.5.0",
      "_model_name": "HTMLModel",
      "_view_count": null,
      "_view_module": "@jupyter-widgets/controls",
      "_view_module_version": "1.5.0",
      "_view_name": "HTMLView",
      "description": "",
      "description_tooltip": null,
      "layout": "IPY_MODEL_65cee839b9b144269c75ec0d1e5540b9",
      "placeholder": "​",
      "style": "IPY_MODEL_5a74591f50264dda8308cf07c28eacda",
      "value": " 25255/25255 [02:33&lt;00:00, 176.69it/s]"
     }
    },
    "f46f88f04ced42fb8e13f817da35cbea": {
     "model_module": "@jupyter-widgets/controls",
     "model_module_version": "1.5.0",
     "model_name": "FloatProgressModel",
     "state": {
      "_dom_classes": [],
      "_model_module": "@jupyter-widgets/controls",
      "_model_module_version": "1.5.0",
      "_model_name": "FloatProgressModel",
      "_view_count": null,
      "_view_module": "@jupyter-widgets/controls",
      "_view_module_version": "1.5.0",
      "_view_name": "ProgressView",
      "bar_style": "success",
      "description": "",
      "description_tooltip": null,
      "layout": "IPY_MODEL_c94ed8ca270e46d18472567d826733eb",
      "max": 75765,
      "min": 0,
      "orientation": "horizontal",
      "style": "IPY_MODEL_f5f10f6f1b4b4c05b8610e655acc0c82",
      "value": 75765
     }
    },
    "f5f10f6f1b4b4c05b8610e655acc0c82": {
     "model_module": "@jupyter-widgets/controls",
     "model_module_version": "1.5.0",
     "model_name": "ProgressStyleModel",
     "state": {
      "_model_module": "@jupyter-widgets/controls",
      "_model_module_version": "1.5.0",
      "_model_name": "ProgressStyleModel",
      "_view_count": null,
      "_view_module": "@jupyter-widgets/base",
      "_view_module_version": "1.2.0",
      "_view_name": "StyleView",
      "bar_color": null,
      "description_width": ""
     }
    },
    "f79c3326c6204bdeb38265d259f6a673": {
     "model_module": "@jupyter-widgets/controls",
     "model_module_version": "1.5.0",
     "model_name": "DescriptionStyleModel",
     "state": {
      "_model_module": "@jupyter-widgets/controls",
      "_model_module_version": "1.5.0",
      "_model_name": "DescriptionStyleModel",
      "_view_count": null,
      "_view_module": "@jupyter-widgets/base",
      "_view_module_version": "1.2.0",
      "_view_name": "StyleView",
      "description_width": ""
     }
    },
    "fcba61a668584fc4abd4b7b9d26fbab3": {
     "model_module": "@jupyter-widgets/base",
     "model_module_version": "1.2.0",
     "model_name": "LayoutModel",
     "state": {
      "_model_module": "@jupyter-widgets/base",
      "_model_module_version": "1.2.0",
      "_model_name": "LayoutModel",
      "_view_count": null,
      "_view_module": "@jupyter-widgets/base",
      "_view_module_version": "1.2.0",
      "_view_name": "LayoutView",
      "align_content": null,
      "align_items": null,
      "align_self": null,
      "border": null,
      "bottom": null,
      "display": null,
      "flex": null,
      "flex_flow": null,
      "grid_area": null,
      "grid_auto_columns": null,
      "grid_auto_flow": null,
      "grid_auto_rows": null,
      "grid_column": null,
      "grid_gap": null,
      "grid_row": null,
      "grid_template_areas": null,
      "grid_template_columns": null,
      "grid_template_rows": null,
      "height": null,
      "justify_content": null,
      "justify_items": null,
      "left": null,
      "margin": null,
      "max_height": null,
      "max_width": null,
      "min_height": null,
      "min_width": null,
      "object_fit": null,
      "object_position": null,
      "order": null,
      "overflow": null,
      "overflow_x": null,
      "overflow_y": null,
      "padding": null,
      "right": null,
      "top": null,
      "visibility": null,
      "width": null
     }
    }
   }
  }
 },
 "nbformat": 4,
 "nbformat_minor": 1
}
