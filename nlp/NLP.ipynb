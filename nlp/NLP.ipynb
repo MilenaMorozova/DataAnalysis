{
 "cells": [
  {
   "cell_type": "code",
   "execution_count": 4,
   "metadata": {
    "id": "zPrdZHEjyRlX"
   },
   "outputs": [],
   "source": [
    "import random\n",
    "from datetime import datetime\n",
    "import os\n",
    "\n",
    "import pandas as pd\n",
    "from sklearn.model_selection import train_test_split\n",
    "import torch\n",
    "import torch.nn.functional as F\n",
    "from torch.utils.data import Dataset, DataLoader\n",
    "from torch import nn, utils, optim\n",
    "from torchtext.data.utils import get_tokenizer\n",
    "from torchtext.vocab import build_vocab_from_iterator\n",
    "from tqdm.notebook import tqdm"
   ]
  },
  {
   "cell_type": "markdown",
   "metadata": {
    "id": "irCmKLpE1ho_"
   },
   "source": [
    "Ссылка на датасет - https://www.kaggle.com/clmentbisaillon/fake-and-real-news-dataset\n",
    "\n",
    "Задача: Даны новости. Обучить модель, которая должна определить реальная новость или выдуманная."
   ]
  },
  {
   "cell_type": "code",
   "execution_count": 8,
   "metadata": {
    "id": "29EKujJByRlc"
   },
   "outputs": [],
   "source": [
    "RANDOM_STATE = 17\n",
    "torch.manual_seed(RANDOM_STATE)\n",
    "random.seed = RANDOM_STATE"
   ]
  },
  {
   "cell_type": "code",
   "execution_count": 5,
   "metadata": {
    "colab": {
     "base_uri": "https://localhost:8080/",
     "height": 202
    },
    "id": "sGsQmP9ZyRlc",
    "outputId": "8ad5117a-8717-4e80-bed5-4f6301b6951e"
   },
   "outputs": [
    {
     "data": {
      "text/html": [
       "<div>\n",
       "<style scoped>\n",
       "    .dataframe tbody tr th:only-of-type {\n",
       "        vertical-align: middle;\n",
       "    }\n",
       "\n",
       "    .dataframe tbody tr th {\n",
       "        vertical-align: top;\n",
       "    }\n",
       "\n",
       "    .dataframe thead th {\n",
       "        text-align: right;\n",
       "    }\n",
       "</style>\n",
       "<table border=\"1\" class=\"dataframe\">\n",
       "  <thead>\n",
       "    <tr style=\"text-align: right;\">\n",
       "      <th></th>\n",
       "      <th>title</th>\n",
       "      <th>text</th>\n",
       "      <th>subject</th>\n",
       "      <th>date</th>\n",
       "      <th>target</th>\n",
       "    </tr>\n",
       "  </thead>\n",
       "  <tbody>\n",
       "    <tr>\n",
       "      <th>0</th>\n",
       "      <td>As U.S. budget fight looms, Republicans flip t...</td>\n",
       "      <td>WASHINGTON (Reuters) - The head of a conservat...</td>\n",
       "      <td>politicsNews</td>\n",
       "      <td>December 31, 2017</td>\n",
       "      <td>True</td>\n",
       "    </tr>\n",
       "    <tr>\n",
       "      <th>1</th>\n",
       "      <td>U.S. military to accept transgender recruits o...</td>\n",
       "      <td>WASHINGTON (Reuters) - Transgender people will...</td>\n",
       "      <td>politicsNews</td>\n",
       "      <td>December 29, 2017</td>\n",
       "      <td>True</td>\n",
       "    </tr>\n",
       "    <tr>\n",
       "      <th>2</th>\n",
       "      <td>Senior U.S. Republican senator: 'Let Mr. Muell...</td>\n",
       "      <td>WASHINGTON (Reuters) - The special counsel inv...</td>\n",
       "      <td>politicsNews</td>\n",
       "      <td>December 31, 2017</td>\n",
       "      <td>True</td>\n",
       "    </tr>\n",
       "    <tr>\n",
       "      <th>3</th>\n",
       "      <td>FBI Russia probe helped by Australian diplomat...</td>\n",
       "      <td>WASHINGTON (Reuters) - Trump campaign adviser ...</td>\n",
       "      <td>politicsNews</td>\n",
       "      <td>December 30, 2017</td>\n",
       "      <td>True</td>\n",
       "    </tr>\n",
       "    <tr>\n",
       "      <th>4</th>\n",
       "      <td>Trump wants Postal Service to charge 'much mor...</td>\n",
       "      <td>SEATTLE/WASHINGTON (Reuters) - President Donal...</td>\n",
       "      <td>politicsNews</td>\n",
       "      <td>December 29, 2017</td>\n",
       "      <td>True</td>\n",
       "    </tr>\n",
       "  </tbody>\n",
       "</table>\n",
       "</div>"
      ],
      "text/plain": [
       "                                               title  \\\n",
       "0  As U.S. budget fight looms, Republicans flip t...   \n",
       "1  U.S. military to accept transgender recruits o...   \n",
       "2  Senior U.S. Republican senator: 'Let Mr. Muell...   \n",
       "3  FBI Russia probe helped by Australian diplomat...   \n",
       "4  Trump wants Postal Service to charge 'much mor...   \n",
       "\n",
       "                                                text       subject  \\\n",
       "0  WASHINGTON (Reuters) - The head of a conservat...  politicsNews   \n",
       "1  WASHINGTON (Reuters) - Transgender people will...  politicsNews   \n",
       "2  WASHINGTON (Reuters) - The special counsel inv...  politicsNews   \n",
       "3  WASHINGTON (Reuters) - Trump campaign adviser ...  politicsNews   \n",
       "4  SEATTLE/WASHINGTON (Reuters) - President Donal...  politicsNews   \n",
       "\n",
       "                 date  target  \n",
       "0  December 31, 2017     True  \n",
       "1  December 29, 2017     True  \n",
       "2  December 31, 2017     True  \n",
       "3  December 30, 2017     True  \n",
       "4  December 29, 2017     True  "
      ]
     },
     "execution_count": 5,
     "metadata": {},
     "output_type": "execute_result"
    }
   ],
   "source": [
    "true_data_path = os.path.join('data', 'True.csv')\n",
    "true_data = pd.read_csv(true_data_path)\n",
    "true_data['target'] = True\n",
    "true_data.head()"
   ]
  },
  {
   "cell_type": "code",
   "execution_count": 6,
   "metadata": {
    "colab": {
     "base_uri": "https://localhost:8080/",
     "height": 202
    },
    "id": "W0aufUzryRld",
    "outputId": "649f2f38-1294-44ab-c0fc-c661b2390f26",
    "scrolled": true
   },
   "outputs": [
    {
     "data": {
      "text/html": [
       "<div>\n",
       "<style scoped>\n",
       "    .dataframe tbody tr th:only-of-type {\n",
       "        vertical-align: middle;\n",
       "    }\n",
       "\n",
       "    .dataframe tbody tr th {\n",
       "        vertical-align: top;\n",
       "    }\n",
       "\n",
       "    .dataframe thead th {\n",
       "        text-align: right;\n",
       "    }\n",
       "</style>\n",
       "<table border=\"1\" class=\"dataframe\">\n",
       "  <thead>\n",
       "    <tr style=\"text-align: right;\">\n",
       "      <th></th>\n",
       "      <th>title</th>\n",
       "      <th>text</th>\n",
       "      <th>subject</th>\n",
       "      <th>date</th>\n",
       "      <th>target</th>\n",
       "    </tr>\n",
       "  </thead>\n",
       "  <tbody>\n",
       "    <tr>\n",
       "      <th>0</th>\n",
       "      <td>Donald Trump Sends Out Embarrassing New Year’...</td>\n",
       "      <td>Donald Trump just couldn t wish all Americans ...</td>\n",
       "      <td>News</td>\n",
       "      <td>December 31, 2017</td>\n",
       "      <td>False</td>\n",
       "    </tr>\n",
       "    <tr>\n",
       "      <th>1</th>\n",
       "      <td>Drunk Bragging Trump Staffer Started Russian ...</td>\n",
       "      <td>House Intelligence Committee Chairman Devin Nu...</td>\n",
       "      <td>News</td>\n",
       "      <td>December 31, 2017</td>\n",
       "      <td>False</td>\n",
       "    </tr>\n",
       "    <tr>\n",
       "      <th>2</th>\n",
       "      <td>Sheriff David Clarke Becomes An Internet Joke...</td>\n",
       "      <td>On Friday, it was revealed that former Milwauk...</td>\n",
       "      <td>News</td>\n",
       "      <td>December 30, 2017</td>\n",
       "      <td>False</td>\n",
       "    </tr>\n",
       "    <tr>\n",
       "      <th>3</th>\n",
       "      <td>Trump Is So Obsessed He Even Has Obama’s Name...</td>\n",
       "      <td>On Christmas day, Donald Trump announced that ...</td>\n",
       "      <td>News</td>\n",
       "      <td>December 29, 2017</td>\n",
       "      <td>False</td>\n",
       "    </tr>\n",
       "    <tr>\n",
       "      <th>4</th>\n",
       "      <td>Pope Francis Just Called Out Donald Trump Dur...</td>\n",
       "      <td>Pope Francis used his annual Christmas Day mes...</td>\n",
       "      <td>News</td>\n",
       "      <td>December 25, 2017</td>\n",
       "      <td>False</td>\n",
       "    </tr>\n",
       "  </tbody>\n",
       "</table>\n",
       "</div>"
      ],
      "text/plain": [
       "                                               title  \\\n",
       "0   Donald Trump Sends Out Embarrassing New Year’...   \n",
       "1   Drunk Bragging Trump Staffer Started Russian ...   \n",
       "2   Sheriff David Clarke Becomes An Internet Joke...   \n",
       "3   Trump Is So Obsessed He Even Has Obama’s Name...   \n",
       "4   Pope Francis Just Called Out Donald Trump Dur...   \n",
       "\n",
       "                                                text subject  \\\n",
       "0  Donald Trump just couldn t wish all Americans ...    News   \n",
       "1  House Intelligence Committee Chairman Devin Nu...    News   \n",
       "2  On Friday, it was revealed that former Milwauk...    News   \n",
       "3  On Christmas day, Donald Trump announced that ...    News   \n",
       "4  Pope Francis used his annual Christmas Day mes...    News   \n",
       "\n",
       "                date  target  \n",
       "0  December 31, 2017   False  \n",
       "1  December 31, 2017   False  \n",
       "2  December 30, 2017   False  \n",
       "3  December 29, 2017   False  \n",
       "4  December 25, 2017   False  "
      ]
     },
     "execution_count": 6,
     "metadata": {},
     "output_type": "execute_result"
    }
   ],
   "source": [
    "fake_data_path = os.path.join('data', 'Fake.csv')\n",
    "fake_data = pd.read_csv(fake_data_path)\n",
    "fake_data['target'] = False\n",
    "fake_data.head()"
   ]
  },
  {
   "cell_type": "code",
   "execution_count": 7,
   "metadata": {
    "colab": {
     "base_uri": "https://localhost:8080/",
     "height": 202
    },
    "id": "oDA225XnyRle",
    "outputId": "93d9d471-b543-4737-be00-997cbc229414"
   },
   "outputs": [
    {
     "data": {
      "text/html": [
       "<div>\n",
       "<style scoped>\n",
       "    .dataframe tbody tr th:only-of-type {\n",
       "        vertical-align: middle;\n",
       "    }\n",
       "\n",
       "    .dataframe tbody tr th {\n",
       "        vertical-align: top;\n",
       "    }\n",
       "\n",
       "    .dataframe thead th {\n",
       "        text-align: right;\n",
       "    }\n",
       "</style>\n",
       "<table border=\"1\" class=\"dataframe\">\n",
       "  <thead>\n",
       "    <tr style=\"text-align: right;\">\n",
       "      <th></th>\n",
       "      <th>title</th>\n",
       "      <th>text</th>\n",
       "      <th>subject</th>\n",
       "      <th>date</th>\n",
       "      <th>target</th>\n",
       "    </tr>\n",
       "  </thead>\n",
       "  <tbody>\n",
       "    <tr>\n",
       "      <th>0</th>\n",
       "      <td>Reeking Of Desperation, Trump Sends Out ‘Poll...</td>\n",
       "      <td>Facing corruption scandals, nepotism scandals,...</td>\n",
       "      <td>News</td>\n",
       "      <td>March 23, 2017</td>\n",
       "      <td>False</td>\n",
       "    </tr>\n",
       "    <tr>\n",
       "      <th>1</th>\n",
       "      <td>Trump dictated misleading statement on son's m...</td>\n",
       "      <td>WASHINGTON (Reuters) - U.S. President Donald T...</td>\n",
       "      <td>politicsNews</td>\n",
       "      <td>August 1, 2017</td>\n",
       "      <td>True</td>\n",
       "    </tr>\n",
       "    <tr>\n",
       "      <th>2</th>\n",
       "      <td>Former soccer star Kaladze runs for mayor in G...</td>\n",
       "      <td>TBILISI (Reuters) - Kakha Kaladze climbed to t...</td>\n",
       "      <td>worldnews</td>\n",
       "      <td>October 19, 2017</td>\n",
       "      <td>True</td>\n",
       "    </tr>\n",
       "    <tr>\n",
       "      <th>3</th>\n",
       "      <td>Puerto Rico governor ups revenue forecast in r...</td>\n",
       "      <td>(Reuters) - Puerto Rico’s governor said on Sat...</td>\n",
       "      <td>politicsNews</td>\n",
       "      <td>March 11, 2017</td>\n",
       "      <td>True</td>\n",
       "    </tr>\n",
       "    <tr>\n",
       "      <th>4</th>\n",
       "      <td>Trump Put An American Flag On His Birthday Tw...</td>\n",
       "      <td>It seems that Donald Trump is often incapable ...</td>\n",
       "      <td>News</td>\n",
       "      <td>April 27, 2017</td>\n",
       "      <td>False</td>\n",
       "    </tr>\n",
       "  </tbody>\n",
       "</table>\n",
       "</div>"
      ],
      "text/plain": [
       "                                               title  \\\n",
       "0   Reeking Of Desperation, Trump Sends Out ‘Poll...   \n",
       "1  Trump dictated misleading statement on son's m...   \n",
       "2  Former soccer star Kaladze runs for mayor in G...   \n",
       "3  Puerto Rico governor ups revenue forecast in r...   \n",
       "4   Trump Put An American Flag On His Birthday Tw...   \n",
       "\n",
       "                                                text       subject  \\\n",
       "0  Facing corruption scandals, nepotism scandals,...          News   \n",
       "1  WASHINGTON (Reuters) - U.S. President Donald T...  politicsNews   \n",
       "2  TBILISI (Reuters) - Kakha Kaladze climbed to t...     worldnews   \n",
       "3  (Reuters) - Puerto Rico’s governor said on Sat...  politicsNews   \n",
       "4  It seems that Donald Trump is often incapable ...          News   \n",
       "\n",
       "                date  target  \n",
       "0     March 23, 2017   False  \n",
       "1    August 1, 2017     True  \n",
       "2  October 19, 2017     True  \n",
       "3    March 11, 2017     True  \n",
       "4     April 27, 2017   False  "
      ]
     },
     "execution_count": 7,
     "metadata": {},
     "output_type": "execute_result"
    }
   ],
   "source": [
    "data = pd.concat([true_data, fake_data], ignore_index=True)\n",
    "data = data.sample(frac=1, random_state=RANDOM_STATE).reset_index(drop=True)\n",
    "data.head()"
   ]
  },
  {
   "cell_type": "markdown",
   "metadata": {
    "id": "PeUY2wUfyRlf"
   },
   "source": [
    "### Preprocessing "
   ]
  },
  {
   "cell_type": "code",
   "execution_count": 52,
   "metadata": {
    "id": "dkAM4YVNyRle"
   },
   "outputs": [],
   "source": [
    "TEXT_COLUMNS = ['title', 'text']"
   ]
  },
  {
   "cell_type": "markdown",
   "metadata": {
    "id": "B4OXH9cf6-TI"
   },
   "source": [
    "- Пробразование даты в `timestamp`"
   ]
  },
  {
   "cell_type": "code",
   "execution_count": 53,
   "metadata": {
    "id": "WolaAzgLyRlg"
   },
   "outputs": [],
   "source": [
    "def date_to_timestamp(date):\n",
    "    formats = [\"%B %d, %Y\", \"%b %d, %Y\", \"%d-%b-%y\"]\n",
    "    for date_format in formats:\n",
    "        try:\n",
    "            return datetime.strptime(date.strip(), date_format).timestamp()\n",
    "        except:\n",
    "            pass\n",
    "    print(date)\n",
    "    return 0"
   ]
  },
  {
   "cell_type": "code",
   "execution_count": 54,
   "metadata": {
    "colab": {
     "base_uri": "https://localhost:8080/",
     "height": 386
    },
    "id": "rLTpZKtN32c0",
    "outputId": "26bddf06-c0a4-445a-f002-b28cb09184ca"
   },
   "outputs": [
    {
     "name": "stdout",
     "output_type": "stream",
     "text": [
      "BAD DATES\n",
      "https://fedup.wpengine.com/wp-content/uploads/2015/04/entitled.jpg\n",
      "https://fedup.wpengine.com/wp-content/uploads/2015/04/hillarystreetart.jpg\n",
      "https://fedup.wpengine.com/wp-content/uploads/2015/04/entitled.jpg\n",
      "https://fedup.wpengine.com/wp-content/uploads/2015/04/hillarystreetart.jpg\n",
      "https://fedup.wpengine.com/wp-content/uploads/2015/04/entitled.jpg\n",
      "https://100percentfedup.com/12-yr-old-black-conservative-whose-video-to-obama-went-viral-do-you-really-love-america-receives-death-threats-from-left/\n",
      "MSNBC HOST Rudely Assumes Steel Worker Would Never Let His Son Follow in His Footsteps…He Couldn’t Be More Wrong [Video]\n",
      "https://fedup.wpengine.com/wp-content/uploads/2015/04/hillarystreetart.jpg\n",
      "https://100percentfedup.com/served-roy-moore-vietnamletter-veteran-sets-record-straight-honorable-decent-respectable-patriotic-commander-soldier/\n",
      "https://100percentfedup.com/video-hillary-asked-about-trump-i-just-want-to-eat-some-pie/\n"
     ]
    },
    {
     "data": {
      "text/html": [
       "<div>\n",
       "<style scoped>\n",
       "    .dataframe tbody tr th:only-of-type {\n",
       "        vertical-align: middle;\n",
       "    }\n",
       "\n",
       "    .dataframe tbody tr th {\n",
       "        vertical-align: top;\n",
       "    }\n",
       "\n",
       "    .dataframe thead th {\n",
       "        text-align: right;\n",
       "    }\n",
       "</style>\n",
       "<table border=\"1\" class=\"dataframe\">\n",
       "  <thead>\n",
       "    <tr style=\"text-align: right;\">\n",
       "      <th></th>\n",
       "      <th>title</th>\n",
       "      <th>text</th>\n",
       "      <th>subject</th>\n",
       "      <th>date</th>\n",
       "      <th>target</th>\n",
       "    </tr>\n",
       "  </thead>\n",
       "  <tbody>\n",
       "    <tr>\n",
       "      <th>0</th>\n",
       "      <td>Reeking Of Desperation, Trump Sends Out ‘Poll...</td>\n",
       "      <td>Facing corruption scandals, nepotism scandals,...</td>\n",
       "      <td>News</td>\n",
       "      <td>1.490227e+09</td>\n",
       "      <td>False</td>\n",
       "    </tr>\n",
       "    <tr>\n",
       "      <th>1</th>\n",
       "      <td>Trump dictated misleading statement on son's m...</td>\n",
       "      <td>WASHINGTON (Reuters) - U.S. President Donald T...</td>\n",
       "      <td>politicsNews</td>\n",
       "      <td>1.501546e+09</td>\n",
       "      <td>True</td>\n",
       "    </tr>\n",
       "    <tr>\n",
       "      <th>2</th>\n",
       "      <td>Former soccer star Kaladze runs for mayor in G...</td>\n",
       "      <td>TBILISI (Reuters) - Kakha Kaladze climbed to t...</td>\n",
       "      <td>worldnews</td>\n",
       "      <td>1.508371e+09</td>\n",
       "      <td>True</td>\n",
       "    </tr>\n",
       "    <tr>\n",
       "      <th>3</th>\n",
       "      <td>Puerto Rico governor ups revenue forecast in r...</td>\n",
       "      <td>(Reuters) - Puerto Rico’s governor said on Sat...</td>\n",
       "      <td>politicsNews</td>\n",
       "      <td>1.489190e+09</td>\n",
       "      <td>True</td>\n",
       "    </tr>\n",
       "    <tr>\n",
       "      <th>4</th>\n",
       "      <td>Trump Put An American Flag On His Birthday Tw...</td>\n",
       "      <td>It seems that Donald Trump is often incapable ...</td>\n",
       "      <td>News</td>\n",
       "      <td>1.493251e+09</td>\n",
       "      <td>False</td>\n",
       "    </tr>\n",
       "  </tbody>\n",
       "</table>\n",
       "</div>"
      ],
      "text/plain": [
       "                                               title  ... target\n",
       "0   Reeking Of Desperation, Trump Sends Out ‘Poll...  ...  False\n",
       "1  Trump dictated misleading statement on son's m...  ...   True\n",
       "2  Former soccer star Kaladze runs for mayor in G...  ...   True\n",
       "3  Puerto Rico governor ups revenue forecast in r...  ...   True\n",
       "4   Trump Put An American Flag On His Birthday Tw...  ...  False\n",
       "\n",
       "[5 rows x 5 columns]"
      ]
     },
     "execution_count": 54,
     "metadata": {},
     "output_type": "execute_result"
    }
   ],
   "source": [
    "print('BAD DATES')    \n",
    "data['date'] = data['date'].apply(date_to_timestamp)\n",
    "data.head()"
   ]
  },
  {
   "cell_type": "markdown",
   "metadata": {
    "id": "oeqEK_OF7JAt"
   },
   "source": [
    "- Применение one-hot encoding для категориальных данных"
   ]
  },
  {
   "cell_type": "code",
   "execution_count": 55,
   "metadata": {
    "colab": {
     "base_uri": "https://localhost:8080/"
    },
    "id": "aiy1ddky7dCT",
    "outputId": "5a3d27b2-d485-4f69-aa11-aa5533ba5991"
   },
   "outputs": [
    {
     "data": {
      "text/plain": [
       "array(['News', 'politicsNews', 'worldnews', 'politics', 'Government News',\n",
       "       'left-news', 'Middle-east', 'US_News'], dtype=object)"
      ]
     },
     "execution_count": 55,
     "metadata": {},
     "output_type": "execute_result"
    }
   ],
   "source": [
    "data.subject.unique()"
   ]
  },
  {
   "cell_type": "code",
   "execution_count": 56,
   "metadata": {
    "colab": {
     "base_uri": "https://localhost:8080/",
     "height": 302
    },
    "id": "TgVO-XInyRli",
    "outputId": "3f8088bc-75b5-43ba-a10f-ff31b1a536ed"
   },
   "outputs": [
    {
     "data": {
      "text/html": [
       "<div>\n",
       "<style scoped>\n",
       "    .dataframe tbody tr th:only-of-type {\n",
       "        vertical-align: middle;\n",
       "    }\n",
       "\n",
       "    .dataframe tbody tr th {\n",
       "        vertical-align: top;\n",
       "    }\n",
       "\n",
       "    .dataframe thead th {\n",
       "        text-align: right;\n",
       "    }\n",
       "</style>\n",
       "<table border=\"1\" class=\"dataframe\">\n",
       "  <thead>\n",
       "    <tr style=\"text-align: right;\">\n",
       "      <th></th>\n",
       "      <th>title</th>\n",
       "      <th>text</th>\n",
       "      <th>date</th>\n",
       "      <th>target</th>\n",
       "      <th>Government News</th>\n",
       "      <th>Middle-east</th>\n",
       "      <th>News</th>\n",
       "      <th>US_News</th>\n",
       "      <th>left-news</th>\n",
       "      <th>politics</th>\n",
       "      <th>politicsNews</th>\n",
       "      <th>worldnews</th>\n",
       "    </tr>\n",
       "  </thead>\n",
       "  <tbody>\n",
       "    <tr>\n",
       "      <th>0</th>\n",
       "      <td>Reeking Of Desperation, Trump Sends Out ‘Poll...</td>\n",
       "      <td>Facing corruption scandals, nepotism scandals,...</td>\n",
       "      <td>1.490227e+09</td>\n",
       "      <td>False</td>\n",
       "      <td>0</td>\n",
       "      <td>0</td>\n",
       "      <td>1</td>\n",
       "      <td>0</td>\n",
       "      <td>0</td>\n",
       "      <td>0</td>\n",
       "      <td>0</td>\n",
       "      <td>0</td>\n",
       "    </tr>\n",
       "    <tr>\n",
       "      <th>1</th>\n",
       "      <td>Trump dictated misleading statement on son's m...</td>\n",
       "      <td>WASHINGTON (Reuters) - U.S. President Donald T...</td>\n",
       "      <td>1.501546e+09</td>\n",
       "      <td>True</td>\n",
       "      <td>0</td>\n",
       "      <td>0</td>\n",
       "      <td>0</td>\n",
       "      <td>0</td>\n",
       "      <td>0</td>\n",
       "      <td>0</td>\n",
       "      <td>1</td>\n",
       "      <td>0</td>\n",
       "    </tr>\n",
       "    <tr>\n",
       "      <th>2</th>\n",
       "      <td>Former soccer star Kaladze runs for mayor in G...</td>\n",
       "      <td>TBILISI (Reuters) - Kakha Kaladze climbed to t...</td>\n",
       "      <td>1.508371e+09</td>\n",
       "      <td>True</td>\n",
       "      <td>0</td>\n",
       "      <td>0</td>\n",
       "      <td>0</td>\n",
       "      <td>0</td>\n",
       "      <td>0</td>\n",
       "      <td>0</td>\n",
       "      <td>0</td>\n",
       "      <td>1</td>\n",
       "    </tr>\n",
       "    <tr>\n",
       "      <th>3</th>\n",
       "      <td>Puerto Rico governor ups revenue forecast in r...</td>\n",
       "      <td>(Reuters) - Puerto Rico’s governor said on Sat...</td>\n",
       "      <td>1.489190e+09</td>\n",
       "      <td>True</td>\n",
       "      <td>0</td>\n",
       "      <td>0</td>\n",
       "      <td>0</td>\n",
       "      <td>0</td>\n",
       "      <td>0</td>\n",
       "      <td>0</td>\n",
       "      <td>1</td>\n",
       "      <td>0</td>\n",
       "    </tr>\n",
       "    <tr>\n",
       "      <th>4</th>\n",
       "      <td>Trump Put An American Flag On His Birthday Tw...</td>\n",
       "      <td>It seems that Donald Trump is often incapable ...</td>\n",
       "      <td>1.493251e+09</td>\n",
       "      <td>False</td>\n",
       "      <td>0</td>\n",
       "      <td>0</td>\n",
       "      <td>1</td>\n",
       "      <td>0</td>\n",
       "      <td>0</td>\n",
       "      <td>0</td>\n",
       "      <td>0</td>\n",
       "      <td>0</td>\n",
       "    </tr>\n",
       "  </tbody>\n",
       "</table>\n",
       "</div>"
      ],
      "text/plain": [
       "                                               title  ... worldnews\n",
       "0   Reeking Of Desperation, Trump Sends Out ‘Poll...  ...         0\n",
       "1  Trump dictated misleading statement on son's m...  ...         0\n",
       "2  Former soccer star Kaladze runs for mayor in G...  ...         1\n",
       "3  Puerto Rico governor ups revenue forecast in r...  ...         0\n",
       "4   Trump Put An American Flag On His Birthday Tw...  ...         0\n",
       "\n",
       "[5 rows x 12 columns]"
      ]
     },
     "execution_count": 56,
     "metadata": {},
     "output_type": "execute_result"
    }
   ],
   "source": [
    "subjects_columns = pd.get_dummies(data.subject)\n",
    "data[subjects_columns.columns] = subjects_columns\n",
    "data.drop('subject', inplace=True, axis=1)\n",
    "data.head()"
   ]
  },
  {
   "cell_type": "markdown",
   "metadata": {
    "id": "fk8PBvP57yud"
   },
   "source": [
    "- Строим матрицу корреляции:"
   ]
  },
  {
   "cell_type": "code",
   "execution_count": 57,
   "metadata": {
    "id": "nCt83cFU5v97"
   },
   "outputs": [],
   "source": [
    "import seaborn as sns"
   ]
  },
  {
   "cell_type": "code",
   "execution_count": 58,
   "metadata": {
    "colab": {
     "base_uri": "https://localhost:8080/",
     "height": 369
    },
    "id": "VZuBYnN4yRlh",
    "outputId": "9dd6493f-8d00-4de4-bd4e-cc990c40c7f3"
   },
   "outputs": [
    {
     "data": {
      "text/plain": [
       "<matplotlib.axes._subplots.AxesSubplot at 0x7f3f57c99750>"
      ]
     },
     "execution_count": 58,
     "metadata": {},
     "output_type": "execute_result"
    },
    {
     "data": {
      "image/png": "[encoded data removed]",
      "text/plain": [
       "<Figure size 432x288 with 2 Axes>"
      ]
     },
     "metadata": {
      "needs_background": "light"
     },
     "output_type": "display_data"
    }
   ],
   "source": [
    "sns.heatmap(data.corr())"
   ]
  },
  {
   "cell_type": "markdown",
   "metadata": {
    "id": "Ih4LtJYN6Uh4"
   },
   "source": [
    "Вывод: \n",
    "  - Прямая зависимость между `target` и `worldnews`, `politicsNews`(примерно 0.7 в обоих случаях).\n",
    "  - Обратная зависимость между `target` и `News`(примерно -0.9)\n",
    "  - Поле `date` при обучении не будет рассмотриваться, потому что коэффициент корреляции низкий(около 0.3)."
   ]
  },
  {
   "cell_type": "markdown",
   "metadata": {
    "id": "do7qDz23yRlj"
   },
   "source": [
    "### Training"
   ]
  },
  {
   "cell_type": "code",
   "execution_count": 59,
   "metadata": {
    "id": "5yoKjBkB6M-Z"
   },
   "outputs": [],
   "source": [
    "BATCH_SIZE = 8\n",
    "MAX_LEN = 30"
   ]
  },
  {
   "cell_type": "code",
   "execution_count": 60,
   "metadata": {
    "id": "YTjB3CjSyRlk"
   },
   "outputs": [],
   "source": [
    "device = torch.device(\"cuda\" if torch.cuda.is_available() else \"cpu\")"
   ]
  },
  {
   "cell_type": "markdown",
   "metadata": {
    "id": "USdpEFqa8ydK"
   },
   "source": [
    "- делим данные на `train` и `test`"
   ]
  },
  {
   "cell_type": "code",
   "execution_count": 61,
   "metadata": {
    "colab": {
     "base_uri": "https://localhost:8080/"
    },
    "id": "qw_YJVyOyRli",
    "outputId": "c4e5ae63-b0af-4a65-a3be-f90e4f878f2f"
   },
   "outputs": [
    {
     "name": "stdout",
     "output_type": "stream",
     "text": [
      "Train size =  40408\n",
      "Test size =  4490\n"
     ]
    }
   ],
   "source": [
    "data_train, data_test = train_test_split(data, test_size=0.1, random_state=RANDOM_STATE)\n",
    "print(\"Train size = \", len(data_train))\n",
    "print(\"Test size = \", len(data_test))"
   ]
  },
  {
   "cell_type": "code",
   "execution_count": 62,
   "metadata": {
    "id": "DwDITDvpyRlj"
   },
   "outputs": [],
   "source": [
    "class CustomDataset(Dataset):\n",
    "    def __init__(self, data):\n",
    "        self.data = data\n",
    "        \n",
    "    def __len__(self):\n",
    "        return len(self.data)\n",
    "    \n",
    "    def __getitem__(self, idx):\n",
    "        return dict(self.data.iloc[idx])"
   ]
  },
  {
   "cell_type": "code",
   "execution_count": 63,
   "metadata": {
    "id": "98hlr7mRyRlj"
   },
   "outputs": [],
   "source": [
    "train_dataset = CustomDataset(data_train)\n",
    "test_dataset = CustomDataset(data_test)"
   ]
  },
  {
   "cell_type": "markdown",
   "metadata": {
    "id": "BhJaz1P0IW86"
   },
   "source": [
    "- токенизируем"
   ]
  },
  {
   "cell_type": "code",
   "execution_count": 64,
   "metadata": {
    "id": "I7N_RCQhH_L0"
   },
   "outputs": [],
   "source": [
    "UNK = \"UNK\"\n",
    "PAD = \"PAD\""
   ]
  },
  {
   "cell_type": "code",
   "execution_count": 65,
   "metadata": {
    "id": "857u6dcqyRlk"
   },
   "outputs": [],
   "source": [
    "tokenizer = get_tokenizer('basic_english')"
   ]
  },
  {
   "cell_type": "code",
   "execution_count": 66,
   "metadata": {
    "id": "skKNGAUsyRlk"
   },
   "outputs": [],
   "source": [
    "def yield_tokens(data: pd.DataFrame):\n",
    "    for i, row in data.iterrows():\n",
    "        yield tokenizer(row.text)\n",
    "        yield tokenizer(row.title)"
   ]
  },
  {
   "cell_type": "code",
   "execution_count": 67,
   "metadata": {
    "id": "AFm7Zcz4HpvP"
   },
   "outputs": [],
   "source": [
    "vocab = build_vocab_from_iterator(yield_tokens(data), specials=[UNK, PAD])\n",
    "vocab.set_default_index(vocab[UNK])\n",
    "vocab.set_default_index(vocab[PAD])"
   ]
  },
  {
   "cell_type": "markdown",
   "metadata": {
    "id": "lf1sLVQpT0oc"
   },
   "source": [
    "Было принято решение: оставить все слова. Из-за того, что нейронка не знает правил расстановки знаков препинания и построения слов в предложении, то по неправильно построенному тексту можно понять, что новость поддельная."
   ]
  },
  {
   "cell_type": "code",
   "execution_count": 68,
   "metadata": {
    "id": "btu5fmV4yRlk"
   },
   "outputs": [],
   "source": [
    "def text_pipeline(text):\n",
    "    tokens = vocab(tokenizer(text))\n",
    "    if len(tokens) >= MAX_LEN:\n",
    "        return tokens[:MAX_LEN]\n",
    "    return tokens + vocab([PAD] * (MAX_LEN - len(tokens)))"
   ]
  },
  {
   "cell_type": "markdown",
   "metadata": {
    "id": "TEUhHtnZL346"
   },
   "source": [
    "В качестве полей для последующих нейросеток будут взяты `title`и `text`."
   ]
  },
  {
   "cell_type": "code",
   "execution_count": 69,
   "metadata": {
    "id": "MfzHtWgsyRll"
   },
   "outputs": [],
   "source": [
    "def collate_batch(batch):\n",
    "    processed_batch = []\n",
    "    text = []\n",
    "    title = []\n",
    "    target = []\n",
    "    for record in batch:\n",
    "        text.append(text_pipeline(record['text']))\n",
    "        title.append(text_pipeline(record['title']))\n",
    "        target.append(int(record['target']))\n",
    "    result_dict = {\n",
    "        'text': torch.tensor(text, dtype=torch.int64),\n",
    "        'title': torch.tensor(title, dtype=torch.int64),\n",
    "        'target': torch.tensor(target, dtype=torch.int64)\n",
    "    }\n",
    "    return result_dict"
   ]
  },
  {
   "cell_type": "code",
   "execution_count": 70,
   "metadata": {
    "id": "y5puiP5xHujR"
   },
   "outputs": [],
   "source": [
    "train_loader = DataLoader(train_dataset, batch_size=BATCH_SIZE, collate_fn=collate_batch)\n",
    "test_loader = DataLoader(test_dataset, batch_size=BATCH_SIZE, collate_fn=collate_batch)"
   ]
  },
  {
   "cell_type": "code",
   "execution_count": 71,
   "metadata": {
    "id": "aICuJXJoacx_"
   },
   "outputs": [],
   "source": [
    "import matplotlib.pyplot as plt\n",
    "\n",
    "def plot_loss_and_accuracy(loss, accuracy):\n",
    "  plt.figure(figsize=(16, 5))\n",
    "  plt.suptitle('Average values loss and accuracy at each epoch')\n",
    "\n",
    "  epochs = [i+1 for i in range(len(loss))]\n",
    "  plt.subplot(121)\n",
    "  plt.xlabel('Epoch')\n",
    "  plt.ylabel('Loss')\n",
    "  plt.plot(epochs, loss)\n",
    "  \n",
    "  plt.subplot(122)\n",
    "  plt.xlabel('Epoch')\n",
    "  plt.ylabel('Accuracy')\n",
    "  plt.plot(epochs, accuracy)"
   ]
  },
  {
   "cell_type": "code",
   "execution_count": 72,
   "metadata": {
    "id": "b2utYJ0y-B-o"
   },
   "outputs": [],
   "source": [
    "def test_model(model):\n",
    "    global test_loader\n",
    "    global device\n",
    "    global test_dataset\n",
    "\n",
    "    correct = 0\n",
    "    total = len(test_dataset)\n",
    "    with torch.no_grad():\n",
    "        for fields_dict in test_loader:\n",
    "          for field in fields_dict:\n",
    "            fields_dict[field] = fields_dict[field].to(device)\n",
    "          outputs = model(**fields_dict)\n",
    "          _, predicted = torch.max(outputs.data, 1)\n",
    "\n",
    "          correct += (predicted == fields_dict['target']).sum().item()\n",
    "    accuracy = 100 * correct / total\n",
    "    print(f'Accuracy of the network: {accuracy}')\n",
    "    return accuracy"
   ]
  },
  {
   "cell_type": "code",
   "execution_count": 73,
   "metadata": {
    "id": "IjFOV0ah7qU6"
   },
   "outputs": [],
   "source": [
    "def train_model(model, epoch = 1, lr = 0.005):\n",
    "    global device\n",
    "    global train_loader\n",
    "    \n",
    "    accuracy_values = []\n",
    "    loss_values = []\n",
    "    criterion = nn.CrossEntropyLoss()\n",
    "    optimizer = optim.SGD(model.parameters(), lr=lr, momentum=0.9)\n",
    "    total = len(train_loader) * epoch\n",
    "    progress_bar = iter(tqdm(range(total), total=total, desc=\"Processing records\"))\n",
    "    for epoch in range(epoch):  # loop over the dataset multiple times\n",
    "        running_loss = 0.0\n",
    "        for i, fields_dict in enumerate(train_loader):\n",
    "            next(progress_bar)\n",
    "            for field in fields_dict:\n",
    "              fields_dict[field] = fields_dict[field].to(device)\n",
    "            optimizer.zero_grad()\n",
    "            outputs = model(**fields_dict)\n",
    "            loss = criterion(outputs, fields_dict['target'])\n",
    "            loss.backward()\n",
    "            optimizer.step()\n",
    "            running_loss += loss.item()\n",
    "        average_loss = running_loss / len(train_loader)\n",
    "        loss_values.append(average_loss)\n",
    "        print(f'[{epoch + 1}] loss: {average_loss}')\n",
    "\n",
    "        average_accuracy = test_model(model)\n",
    "        accuracy_values.append(average_accuracy)\n",
    "    torch.cuda.empty_cache()\n",
    "    try:\n",
    "        next(progress_bar)\n",
    "    except StopIteration:\n",
    "        pass\n",
    "    print('Finished Training')\n",
    "    plot_loss_and_accuracy(loss_values, accuracy_values)\n",
    "    return max(accuracy_values)"
   ]
  },
  {
   "cell_type": "code",
   "execution_count": 74,
   "metadata": {
    "id": "CxEQvrr--4bU"
   },
   "outputs": [],
   "source": [
    "network_results = pd.DataFrame(columns=['network', 'accuracy'])"
   ]
  },
  {
   "cell_type": "markdown",
   "metadata": {
    "id": "NWFY5_izVMTx"
   },
   "source": [
    "- нейросеть с линейным слоем"
   ]
  },
  {
   "cell_type": "code",
   "execution_count": 75,
   "metadata": {
    "id": "_U2Q3RrayRlm"
   },
   "outputs": [],
   "source": [
    "embed_dim = 64\n",
    "vocab_size = len(vocab)"
   ]
  },
  {
   "cell_type": "code",
   "execution_count": 76,
   "metadata": {
    "id": "FXsoMdcYyRlm"
   },
   "outputs": [],
   "source": [
    "class LinearNet(nn.Module):\n",
    "    def __init__(self):\n",
    "        super(LinearNet, self).__init__()\n",
    "        self.embedding = nn.Embedding(vocab_size, embed_dim)\n",
    "        self.size = MAX_LEN * embed_dim\n",
    "        self.fc = nn.Linear(self.size * 2, 2)\n",
    "\n",
    "    def forward(self, text, title, **kwargs):\n",
    "        text = self.embedding(text)\n",
    "        title = self.embedding(title)\n",
    "        with torch.no_grad():\n",
    "            text = text.view(-1, self.size)\n",
    "            title = title.view(-1, self.size)\n",
    "            temp = torch.cat([text, title], 1)\n",
    "        return self.fc(temp)"
   ]
  },
  {
   "cell_type": "code",
   "execution_count": 77,
   "metadata": {
    "colab": {
     "base_uri": "https://localhost:8080/",
     "height": 921,
     "referenced_widgets": [
      "46a0899db20849669caac6ff8526028b",
      "7651b0a5c349485a9dffb6d49ae905cb",
      "189b416482d64dad87efe788cf84ee76",
      "b2b541013c75455e97d652f226775cdc",
      "1ae48143d014404191c4146c13c8663b",
      "a06849bf21294dd0a465ec030e5de926",
      "8c8020fa347245c688eef92df90970c1",
      "0da6619ec40f453984aa214b8fa5bd56",
      "606d84e02dbc4c48a18eefce8d3e1229",
      "8e843772ff2d4519b4b735364f6b9838",
      "851c55c19b1c4444a2fe471a19bf6f5c"
     ]
    },
    "id": "WM4wYFEYeoGR",
    "outputId": "22cfb7dd-8ba0-49d1-b97e-c991098501a0"
   },
   "outputs": [
    {
     "data": {
      "application/vnd.jupyter.widget-view+json": {
       "model_id": "46a0899db20849669caac6ff8526028b",
       "version_major": 2,
       "version_minor": 0
      },
      "text/plain": [
       "Processing records:   0%|          | 0/75765 [00:00<?, ?it/s]"
      ]
     },
     "metadata": {},
     "output_type": "display_data"
    },
    {
     "name": "stdout",
     "output_type": "stream",
     "text": [
      "[1] loss: 0.0667170748810827\n",
      "Accuracy of the network: 99.42093541202672\n",
      "[2] loss: 0.016153165007744687\n",
      "Accuracy of the network: 99.64365256124722\n",
      "[3] loss: 0.00565011033162433\n",
      "Accuracy of the network: 99.66592427616926\n",
      "[4] loss: 0.001695558529125023\n",
      "Accuracy of the network: 99.75501113585746\n",
      "[5] loss: 0.0009725501186382554\n",
      "Accuracy of the network: 99.71046770601336\n",
      "[6] loss: 0.0006945607433558577\n",
      "Accuracy of the network: 99.71046770601336\n",
      "[7] loss: 0.00034973950152750703\n",
      "Accuracy of the network: 99.68819599109132\n",
      "[8] loss: 4.102049931868841e-05\n",
      "Accuracy of the network: 99.68819599109132\n",
      "[9] loss: 1.5204015848969832e-05\n",
      "Accuracy of the network: 99.71046770601336\n",
      "[10] loss: 1.1170682724523152e-05\n",
      "Accuracy of the network: 99.71046770601336\n",
      "[11] loss: 9.009076824996483e-06\n",
      "Accuracy of the network: 99.68819599109132\n",
      "[12] loss: 7.624370069663028e-06\n",
      "Accuracy of the network: 99.68819599109132\n",
      "[13] loss: 6.691140149332845e-06\n",
      "Accuracy of the network: 99.68819599109132\n",
      "[14] loss: 6.0146922205089376e-06\n",
      "Accuracy of the network: 99.68819599109132\n",
      "[15] loss: 5.497352302005228e-06\n",
      "Accuracy of the network: 99.68819599109132\n",
      "Finished Training\n"
     ]
    },
    {
     "data": {
      "image/png": "[encoded data removed]",
      "text/plain": [
       "<Figure size 1152x360 with 2 Axes>"
      ]
     },
     "metadata": {
      "needs_background": "light"
     },
     "output_type": "display_data"
    }
   ],
   "source": [
    "linear_net = LinearNet().to(device)\n",
    "linear_net_accuracy = train_model(linear_net, epoch=15)"
   ]
  },
  {
   "cell_type": "code",
   "execution_count": 78,
   "metadata": {
    "id": "bYCg5r3wBsCa"
   },
   "outputs": [],
   "source": [
    "network_results = network_results.append({'network': 'linear_net', 'accuracy': linear_net_accuracy}, ignore_index=True)"
   ]
  },
  {
   "cell_type": "markdown",
   "metadata": {
    "id": "ZG3WseYlYZzG"
   },
   "source": [
    "__Вывод:__  \n",
    "  Данная нейросеть показала довольно высокую точность уже после первой эпохи.  \n",
    "  Нейросеть обучалась 15 эпох, но точность начала падать спустя несколько эпох после начала обучения, хотя показатель потери с каждой эпохой падает. Это значит, что нейросеть начала переобучаться."
   ]
  },
  {
   "cell_type": "markdown",
   "metadata": {
    "id": "uSVwqhx8Vd0Y"
   },
   "source": [
    "- нейросеть со свёрточным слоем"
   ]
  },
  {
   "cell_type": "code",
   "execution_count": 79,
   "metadata": {
    "id": "skU-ZLGqyRln"
   },
   "outputs": [],
   "source": [
    "class ConvNet(nn.Module):\n",
    "    def __init__(self):\n",
    "        super(ConvNet, self).__init__()\n",
    "        self.embedding = nn.Embedding(vocab_size, embed_dim)\n",
    "        self.text_sequence = nn.Sequential(\n",
    "            nn.Conv2d(1, 4, (7, embed_dim)),\n",
    "            nn.ReLU()\n",
    "        )\n",
    "        self.title_sequence = nn.Sequential(\n",
    "            nn.Conv2d(1, 4, (7, embed_dim)),\n",
    "            nn.ReLU()\n",
    "        )\n",
    "        self.size = (MAX_LEN-6) * 4\n",
    "        self.linear = nn.Linear(self.size * 2, 2)\n",
    "\n",
    "    def forward(self, text, title, **kwargs):\n",
    "        text = self.embedding(text)\n",
    "        title = self.embedding(title)\n",
    "        \n",
    "        text = torch.unsqueeze(text, 1)\n",
    "        title = torch.unsqueeze(title, 1)\n",
    "\n",
    "        text = self.text_sequence(text)\n",
    "        title = self.text_sequence(title)\n",
    "        \n",
    "        with torch.no_grad():\n",
    "            text = text.view(-1, self.size)\n",
    "            title = title.view(-1, self.size)\n",
    "            temp = torch.cat([text, title], 1)\n",
    "        return self.linear(temp)"
   ]
  },
  {
   "cell_type": "code",
   "execution_count": 80,
   "metadata": {
    "colab": {
     "base_uri": "https://localhost:8080/",
     "height": 620,
     "referenced_widgets": [
      "7623c0ba63fd4158b9e45281a560b388",
      "5ff9fd658ebd48b19380578d267f7862",
      "4dad592fe8404a1ba3b0d7facf728614",
      "ad783fa083fc4463a4ffe924a604f5f7",
      "6a9be5c5f5cf4e4e954a01f875e481cf",
      "c24ead537b624ea4bf663c0fa0296ee3",
      "5f6474ce31a0417499bf4ba0e7338ef3",
      "0e286dba2d2440f9ae6591dad2471c27",
      "f343db475d224b369478d8b13ce25486",
      "a9a85304694f43d396b44ba4ec5c9c21",
      "967a4261309a4e37a9ef6b1a82f61646"
     ]
    },
    "id": "HbKtFnrFyRln",
    "outputId": "b0388a94-bfe0-44ff-f538-c4051e648a37"
   },
   "outputs": [
    {
     "data": {
      "application/vnd.jupyter.widget-view+json": {
       "model_id": "7623c0ba63fd4158b9e45281a560b388",
       "version_major": 2,
       "version_minor": 0
      },
      "text/plain": [
       "Processing records:   0%|          | 0/30306 [00:00<?, ?it/s]"
      ]
     },
     "metadata": {},
     "output_type": "display_data"
    },
    {
     "name": "stdout",
     "output_type": "stream",
     "text": [
      "[1] loss: 0.35170246608123124\n",
      "Accuracy of the network: 88.10690423162583\n",
      "[2] loss: 0.2929449397635428\n",
      "Accuracy of the network: 88.19599109131403\n",
      "[3] loss: 0.28622536943224963\n",
      "Accuracy of the network: 88.28507795100222\n",
      "[4] loss: 0.2837471809262903\n",
      "Accuracy of the network: 88.19599109131403\n",
      "[5] loss: 0.2825003059500162\n",
      "Accuracy of the network: 88.30734966592428\n",
      "[6] loss: 0.2817462637844982\n",
      "Accuracy of the network: 88.32962138084632\n",
      "Finished Training\n"
     ]
    },
    {
     "data": {
      "image/png": "[encoded data removed]",
      "text/plain": [
       "<Figure size 1152x360 with 2 Axes>"
      ]
     },
     "metadata": {
      "needs_background": "light"
     },
     "output_type": "display_data"
    }
   ],
   "source": [
    "conv_net = ConvNet().to(device)\n",
    "conv_net_accuracy = train_model(conv_net, epoch=6, lr=0.001)"
   ]
  },
  {
   "cell_type": "code",
   "execution_count": 81,
   "metadata": {
    "id": "u-3lUMmGEBRq"
   },
   "outputs": [],
   "source": [
    "network_results = network_results.append({'network': 'conv_net', 'accuracy': conv_net_accuracy}, ignore_index=True)"
   ]
  },
  {
   "cell_type": "markdown",
   "metadata": {
    "id": "RSJYpd4DQ5SU"
   },
   "source": [
    "__Вывод__:  \n",
    "Данная нейросеть показала результаты хуже предыдущей. В лучшем случае точность доходит до 90%, в основном колеблется в районе 85%. Возможно, эта сеть сложна для данной задачи, поэтому не показывает высоких результатов."
   ]
  },
  {
   "cell_type": "markdown",
   "metadata": {
    "id": "SAvnVsIbAvCu"
   },
   "source": [
    "В следующих нейронках помимо полей `text` и `title` будет рассматриваться `subject`."
   ]
  },
  {
   "cell_type": "code",
   "execution_count": 82,
   "metadata": {
    "id": "Gp70vI3p4Mra"
   },
   "outputs": [],
   "source": [
    "subject_columns = ['Government News', 'Middle-east', 'News', 'US_News', 'left-news',\n",
    "       'politics', 'politicsNews', 'worldnews']"
   ]
  },
  {
   "cell_type": "code",
   "execution_count": 83,
   "metadata": {
    "id": "78BzQNUp25di"
   },
   "outputs": [],
   "source": [
    "def collate_batch_complete(batch):\n",
    "    processed_batch = []\n",
    "    target = []\n",
    "    text = []\n",
    "    title = []\n",
    "    subject  = []\n",
    "    for record in batch:\n",
    "        text.append(text_pipeline(record['text']))\n",
    "        title.append(text_pipeline(record['title']))\n",
    "        target.append(int(record['target']))\n",
    "        subject.append([record[key] for key in subject_columns])\n",
    "    result_dict = {\n",
    "        'text': torch.tensor(text, dtype=torch.int64),\n",
    "        'title': torch.tensor(title, dtype=torch.int64),\n",
    "        'subject': torch.tensor(subject, dtype=torch.int64),\n",
    "        'target': torch.tensor(target, dtype=torch.int64)\n",
    "    }\n",
    "    return result_dict"
   ]
  },
  {
   "cell_type": "code",
   "execution_count": 84,
   "metadata": {
    "id": "pbssOllt2ihC"
   },
   "outputs": [],
   "source": [
    "train_loader = DataLoader(train_dataset, batch_size=BATCH_SIZE, collate_fn=collate_batch_complete)\n",
    "test_loader = DataLoader(test_dataset, batch_size=BATCH_SIZE, collate_fn=collate_batch_complete)"
   ]
  },
  {
   "cell_type": "markdown",
   "metadata": {
    "id": "BoHteh0QTcOu"
   },
   "source": [
    "- Нейросеть с одним линейным слоем"
   ]
  },
  {
   "cell_type": "code",
   "execution_count": 85,
   "metadata": {
    "id": "5b-UNvse2iwD"
   },
   "outputs": [],
   "source": [
    "class LinearNetWithSubject(nn.Module):\n",
    "    def __init__(self):\n",
    "        super(LinearNetWithSubject, self).__init__()\n",
    "        self.embedding = nn.Embedding(vocab_size, embed_dim)\n",
    "        self.size = MAX_LEN * embed_dim\n",
    "        self.fc = nn.Linear(self.size * 2 + len(subject_columns), 2)\n",
    "\n",
    "    def forward(self, text, title, subject, **kwargs):\n",
    "        text = self.embedding(text)\n",
    "        title = self.embedding(title)\n",
    "        with torch.no_grad():\n",
    "            text = text.view(-1, self.size)\n",
    "            title = title.view(-1, self.size)\n",
    "            temp = torch.cat([text, title, subject], 1)\n",
    "        return self.fc(temp)"
   ]
  },
  {
   "cell_type": "code",
   "execution_count": 86,
   "metadata": {
    "colab": {
     "base_uri": "https://localhost:8080/",
     "height": 586,
     "referenced_widgets": [
      "978069daef644d4891184dda0583ac41",
      "2e81accd1c3240f69ff8a9e7e6cbb8c4",
      "08efa923d6634898b5ece1b69aa46c46",
      "edee65f8e27e43a1894ebafd0d7d1229",
      "e5cc6247e5084c08b993a95a1bdb0277",
      "d64d15fb146d4e62ba04dfb922048edc",
      "eca0a439b6b44663b3b55667e2bd7af1",
      "7782f10162994057beceb7f27249d69f",
      "6704bc1b89bb426f9fa61201ca56f302",
      "e08f7b60626d4e64afa19f53ed7ecb06",
      "62997327bca449a689898b22e097da07"
     ]
    },
    "id": "qrwHYn1A2jM7",
    "outputId": "f658564c-003b-4bae-8f8f-273dfba599a7"
   },
   "outputs": [
    {
     "data": {
      "application/vnd.jupyter.widget-view+json": {
       "model_id": "978069daef644d4891184dda0583ac41",
       "version_major": 2,
       "version_minor": 0
      },
      "text/plain": [
       "Processing records:   0%|          | 0/25255 [00:00<?, ?it/s]"
      ]
     },
     "metadata": {},
     "output_type": "display_data"
    },
    {
     "name": "stdout",
     "output_type": "stream",
     "text": [
      "[1] loss: 0.02465826998277157\n",
      "Accuracy of the network: 99.57683741648107\n",
      "[2] loss: 0.004100803459081419\n",
      "Accuracy of the network: 99.71046770601336\n",
      "[3] loss: 0.0017632650267060323\n",
      "Accuracy of the network: 99.71046770601336\n",
      "[4] loss: 0.0011866206068928203\n",
      "Accuracy of the network: 99.71046770601336\n",
      "[5] loss: 0.0009441125298189924\n",
      "Accuracy of the network: 99.71046770601336\n",
      "Finished Training\n"
     ]
    },
    {
     "data": {
      "image/png": "[encoded data removed]",
      "text/plain": [
       "<Figure size 1152x360 with 2 Axes>"
      ]
     },
     "metadata": {
      "needs_background": "light"
     },
     "output_type": "display_data"
    }
   ],
   "source": [
    "linear_net_with_subject = LinearNetWithSubject().to(device)\n",
    "linear_net_with_subject_accuracy = train_model(linear_net_with_subject, epoch=5, lr=0.001)"
   ]
  },
  {
   "cell_type": "code",
   "execution_count": 87,
   "metadata": {
    "id": "EVcG2emrEJTf"
   },
   "outputs": [],
   "source": [
    "network_results = network_results.append({'network': 'linear_net_with_subject', 'accuracy': linear_net_with_subject_accuracy}, ignore_index=True)"
   ]
  },
  {
   "cell_type": "markdown",
   "metadata": {
    "id": "Qg7Szb2ETi8S"
   },
   "source": [
    "__Вывод__:  \n",
    "Данная нейросеть показала довольно хороший результат, лучше предыдущих нейронок. Под конец обучения точность перестала расти, хотя значение ошибки падает."
   ]
  },
  {
   "cell_type": "markdown",
   "metadata": {
    "id": "zkAagzzhTjC8"
   },
   "source": [
    "- Нейросеть со свёрточными слоями"
   ]
  },
  {
   "cell_type": "code",
   "execution_count": 88,
   "metadata": {
    "id": "kUPkwg-MHmES"
   },
   "outputs": [],
   "source": [
    "class ConvNetWithSubject(nn.Module):\n",
    "    def __init__(self):\n",
    "        super(ConvNetWithSubject, self).__init__()\n",
    "        self.embedding = nn.Embedding(vocab_size, embed_dim)\n",
    "        self.text_sequence = nn.Sequential(\n",
    "            nn.Conv2d(1, 4, (7, embed_dim)),\n",
    "            nn.ReLU()\n",
    "        )\n",
    "        self.title_sequence = nn.Sequential(\n",
    "            nn.Conv2d(1, 4, (7, embed_dim)),\n",
    "            nn.ReLU()\n",
    "        )\n",
    "        self.size = (MAX_LEN-6) * 4\n",
    "        self.linear = nn.Linear(self.size * 2+len(subject_columns), 2)\n",
    "\n",
    "    def forward(self, text, title, subject, **kwargs):\n",
    "        text = self.embedding(text)\n",
    "        title = self.embedding(title)\n",
    "        \n",
    "        text = torch.unsqueeze(text, 1)\n",
    "        title = torch.unsqueeze(title, 1)\n",
    "\n",
    "        text = self.text_sequence(text)\n",
    "        title = self.text_sequence(title)\n",
    "        \n",
    "        with torch.no_grad():\n",
    "            text = text.view(-1, self.size)\n",
    "            title = title.view(-1, self.size)\n",
    "            temp = torch.cat([text, title, subject], 1)\n",
    "        return self.linear(temp)"
   ]
  },
  {
   "cell_type": "code",
   "execution_count": 89,
   "metadata": {
    "colab": {
     "base_uri": "https://localhost:8080/",
     "height": 553,
     "referenced_widgets": [
      "30650944cc814fd88ee2839dbccec033",
      "5041df5d779a4b58819f01ac796bf5da",
      "d3063f5202c54dcba5146f7aa6df16fa",
      "790ed3aeb1db4ae1abbbdb762e8bc34a",
      "cb800988f76d499ab0caf729d9b0f29b",
      "f15ba7b48809496cbc81c97166c70a31",
      "3b03ce98a4eb453084f21dbc0d4659d2",
      "d19b3dee6bd149c08c6dd9df064c58ca",
      "1ee30b73fa3b4f7bb68c11b5c6db4b75",
      "ffdbc872f6034b9ebfe18837214541c7",
      "3a3b059198fc4e339ede86366f7640b0"
     ]
    },
    "id": "sQRFyBq9HmND",
    "outputId": "ef2c8575-e538-4212-b03d-df1333cb3cb9"
   },
   "outputs": [
    {
     "data": {
      "application/vnd.jupyter.widget-view+json": {
       "model_id": "30650944cc814fd88ee2839dbccec033",
       "version_major": 2,
       "version_minor": 0
      },
      "text/plain": [
       "Processing records:   0%|          | 0/20204 [00:00<?, ?it/s]"
      ]
     },
     "metadata": {},
     "output_type": "display_data"
    },
    {
     "name": "stdout",
     "output_type": "stream",
     "text": [
      "[1] loss: 0.1332315776039485\n",
      "Accuracy of the network: 99.9554565701559\n",
      "[2] loss: 0.03736273149748255\n",
      "Accuracy of the network: 100.0\n",
      "[3] loss: 0.02276727461427195\n",
      "Accuracy of the network: 100.0\n",
      "[4] loss: 0.01638430261247301\n",
      "Accuracy of the network: 100.0\n",
      "Finished Training\n"
     ]
    },
    {
     "data": {
      "image/png": "[encoded data removed]",
      "text/plain": [
       "<Figure size 1152x360 with 2 Axes>"
      ]
     },
     "metadata": {
      "needs_background": "light"
     },
     "output_type": "display_data"
    }
   ],
   "source": [
    "conv_net_wih_subject = ConvNetWithSubject().to(device)\n",
    "conv_net_wih_subject_accuracy = train_model(conv_net_wih_subject, epoch=4, lr=0.00105)"
   ]
  },
  {
   "cell_type": "code",
   "execution_count": 90,
   "metadata": {
    "id": "XLOi0IFOEOAG"
   },
   "outputs": [],
   "source": [
    "network_results = network_results.append({'network': 'conv_net_wih_subject', 'accuracy': conv_net_wih_subject_accuracy}, ignore_index=True)"
   ]
  },
  {
   "cell_type": "markdown",
   "metadata": {
    "id": "1N0OQQC9J_HV"
   },
   "source": [
    "__Вывод__  \n",
    "Самый лучший результат среди представленных здесь нейронок. Для обучения требуется небольшое кол-во эпох(в данном примере точность в 100% была достигнута на 3-ей эпохе)."
   ]
  },
  {
   "cell_type": "markdown",
   "metadata": {
    "id": "OPAHZHeMGXLv"
   },
   "source": [
    "- Результаты моделей"
   ]
  },
  {
   "cell_type": "code",
   "execution_count": 91,
   "metadata": {
    "colab": {
     "base_uri": "https://localhost:8080/",
     "height": 172
    },
    "id": "dYek0eop-a4Z",
    "outputId": "e356ade7-07ef-40af-8ecf-11fe7ca0a3e3"
   },
   "outputs": [
    {
     "data": {
      "text/html": [
       "<div>\n",
       "<style scoped>\n",
       "    .dataframe tbody tr th:only-of-type {\n",
       "        vertical-align: middle;\n",
       "    }\n",
       "\n",
       "    .dataframe tbody tr th {\n",
       "        vertical-align: top;\n",
       "    }\n",
       "\n",
       "    .dataframe thead th {\n",
       "        text-align: right;\n",
       "    }\n",
       "</style>\n",
       "<table border=\"1\" class=\"dataframe\">\n",
       "  <thead>\n",
       "    <tr style=\"text-align: right;\">\n",
       "      <th></th>\n",
       "      <th>network</th>\n",
       "      <th>accuracy</th>\n",
       "    </tr>\n",
       "  </thead>\n",
       "  <tbody>\n",
       "    <tr>\n",
       "      <th>0</th>\n",
       "      <td>linear_net</td>\n",
       "      <td>99.755011</td>\n",
       "    </tr>\n",
       "    <tr>\n",
       "      <th>1</th>\n",
       "      <td>conv_net</td>\n",
       "      <td>88.329621</td>\n",
       "    </tr>\n",
       "    <tr>\n",
       "      <th>2</th>\n",
       "      <td>linear_net_with_subject</td>\n",
       "      <td>99.710468</td>\n",
       "    </tr>\n",
       "    <tr>\n",
       "      <th>3</th>\n",
       "      <td>conv_net_wih_subject</td>\n",
       "      <td>100.000000</td>\n",
       "    </tr>\n",
       "  </tbody>\n",
       "</table>\n",
       "</div>"
      ],
      "text/plain": [
       "                   network    accuracy\n",
       "0               linear_net   99.755011\n",
       "1                 conv_net   88.329621\n",
       "2  linear_net_with_subject   99.710468\n",
       "3     conv_net_wih_subject  100.000000"
      ]
     },
     "execution_count": 91,
     "metadata": {},
     "output_type": "execute_result"
    }
   ],
   "source": [
    "network_results.head()"
   ]
  },
  {
   "cell_type": "markdown",
   "metadata": {
    "id": "mPEe2Z30GbSV"
   },
   "source": [
    "Добавление поля `subject` положительно сказалось на результатах.  \n",
    "Лучшая нейросеть `conv_net_wih_subject` с точностью _100%_."
   ]
  }
 ],
 "metadata": {
  "colab": {
   "collapsed_sections": [],
   "name": "NLP.ipynb",
   "provenance": []
  },
  "kernelspec": {
   "display_name": "Python 3",
   "language": "python",
   "name": "python3"
  },
  "language_info": {
   "codemirror_mode": {
    "name": "ipython",
    "version": 3
   },
   "file_extension": ".py",
   "mimetype": "text/x-python",
   "name": "python",
   "nbconvert_exporter": "python",
   "pygments_lexer": "ipython3",
   "version": "3.7.9"
  },
  "widgets": {
   "application/vnd.jupyter.widget-state+json": {
    "08efa923d6634898b5ece1b69aa46c46": {
     "model_module": "@jupyter-widgets/controls",
     "model_module_version": "1.5.0",
     "model_name": "HTMLModel",
     "state": {
      "_dom_classes": [],
      "_model_module": "@jupyter-widgets/controls",
      "_model_module_version": "1.5.0",
      "_model_name": "HTMLModel",
      "_view_count": null,
      "_view_module": "@jupyter-widgets/controls",
      "_view_module_version": "1.5.0",
      "_view_name": "HTMLView",
      "description": "",
      "description_tooltip": null,
      "layout": "IPY_MODEL_eca0a439b6b44663b3b55667e2bd7af1",
      "placeholder": "​",
      "style": "IPY_MODEL_d64d15fb146d4e62ba04dfb922048edc",
      "value": "Processing records: 100%"
     }
    },
    "0da6619ec40f453984aa214b8fa5bd56": {
     "model_module": "@jupyter-widgets/controls",
     "model_module_version": "1.5.0",
     "model_name": "ProgressStyleModel",
     "state": {
      "_model_module": "@jupyter-widgets/controls",
      "_model_module_version": "1.5.0",
      "_model_name": "ProgressStyleModel",
      "_view_count": null,
      "_view_module": "@jupyter-widgets/base",
      "_view_module_version": "1.2.0",
      "_view_name": "StyleView",
      "bar_color": null,
      "description_width": ""
     }
    },
    "0e286dba2d2440f9ae6591dad2471c27": {
     "model_module": "@jupyter-widgets/controls",
     "model_module_version": "1.5.0",
     "model_name": "ProgressStyleModel",
     "state": {
      "_model_module": "@jupyter-widgets/controls",
      "_model_module_version": "1.5.0",
      "_model_name": "ProgressStyleModel",
      "_view_count": null,
      "_view_module": "@jupyter-widgets/base",
      "_view_module_version": "1.2.0",
      "_view_name": "StyleView",
      "bar_color": null,
      "description_width": ""
     }
    },
    "189b416482d64dad87efe788cf84ee76": {
     "model_module": "@jupyter-widgets/controls",
     "model_module_version": "1.5.0",
     "model_name": "HTMLModel",
     "state": {
      "_dom_classes": [],
      "_model_module": "@jupyter-widgets/controls",
      "_model_module_version": "1.5.0",
      "_model_name": "HTMLModel",
      "_view_count": null,
      "_view_module": "@jupyter-widgets/controls",
      "_view_module_version": "1.5.0",
      "_view_name": "HTMLView",
      "description": "",
      "description_tooltip": null,
      "layout": "IPY_MODEL_8c8020fa347245c688eef92df90970c1",
      "placeholder": "​",
      "style": "IPY_MODEL_a06849bf21294dd0a465ec030e5de926",
      "value": "Processing records: 100%"
     }
    },
    "1ae48143d014404191c4146c13c8663b": {
     "model_module": "@jupyter-widgets/controls",
     "model_module_version": "1.5.0",
     "model_name": "HTMLModel",
     "state": {
      "_dom_classes": [],
      "_model_module": "@jupyter-widgets/controls",
      "_model_module_version": "1.5.0",
      "_model_name": "HTMLModel",
      "_view_count": null,
      "_view_module": "@jupyter-widgets/controls",
      "_view_module_version": "1.5.0",
      "_view_name": "HTMLView",
      "description": "",
      "description_tooltip": null,
      "layout": "IPY_MODEL_851c55c19b1c4444a2fe471a19bf6f5c",
      "placeholder": "​",
      "style": "IPY_MODEL_8e843772ff2d4519b4b735364f6b9838",
      "value": " 75765/75765 [07:40&lt;00:00, 166.50it/s]"
     }
    },
    "1ee30b73fa3b4f7bb68c11b5c6db4b75": {
     "model_module": "@jupyter-widgets/base",
     "model_module_version": "1.2.0",
     "model_name": "LayoutModel",
     "state": {
      "_model_module": "@jupyter-widgets/base",
      "_model_module_version": "1.2.0",
      "_model_name": "LayoutModel",
      "_view_count": null,
      "_view_module": "@jupyter-widgets/base",
      "_view_module_version": "1.2.0",
      "_view_name": "LayoutView",
      "align_content": null,
      "align_items": null,
      "align_self": null,
      "border": null,
      "bottom": null,
      "display": null,
      "flex": null,
      "flex_flow": null,
      "grid_area": null,
      "grid_auto_columns": null,
      "grid_auto_flow": null,
      "grid_auto_rows": null,
      "grid_column": null,
      "grid_gap": null,
      "grid_row": null,
      "grid_template_areas": null,
      "grid_template_columns": null,
      "grid_template_rows": null,
      "height": null,
      "justify_content": null,
      "justify_items": null,
      "left": null,
      "margin": null,
      "max_height": null,
      "max_width": null,
      "min_height": null,
      "min_width": null,
      "object_fit": null,
      "object_position": null,
      "order": null,
      "overflow": null,
      "overflow_x": null,
      "overflow_y": null,
      "padding": null,
      "right": null,
      "top": null,
      "visibility": null,
      "width": null
     }
    },
    "2e81accd1c3240f69ff8a9e7e6cbb8c4": {
     "model_module": "@jupyter-widgets/base",
     "model_module_version": "1.2.0",
     "model_name": "LayoutModel",
     "state": {
      "_model_module": "@jupyter-widgets/base",
      "_model_module_version": "1.2.0",
      "_model_name": "LayoutModel",
      "_view_count": null,
      "_view_module": "@jupyter-widgets/base",
      "_view_module_version": "1.2.0",
      "_view_name": "LayoutView",
      "align_content": null,
      "align_items": null,
      "align_self": null,
      "border": null,
      "bottom": null,
      "display": null,
      "flex": null,
      "flex_flow": null,
      "grid_area": null,
      "grid_auto_columns": null,
      "grid_auto_flow": null,
      "grid_auto_rows": null,
      "grid_column": null,
      "grid_gap": null,
      "grid_row": null,
      "grid_template_areas": null,
      "grid_template_columns": null,
      "grid_template_rows": null,
      "height": null,
      "justify_content": null,
      "justify_items": null,
      "left": null,
      "margin": null,
      "max_height": null,
      "max_width": null,
      "min_height": null,
      "min_width": null,
      "object_fit": null,
      "object_position": null,
      "order": null,
      "overflow": null,
      "overflow_x": null,
      "overflow_y": null,
      "padding": null,
      "right": null,
      "top": null,
      "visibility": null,
      "width": null
     }
    },
    "30650944cc814fd88ee2839dbccec033": {
     "model_module": "@jupyter-widgets/controls",
     "model_module_version": "1.5.0",
     "model_name": "HBoxModel",
     "state": {
      "_dom_classes": [],
      "_model_module": "@jupyter-widgets/controls",
      "_model_module_version": "1.5.0",
      "_model_name": "HBoxModel",
      "_view_count": null,
      "_view_module": "@jupyter-widgets/controls",
      "_view_module_version": "1.5.0",
      "_view_name": "HBoxView",
      "box_style": "",
      "children": [
       "IPY_MODEL_d3063f5202c54dcba5146f7aa6df16fa",
       "IPY_MODEL_790ed3aeb1db4ae1abbbdb762e8bc34a",
       "IPY_MODEL_cb800988f76d499ab0caf729d9b0f29b"
      ],
      "layout": "IPY_MODEL_5041df5d779a4b58819f01ac796bf5da"
     }
    },
    "3a3b059198fc4e339ede86366f7640b0": {
     "model_module": "@jupyter-widgets/base",
     "model_module_version": "1.2.0",
     "model_name": "LayoutModel",
     "state": {
      "_model_module": "@jupyter-widgets/base",
      "_model_module_version": "1.2.0",
      "_model_name": "LayoutModel",
      "_view_count": null,
      "_view_module": "@jupyter-widgets/base",
      "_view_module_version": "1.2.0",
      "_view_name": "LayoutView",
      "align_content": null,
      "align_items": null,
      "align_self": null,
      "border": null,
      "bottom": null,
      "display": null,
      "flex": null,
      "flex_flow": null,
      "grid_area": null,
      "grid_auto_columns": null,
      "grid_auto_flow": null,
      "grid_auto_rows": null,
      "grid_column": null,
      "grid_gap": null,
      "grid_row": null,
      "grid_template_areas": null,
      "grid_template_columns": null,
      "grid_template_rows": null,
      "height": null,
      "justify_content": null,
      "justify_items": null,
      "left": null,
      "margin": null,
      "max_height": null,
      "max_width": null,
      "min_height": null,
      "min_width": null,
      "object_fit": null,
      "object_position": null,
      "order": null,
      "overflow": null,
      "overflow_x": null,
      "overflow_y": null,
      "padding": null,
      "right": null,
      "top": null,
      "visibility": null,
      "width": null
     }
    },
    "3b03ce98a4eb453084f21dbc0d4659d2": {
     "model_module": "@jupyter-widgets/base",
     "model_module_version": "1.2.0",
     "model_name": "LayoutModel",
     "state": {
      "_model_module": "@jupyter-widgets/base",
      "_model_module_version": "1.2.0",
      "_model_name": "LayoutModel",
      "_view_count": null,
      "_view_module": "@jupyter-widgets/base",
      "_view_module_version": "1.2.0",
      "_view_name": "LayoutView",
      "align_content": null,
      "align_items": null,
      "align_self": null,
      "border": null,
      "bottom": null,
      "display": null,
      "flex": null,
      "flex_flow": null,
      "grid_area": null,
      "grid_auto_columns": null,
      "grid_auto_flow": null,
      "grid_auto_rows": null,
      "grid_column": null,
      "grid_gap": null,
      "grid_row": null,
      "grid_template_areas": null,
      "grid_template_columns": null,
      "grid_template_rows": null,
      "height": null,
      "justify_content": null,
      "justify_items": null,
      "left": null,
      "margin": null,
      "max_height": null,
      "max_width": null,
      "min_height": null,
      "min_width": null,
      "object_fit": null,
      "object_position": null,
      "order": null,
      "overflow": null,
      "overflow_x": null,
      "overflow_y": null,
      "padding": null,
      "right": null,
      "top": null,
      "visibility": null,
      "width": null
     }
    },
    "46a0899db20849669caac6ff8526028b": {
     "model_module": "@jupyter-widgets/controls",
     "model_module_version": "1.5.0",
     "model_name": "HBoxModel",
     "state": {
      "_dom_classes": [],
      "_model_module": "@jupyter-widgets/controls",
      "_model_module_version": "1.5.0",
      "_model_name": "HBoxModel",
      "_view_count": null,
      "_view_module": "@jupyter-widgets/controls",
      "_view_module_version": "1.5.0",
      "_view_name": "HBoxView",
      "box_style": "",
      "children": [
       "IPY_MODEL_189b416482d64dad87efe788cf84ee76",
       "IPY_MODEL_b2b541013c75455e97d652f226775cdc",
       "IPY_MODEL_1ae48143d014404191c4146c13c8663b"
      ],
      "layout": "IPY_MODEL_7651b0a5c349485a9dffb6d49ae905cb"
     }
    },
    "4dad592fe8404a1ba3b0d7facf728614": {
     "model_module": "@jupyter-widgets/controls",
     "model_module_version": "1.5.0",
     "model_name": "HTMLModel",
     "state": {
      "_dom_classes": [],
      "_model_module": "@jupyter-widgets/controls",
      "_model_module_version": "1.5.0",
      "_model_name": "HTMLModel",
      "_view_count": null,
      "_view_module": "@jupyter-widgets/controls",
      "_view_module_version": "1.5.0",
      "_view_name": "HTMLView",
      "description": "",
      "description_tooltip": null,
      "layout": "IPY_MODEL_5f6474ce31a0417499bf4ba0e7338ef3",
      "placeholder": "​",
      "style": "IPY_MODEL_c24ead537b624ea4bf663c0fa0296ee3",
      "value": "Processing records: 100%"
     }
    },
    "5041df5d779a4b58819f01ac796bf5da": {
     "model_module": "@jupyter-widgets/base",
     "model_module_version": "1.2.0",
     "model_name": "LayoutModel",
     "state": {
      "_model_module": "@jupyter-widgets/base",
      "_model_module_version": "1.2.0",
      "_model_name": "LayoutModel",
      "_view_count": null,
      "_view_module": "@jupyter-widgets/base",
      "_view_module_version": "1.2.0",
      "_view_name": "LayoutView",
      "align_content": null,
      "align_items": null,
      "align_self": null,
      "border": null,
      "bottom": null,
      "display": null,
      "flex": null,
      "flex_flow": null,
      "grid_area": null,
      "grid_auto_columns": null,
      "grid_auto_flow": null,
      "grid_auto_rows": null,
      "grid_column": null,
      "grid_gap": null,
      "grid_row": null,
      "grid_template_areas": null,
      "grid_template_columns": null,
      "grid_template_rows": null,
      "height": null,
      "justify_content": null,
      "justify_items": null,
      "left": null,
      "margin": null,
      "max_height": null,
      "max_width": null,
      "min_height": null,
      "min_width": null,
      "object_fit": null,
      "object_position": null,
      "order": null,
      "overflow": null,
      "overflow_x": null,
      "overflow_y": null,
      "padding": null,
      "right": null,
      "top": null,
      "visibility": null,
      "width": null
     }
    },
    "5f6474ce31a0417499bf4ba0e7338ef3": {
     "model_module": "@jupyter-widgets/base",
     "model_module_version": "1.2.0",
     "model_name": "LayoutModel",
     "state": {
      "_model_module": "@jupyter-widgets/base",
      "_model_module_version": "1.2.0",
      "_model_name": "LayoutModel",
      "_view_count": null,
      "_view_module": "@jupyter-widgets/base",
      "_view_module_version": "1.2.0",
      "_view_name": "LayoutView",
      "align_content": null,
      "align_items": null,
      "align_self": null,
      "border": null,
      "bottom": null,
      "display": null,
      "flex": null,
      "flex_flow": null,
      "grid_area": null,
      "grid_auto_columns": null,
      "grid_auto_flow": null,
      "grid_auto_rows": null,
      "grid_column": null,
      "grid_gap": null,
      "grid_row": null,
      "grid_template_areas": null,
      "grid_template_columns": null,
      "grid_template_rows": null,
      "height": null,
      "justify_content": null,
      "justify_items": null,
      "left": null,
      "margin": null,
      "max_height": null,
      "max_width": null,
      "min_height": null,
      "min_width": null,
      "object_fit": null,
      "object_position": null,
      "order": null,
      "overflow": null,
      "overflow_x": null,
      "overflow_y": null,
      "padding": null,
      "right": null,
      "top": null,
      "visibility": null,
      "width": null
     }
    },
    "5ff9fd658ebd48b19380578d267f7862": {
     "model_module": "@jupyter-widgets/base",
     "model_module_version": "1.2.0",
     "model_name": "LayoutModel",
     "state": {
      "_model_module": "@jupyter-widgets/base",
      "_model_module_version": "1.2.0",
      "_model_name": "LayoutModel",
      "_view_count": null,
      "_view_module": "@jupyter-widgets/base",
      "_view_module_version": "1.2.0",
      "_view_name": "LayoutView",
      "align_content": null,
      "align_items": null,
      "align_self": null,
      "border": null,
      "bottom": null,
      "display": null,
      "flex": null,
      "flex_flow": null,
      "grid_area": null,
      "grid_auto_columns": null,
      "grid_auto_flow": null,
      "grid_auto_rows": null,
      "grid_column": null,
      "grid_gap": null,
      "grid_row": null,
      "grid_template_areas": null,
      "grid_template_columns": null,
      "grid_template_rows": null,
      "height": null,
      "justify_content": null,
      "justify_items": null,
      "left": null,
      "margin": null,
      "max_height": null,
      "max_width": null,
      "min_height": null,
      "min_width": null,
      "object_fit": null,
      "object_position": null,
      "order": null,
      "overflow": null,
      "overflow_x": null,
      "overflow_y": null,
      "padding": null,
      "right": null,
      "top": null,
      "visibility": null,
      "width": null
     }
    },
    "606d84e02dbc4c48a18eefce8d3e1229": {
     "model_module": "@jupyter-widgets/base",
     "model_module_version": "1.2.0",
     "model_name": "LayoutModel",
     "state": {
      "_model_module": "@jupyter-widgets/base",
      "_model_module_version": "1.2.0",
      "_model_name": "LayoutModel",
      "_view_count": null,
      "_view_module": "@jupyter-widgets/base",
      "_view_module_version": "1.2.0",
      "_view_name": "LayoutView",
      "align_content": null,
      "align_items": null,
      "align_self": null,
      "border": null,
      "bottom": null,
      "display": null,
      "flex": null,
      "flex_flow": null,
      "grid_area": null,
      "grid_auto_columns": null,
      "grid_auto_flow": null,
      "grid_auto_rows": null,
      "grid_column": null,
      "grid_gap": null,
      "grid_row": null,
      "grid_template_areas": null,
      "grid_template_columns": null,
      "grid_template_rows": null,
      "height": null,
      "justify_content": null,
      "justify_items": null,
      "left": null,
      "margin": null,
      "max_height": null,
      "max_width": null,
      "min_height": null,
      "min_width": null,
      "object_fit": null,
      "object_position": null,
      "order": null,
      "overflow": null,
      "overflow_x": null,
      "overflow_y": null,
      "padding": null,
      "right": null,
      "top": null,
      "visibility": null,
      "width": null
     }
    },
    "62997327bca449a689898b22e097da07": {
     "model_module": "@jupyter-widgets/base",
     "model_module_version": "1.2.0",
     "model_name": "LayoutModel",
     "state": {
      "_model_module": "@jupyter-widgets/base",
      "_model_module_version": "1.2.0",
      "_model_name": "LayoutModel",
      "_view_count": null,
      "_view_module": "@jupyter-widgets/base",
      "_view_module_version": "1.2.0",
      "_view_name": "LayoutView",
      "align_content": null,
      "align_items": null,
      "align_self": null,
      "border": null,
      "bottom": null,
      "display": null,
      "flex": null,
      "flex_flow": null,
      "grid_area": null,
      "grid_auto_columns": null,
      "grid_auto_flow": null,
      "grid_auto_rows": null,
      "grid_column": null,
      "grid_gap": null,
      "grid_row": null,
      "grid_template_areas": null,
      "grid_template_columns": null,
      "grid_template_rows": null,
      "height": null,
      "justify_content": null,
      "justify_items": null,
      "left": null,
      "margin": null,
      "max_height": null,
      "max_width": null,
      "min_height": null,
      "min_width": null,
      "object_fit": null,
      "object_position": null,
      "order": null,
      "overflow": null,
      "overflow_x": null,
      "overflow_y": null,
      "padding": null,
      "right": null,
      "top": null,
      "visibility": null,
      "width": null
     }
    },
    "6704bc1b89bb426f9fa61201ca56f302": {
     "model_module": "@jupyter-widgets/base",
     "model_module_version": "1.2.0",
     "model_name": "LayoutModel",
     "state": {
      "_model_module": "@jupyter-widgets/base",
      "_model_module_version": "1.2.0",
      "_model_name": "LayoutModel",
      "_view_count": null,
      "_view_module": "@jupyter-widgets/base",
      "_view_module_version": "1.2.0",
      "_view_name": "LayoutView",
      "align_content": null,
      "align_items": null,
      "align_self": null,
      "border": null,
      "bottom": null,
      "display": null,
      "flex": null,
      "flex_flow": null,
      "grid_area": null,
      "grid_auto_columns": null,
      "grid_auto_flow": null,
      "grid_auto_rows": null,
      "grid_column": null,
      "grid_gap": null,
      "grid_row": null,
      "grid_template_areas": null,
      "grid_template_columns": null,
      "grid_template_rows": null,
      "height": null,
      "justify_content": null,
      "justify_items": null,
      "left": null,
      "margin": null,
      "max_height": null,
      "max_width": null,
      "min_height": null,
      "min_width": null,
      "object_fit": null,
      "object_position": null,
      "order": null,
      "overflow": null,
      "overflow_x": null,
      "overflow_y": null,
      "padding": null,
      "right": null,
      "top": null,
      "visibility": null,
      "width": null
     }
    },
    "6a9be5c5f5cf4e4e954a01f875e481cf": {
     "model_module": "@jupyter-widgets/controls",
     "model_module_version": "1.5.0",
     "model_name": "HTMLModel",
     "state": {
      "_dom_classes": [],
      "_model_module": "@jupyter-widgets/controls",
      "_model_module_version": "1.5.0",
      "_model_name": "HTMLModel",
      "_view_count": null,
      "_view_module": "@jupyter-widgets/controls",
      "_view_module_version": "1.5.0",
      "_view_name": "HTMLView",
      "description": "",
      "description_tooltip": null,
      "layout": "IPY_MODEL_967a4261309a4e37a9ef6b1a82f61646",
      "placeholder": "​",
      "style": "IPY_MODEL_a9a85304694f43d396b44ba4ec5c9c21",
      "value": " 30306/30306 [03:28&lt;00:00, 157.72it/s]"
     }
    },
    "7623c0ba63fd4158b9e45281a560b388": {
     "model_module": "@jupyter-widgets/controls",
     "model_module_version": "1.5.0",
     "model_name": "HBoxModel",
     "state": {
      "_dom_classes": [],
      "_model_module": "@jupyter-widgets/controls",
      "_model_module_version": "1.5.0",
      "_model_name": "HBoxModel",
      "_view_count": null,
      "_view_module": "@jupyter-widgets/controls",
      "_view_module_version": "1.5.0",
      "_view_name": "HBoxView",
      "box_style": "",
      "children": [
       "IPY_MODEL_4dad592fe8404a1ba3b0d7facf728614",
       "IPY_MODEL_ad783fa083fc4463a4ffe924a604f5f7",
       "IPY_MODEL_6a9be5c5f5cf4e4e954a01f875e481cf"
      ],
      "layout": "IPY_MODEL_5ff9fd658ebd48b19380578d267f7862"
     }
    },
    "7651b0a5c349485a9dffb6d49ae905cb": {
     "model_module": "@jupyter-widgets/base",
     "model_module_version": "1.2.0",
     "model_name": "LayoutModel",
     "state": {
      "_model_module": "@jupyter-widgets/base",
      "_model_module_version": "1.2.0",
      "_model_name": "LayoutModel",
      "_view_count": null,
      "_view_module": "@jupyter-widgets/base",
      "_view_module_version": "1.2.0",
      "_view_name": "LayoutView",
      "align_content": null,
      "align_items": null,
      "align_self": null,
      "border": null,
      "bottom": null,
      "display": null,
      "flex": null,
      "flex_flow": null,
      "grid_area": null,
      "grid_auto_columns": null,
      "grid_auto_flow": null,
      "grid_auto_rows": null,
      "grid_column": null,
      "grid_gap": null,
      "grid_row": null,
      "grid_template_areas": null,
      "grid_template_columns": null,
      "grid_template_rows": null,
      "height": null,
      "justify_content": null,
      "justify_items": null,
      "left": null,
      "margin": null,
      "max_height": null,
      "max_width": null,
      "min_height": null,
      "min_width": null,
      "object_fit": null,
      "object_position": null,
      "order": null,
      "overflow": null,
      "overflow_x": null,
      "overflow_y": null,
      "padding": null,
      "right": null,
      "top": null,
      "visibility": null,
      "width": null
     }
    },
    "7782f10162994057beceb7f27249d69f": {
     "model_module": "@jupyter-widgets/controls",
     "model_module_version": "1.5.0",
     "model_name": "ProgressStyleModel",
     "state": {
      "_model_module": "@jupyter-widgets/controls",
      "_model_module_version": "1.5.0",
      "_model_name": "ProgressStyleModel",
      "_view_count": null,
      "_view_module": "@jupyter-widgets/base",
      "_view_module_version": "1.2.0",
      "_view_name": "StyleView",
      "bar_color": null,
      "description_width": ""
     }
    },
    "790ed3aeb1db4ae1abbbdb762e8bc34a": {
     "model_module": "@jupyter-widgets/controls",
     "model_module_version": "1.5.0",
     "model_name": "FloatProgressModel",
     "state": {
      "_dom_classes": [],
      "_model_module": "@jupyter-widgets/controls",
      "_model_module_version": "1.5.0",
      "_model_name": "FloatProgressModel",
      "_view_count": null,
      "_view_module": "@jupyter-widgets/controls",
      "_view_module_version": "1.5.0",
      "_view_name": "ProgressView",
      "bar_style": "success",
      "description": "",
      "description_tooltip": null,
      "layout": "IPY_MODEL_1ee30b73fa3b4f7bb68c11b5c6db4b75",
      "max": 20204,
      "min": 0,
      "orientation": "horizontal",
      "style": "IPY_MODEL_d19b3dee6bd149c08c6dd9df064c58ca",
      "value": 20204
     }
    },
    "851c55c19b1c4444a2fe471a19bf6f5c": {
     "model_module": "@jupyter-widgets/base",
     "model_module_version": "1.2.0",
     "model_name": "LayoutModel",
     "state": {
      "_model_module": "@jupyter-widgets/base",
      "_model_module_version": "1.2.0",
      "_model_name": "LayoutModel",
      "_view_count": null,
      "_view_module": "@jupyter-widgets/base",
      "_view_module_version": "1.2.0",
      "_view_name": "LayoutView",
      "align_content": null,
      "align_items": null,
      "align_self": null,
      "border": null,
      "bottom": null,
      "display": null,
      "flex": null,
      "flex_flow": null,
      "grid_area": null,
      "grid_auto_columns": null,
      "grid_auto_flow": null,
      "grid_auto_rows": null,
      "grid_column": null,
      "grid_gap": null,
      "grid_row": null,
      "grid_template_areas": null,
      "grid_template_columns": null,
      "grid_template_rows": null,
      "height": null,
      "justify_content": null,
      "justify_items": null,
      "left": null,
      "margin": null,
      "max_height": null,
      "max_width": null,
      "min_height": null,
      "min_width": null,
      "object_fit": null,
      "object_position": null,
      "order": null,
      "overflow": null,
      "overflow_x": null,
      "overflow_y": null,
      "padding": null,
      "right": null,
      "top": null,
      "visibility": null,
      "width": null
     }
    },
    "8c8020fa347245c688eef92df90970c1": {
     "model_module": "@jupyter-widgets/base",
     "model_module_version": "1.2.0",
     "model_name": "LayoutModel",
     "state": {
      "_model_module": "@jupyter-widgets/base",
      "_model_module_version": "1.2.0",
      "_model_name": "LayoutModel",
      "_view_count": null,
      "_view_module": "@jupyter-widgets/base",
      "_view_module_version": "1.2.0",
      "_view_name": "LayoutView",
      "align_content": null,
      "align_items": null,
      "align_self": null,
      "border": null,
      "bottom": null,
      "display": null,
      "flex": null,
      "flex_flow": null,
      "grid_area": null,
      "grid_auto_columns": null,
      "grid_auto_flow": null,
      "grid_auto_rows": null,
      "grid_column": null,
      "grid_gap": null,
      "grid_row": null,
      "grid_template_areas": null,
      "grid_template_columns": null,
      "grid_template_rows": null,
      "height": null,
      "justify_content": null,
      "justify_items": null,
      "left": null,
      "margin": null,
      "max_height": null,
      "max_width": null,
      "min_height": null,
      "min_width": null,
      "object_fit": null,
      "object_position": null,
      "order": null,
      "overflow": null,
      "overflow_x": null,
      "overflow_y": null,
      "padding": null,
      "right": null,
      "top": null,
      "visibility": null,
      "width": null
     }
    },
    "8e843772ff2d4519b4b735364f6b9838": {
     "model_module": "@jupyter-widgets/controls",
     "model_module_version": "1.5.0",
     "model_name": "DescriptionStyleModel",
     "state": {
      "_model_module": "@jupyter-widgets/controls",
      "_model_module_version": "1.5.0",
      "_model_name": "DescriptionStyleModel",
      "_view_count": null,
      "_view_module": "@jupyter-widgets/base",
      "_view_module_version": "1.2.0",
      "_view_name": "StyleView",
      "description_width": ""
     }
    },
    "967a4261309a4e37a9ef6b1a82f61646": {
     "model_module": "@jupyter-widgets/base",
     "model_module_version": "1.2.0",
     "model_name": "LayoutModel",
     "state": {
      "_model_module": "@jupyter-widgets/base",
      "_model_module_version": "1.2.0",
      "_model_name": "LayoutModel",
      "_view_count": null,
      "_view_module": "@jupyter-widgets/base",
      "_view_module_version": "1.2.0",
      "_view_name": "LayoutView",
      "align_content": null,
      "align_items": null,
      "align_self": null,
      "border": null,
      "bottom": null,
      "display": null,
      "flex": null,
      "flex_flow": null,
      "grid_area": null,
      "grid_auto_columns": null,
      "grid_auto_flow": null,
      "grid_auto_rows": null,
      "grid_column": null,
      "grid_gap": null,
      "grid_row": null,
      "grid_template_areas": null,
      "grid_template_columns": null,
      "grid_template_rows": null,
      "height": null,
      "justify_content": null,
      "justify_items": null,
      "left": null,
      "margin": null,
      "max_height": null,
      "max_width": null,
      "min_height": null,
      "min_width": null,
      "object_fit": null,
      "object_position": null,
      "order": null,
      "overflow": null,
      "overflow_x": null,
      "overflow_y": null,
      "padding": null,
      "right": null,
      "top": null,
      "visibility": null,
      "width": null
     }
    },
    "978069daef644d4891184dda0583ac41": {
     "model_module": "@jupyter-widgets/controls",
     "model_module_version": "1.5.0",
     "model_name": "HBoxModel",
     "state": {
      "_dom_classes": [],
      "_model_module": "@jupyter-widgets/controls",
      "_model_module_version": "1.5.0",
      "_model_name": "HBoxModel",
      "_view_count": null,
      "_view_module": "@jupyter-widgets/controls",
      "_view_module_version": "1.5.0",
      "_view_name": "HBoxView",
      "box_style": "",
      "children": [
       "IPY_MODEL_08efa923d6634898b5ece1b69aa46c46",
       "IPY_MODEL_edee65f8e27e43a1894ebafd0d7d1229",
       "IPY_MODEL_e5cc6247e5084c08b993a95a1bdb0277"
      ],
      "layout": "IPY_MODEL_2e81accd1c3240f69ff8a9e7e6cbb8c4"
     }
    },
    "a06849bf21294dd0a465ec030e5de926": {
     "model_module": "@jupyter-widgets/controls",
     "model_module_version": "1.5.0",
     "model_name": "DescriptionStyleModel",
     "state": {
      "_model_module": "@jupyter-widgets/controls",
      "_model_module_version": "1.5.0",
      "_model_name": "DescriptionStyleModel",
      "_view_count": null,
      "_view_module": "@jupyter-widgets/base",
      "_view_module_version": "1.2.0",
      "_view_name": "StyleView",
      "description_width": ""
     }
    },
    "a9a85304694f43d396b44ba4ec5c9c21": {
     "model_module": "@jupyter-widgets/controls",
     "model_module_version": "1.5.0",
     "model_name": "DescriptionStyleModel",
     "state": {
      "_model_module": "@jupyter-widgets/controls",
      "_model_module_version": "1.5.0",
      "_model_name": "DescriptionStyleModel",
      "_view_count": null,
      "_view_module": "@jupyter-widgets/base",
      "_view_module_version": "1.2.0",
      "_view_name": "StyleView",
      "description_width": ""
     }
    },
    "ad783fa083fc4463a4ffe924a604f5f7": {
     "model_module": "@jupyter-widgets/controls",
     "model_module_version": "1.5.0",
     "model_name": "FloatProgressModel",
     "state": {
      "_dom_classes": [],
      "_model_module": "@jupyter-widgets/controls",
      "_model_module_version": "1.5.0",
      "_model_name": "FloatProgressModel",
      "_view_count": null,
      "_view_module": "@jupyter-widgets/controls",
      "_view_module_version": "1.5.0",
      "_view_name": "ProgressView",
      "bar_style": "success",
      "description": "",
      "description_tooltip": null,
      "layout": "IPY_MODEL_f343db475d224b369478d8b13ce25486",
      "max": 30306,
      "min": 0,
      "orientation": "horizontal",
      "style": "IPY_MODEL_0e286dba2d2440f9ae6591dad2471c27",
      "value": 30306
     }
    },
    "b2b541013c75455e97d652f226775cdc": {
     "model_module": "@jupyter-widgets/controls",
     "model_module_version": "1.5.0",
     "model_name": "FloatProgressModel",
     "state": {
      "_dom_classes": [],
      "_model_module": "@jupyter-widgets/controls",
      "_model_module_version": "1.5.0",
      "_model_name": "FloatProgressModel",
      "_view_count": null,
      "_view_module": "@jupyter-widgets/controls",
      "_view_module_version": "1.5.0",
      "_view_name": "ProgressView",
      "bar_style": "success",
      "description": "",
      "description_tooltip": null,
      "layout": "IPY_MODEL_606d84e02dbc4c48a18eefce8d3e1229",
      "max": 75765,
      "min": 0,
      "orientation": "horizontal",
      "style": "IPY_MODEL_0da6619ec40f453984aa214b8fa5bd56",
      "value": 75765
     }
    },
    "c24ead537b624ea4bf663c0fa0296ee3": {
     "model_module": "@jupyter-widgets/controls",
     "model_module_version": "1.5.0",
     "model_name": "DescriptionStyleModel",
     "state": {
      "_model_module": "@jupyter-widgets/controls",
      "_model_module_version": "1.5.0",
      "_model_name": "DescriptionStyleModel",
      "_view_count": null,
      "_view_module": "@jupyter-widgets/base",
      "_view_module_version": "1.2.0",
      "_view_name": "StyleView",
      "description_width": ""
     }
    },
    "cb800988f76d499ab0caf729d9b0f29b": {
     "model_module": "@jupyter-widgets/controls",
     "model_module_version": "1.5.0",
     "model_name": "HTMLModel",
     "state": {
      "_dom_classes": [],
      "_model_module": "@jupyter-widgets/controls",
      "_model_module_version": "1.5.0",
      "_model_name": "HTMLModel",
      "_view_count": null,
      "_view_module": "@jupyter-widgets/controls",
      "_view_module_version": "1.5.0",
      "_view_name": "HTMLView",
      "description": "",
      "description_tooltip": null,
      "layout": "IPY_MODEL_3a3b059198fc4e339ede86366f7640b0",
      "placeholder": "​",
      "style": "IPY_MODEL_ffdbc872f6034b9ebfe18837214541c7",
      "value": " 20204/20204 [02:18&lt;00:00, 166.78it/s]"
     }
    },
    "d19b3dee6bd149c08c6dd9df064c58ca": {
     "model_module": "@jupyter-widgets/controls",
     "model_module_version": "1.5.0",
     "model_name": "ProgressStyleModel",
     "state": {
      "_model_module": "@jupyter-widgets/controls",
      "_model_module_version": "1.5.0",
      "_model_name": "ProgressStyleModel",
      "_view_count": null,
      "_view_module": "@jupyter-widgets/base",
      "_view_module_version": "1.2.0",
      "_view_name": "StyleView",
      "bar_color": null,
      "description_width": ""
     }
    },
    "d3063f5202c54dcba5146f7aa6df16fa": {
     "model_module": "@jupyter-widgets/controls",
     "model_module_version": "1.5.0",
     "model_name": "HTMLModel",
     "state": {
      "_dom_classes": [],
      "_model_module": "@jupyter-widgets/controls",
      "_model_module_version": "1.5.0",
      "_model_name": "HTMLModel",
      "_view_count": null,
      "_view_module": "@jupyter-widgets/controls",
      "_view_module_version": "1.5.0",
      "_view_name": "HTMLView",
      "description": "",
      "description_tooltip": null,
      "layout": "IPY_MODEL_3b03ce98a4eb453084f21dbc0d4659d2",
      "placeholder": "​",
      "style": "IPY_MODEL_f15ba7b48809496cbc81c97166c70a31",
      "value": "Processing records: 100%"
     }
    },
    "d64d15fb146d4e62ba04dfb922048edc": {
     "model_module": "@jupyter-widgets/controls",
     "model_module_version": "1.5.0",
     "model_name": "DescriptionStyleModel",
     "state": {
      "_model_module": "@jupyter-widgets/controls",
      "_model_module_version": "1.5.0",
      "_model_name": "DescriptionStyleModel",
      "_view_count": null,
      "_view_module": "@jupyter-widgets/base",
      "_view_module_version": "1.2.0",
      "_view_name": "StyleView",
      "description_width": ""
     }
    },
    "e08f7b60626d4e64afa19f53ed7ecb06": {
     "model_module": "@jupyter-widgets/controls",
     "model_module_version": "1.5.0",
     "model_name": "DescriptionStyleModel",
     "state": {
      "_model_module": "@jupyter-widgets/controls",
      "_model_module_version": "1.5.0",
      "_model_name": "DescriptionStyleModel",
      "_view_count": null,
      "_view_module": "@jupyter-widgets/base",
      "_view_module_version": "1.2.0",
      "_view_name": "StyleView",
      "description_width": ""
     }
    },
    "e5cc6247e5084c08b993a95a1bdb0277": {
     "model_module": "@jupyter-widgets/controls",
     "model_module_version": "1.5.0",
     "model_name": "HTMLModel",
     "state": {
      "_dom_classes": [],
      "_model_module": "@jupyter-widgets/controls",
      "_model_module_version": "1.5.0",
      "_model_name": "HTMLModel",
      "_view_count": null,
      "_view_module": "@jupyter-widgets/controls",
      "_view_module_version": "1.5.0",
      "_view_name": "HTMLView",
      "description": "",
      "description_tooltip": null,
      "layout": "IPY_MODEL_62997327bca449a689898b22e097da07",
      "placeholder": "​",
      "style": "IPY_MODEL_e08f7b60626d4e64afa19f53ed7ecb06",
      "value": " 25255/25255 [02:36&lt;00:00, 179.20it/s]"
     }
    },
    "eca0a439b6b44663b3b55667e2bd7af1": {
     "model_module": "@jupyter-widgets/base",
     "model_module_version": "1.2.0",
     "model_name": "LayoutModel",
     "state": {
      "_model_module": "@jupyter-widgets/base",
      "_model_module_version": "1.2.0",
      "_model_name": "LayoutModel",
      "_view_count": null,
      "_view_module": "@jupyter-widgets/base",
      "_view_module_version": "1.2.0",
      "_view_name": "LayoutView",
      "align_content": null,
      "align_items": null,
      "align_self": null,
      "border": null,
      "bottom": null,
      "display": null,
      "flex": null,
      "flex_flow": null,
      "grid_area": null,
      "grid_auto_columns": null,
      "grid_auto_flow": null,
      "grid_auto_rows": null,
      "grid_column": null,
      "grid_gap": null,
      "grid_row": null,
      "grid_template_areas": null,
      "grid_template_columns": null,
      "grid_template_rows": null,
      "height": null,
      "justify_content": null,
      "justify_items": null,
      "left": null,
      "margin": null,
      "max_height": null,
      "max_width": null,
      "min_height": null,
      "min_width": null,
      "object_fit": null,
      "object_position": null,
      "order": null,
      "overflow": null,
      "overflow_x": null,
      "overflow_y": null,
      "padding": null,
      "right": null,
      "top": null,
      "visibility": null,
      "width": null
     }
    },
    "edee65f8e27e43a1894ebafd0d7d1229": {
     "model_module": "@jupyter-widgets/controls",
     "model_module_version": "1.5.0",
     "model_name": "FloatProgressModel",
     "state": {
      "_dom_classes": [],
      "_model_module": "@jupyter-widgets/controls",
      "_model_module_version": "1.5.0",
      "_model_name": "FloatProgressModel",
      "_view_count": null,
      "_view_module": "@jupyter-widgets/controls",
      "_view_module_version": "1.5.0",
      "_view_name": "ProgressView",
      "bar_style": "success",
      "description": "",
      "description_tooltip": null,
      "layout": "IPY_MODEL_6704bc1b89bb426f9fa61201ca56f302",
      "max": 25255,
      "min": 0,
      "orientation": "horizontal",
      "style": "IPY_MODEL_7782f10162994057beceb7f27249d69f",
      "value": 25255
     }
    },
    "f15ba7b48809496cbc81c97166c70a31": {
     "model_module": "@jupyter-widgets/controls",
     "model_module_version": "1.5.0",
     "model_name": "DescriptionStyleModel",
     "state": {
      "_model_module": "@jupyter-widgets/controls",
      "_model_module_version": "1.5.0",
      "_model_name": "DescriptionStyleModel",
      "_view_count": null,
      "_view_module": "@jupyter-widgets/base",
      "_view_module_version": "1.2.0",
      "_view_name": "StyleView",
      "description_width": ""
     }
    },
    "f343db475d224b369478d8b13ce25486": {
     "model_module": "@jupyter-widgets/base",
     "model_module_version": "1.2.0",
     "model_name": "LayoutModel",
     "state": {
      "_model_module": "@jupyter-widgets/base",
      "_model_module_version": "1.2.0",
      "_model_name": "LayoutModel",
      "_view_count": null,
      "_view_module": "@jupyter-widgets/base",
      "_view_module_version": "1.2.0",
      "_view_name": "LayoutView",
      "align_content": null,
      "align_items": null,
      "align_self": null,
      "border": null,
      "bottom": null,
      "display": null,
      "flex": null,
      "flex_flow": null,
      "grid_area": null,
      "grid_auto_columns": null,
      "grid_auto_flow": null,
      "grid_auto_rows": null,
      "grid_column": null,
      "grid_gap": null,
      "grid_row": null,
      "grid_template_areas": null,
      "grid_template_columns": null,
      "grid_template_rows": null,
      "height": null,
      "justify_content": null,
      "justify_items": null,
      "left": null,
      "margin": null,
      "max_height": null,
      "max_width": null,
      "min_height": null,
      "min_width": null,
      "object_fit": null,
      "object_position": null,
      "order": null,
      "overflow": null,
      "overflow_x": null,
      "overflow_y": null,
      "padding": null,
      "right": null,
      "top": null,
      "visibility": null,
      "width": null
     }
    },
    "ffdbc872f6034b9ebfe18837214541c7": {
     "model_module": "@jupyter-widgets/controls",
     "model_module_version": "1.5.0",
     "model_name": "DescriptionStyleModel",
     "state": {
      "_model_module": "@jupyter-widgets/controls",
      "_model_module_version": "1.5.0",
      "_model_name": "DescriptionStyleModel",
      "_view_count": null,
      "_view_module": "@jupyter-widgets/base",
      "_view_module_version": "1.2.0",
      "_view_name": "StyleView",
      "description_width": ""
     }
    }
   }
  }
 },
 "nbformat": 4,
 "nbformat_minor": 1
}
